{
  "cells": [
    {
      "cell_type": "markdown",
      "metadata": {
        "id": "view-in-github",
        "colab_type": "text"
      },
      "source": [
        "<a href=\"https://colab.research.google.com/github/cppel/data/blob/main/1_%D0%9F%D1%80%D0%B0%D0%BA%D1%82%D0%B8%D0%BA%D0%B0_Numpy.ipynb\" target=\"_parent\"><img src=\"https://colab.research.google.com/assets/colab-badge.svg\" alt=\"Open In Colab\"/></a>"
      ]
    },
    {
      "cell_type": "markdown",
      "metadata": {
        "id": "BF4grSYKg73V"
      },
      "source": [
        "# Практика Numpy\n",
        "\n",
        "1. Скачайте этот блокнот к себе.\n",
        "2. Заполните пропущенные ячейки, отвечая на заданные вопросы. Там должен быть код! (если не сказано обратное)\n",
        "3. Сохраните результат в своём гитхаб репозитории.\n",
        "\n",
        "#### Полезная литература\n",
        "- [**Блокнот с теорией**](https://clck.ru/35fwMP)\n",
        "- http://www.numpy.org/\n",
        "- https://jakevdp.github.io/PythonDataScienceHandbook/02.00-introduction-to-numpy.html\n",
        "- https://docs.scipy.org/doc/numpy/user/quickstart.html\n"
      ]
    },
    {
      "cell_type": "markdown",
      "metadata": {
        "id": "M-XimTy4g73X"
      },
      "source": [
        "1) Импортировать numpy и написать версию"
      ]
    },
    {
      "cell_type": "code",
      "execution_count": null,
      "metadata": {
        "id": "edTYJytqg73Y",
        "colab": {
          "base_uri": "https://localhost:8080/",
          "height": 35
        },
        "outputId": "344ed27e-cf7c-40c0-e79b-2fd9f8b02455"
      },
      "outputs": [
        {
          "output_type": "execute_result",
          "data": {
            "text/plain": [
              "'1.23.5'"
            ],
            "application/vnd.google.colaboratory.intrinsic+json": {
              "type": "string"
            }
          },
          "metadata": {},
          "execution_count": 1
        }
      ],
      "source": [
        "import numpy as np\n",
        "np.__version__"
      ]
    },
    {
      "cell_type": "markdown",
      "metadata": {
        "id": "Js6HVXOxg73Y"
      },
      "source": [
        "2) Создать нулевой вектор размера 10"
      ]
    },
    {
      "cell_type": "code",
      "execution_count": null,
      "metadata": {
        "id": "nm7ledVLg73Y",
        "colab": {
          "base_uri": "https://localhost:8080/"
        },
        "outputId": "35ff35fa-e7af-4f0f-8983-cd706e52c9c0"
      },
      "outputs": [
        {
          "output_type": "execute_result",
          "data": {
            "text/plain": [
              "array([0., 0., 0., 0., 0., 0., 0., 0., 0., 0.])"
            ]
          },
          "metadata": {},
          "execution_count": 2
        }
      ],
      "source": [
        "np.zeros(10)"
      ]
    },
    {
      "cell_type": "markdown",
      "metadata": {
        "id": "8SDeVDHPg73Z"
      },
      "source": [
        "3) Создать вектор заполненный 7-ами размера 7"
      ]
    },
    {
      "cell_type": "code",
      "execution_count": null,
      "metadata": {
        "id": "ckz5rNtug73Z",
        "colab": {
          "base_uri": "https://localhost:8080/"
        },
        "outputId": "a8f3d580-78cd-448e-8b25-3cf54f256ac0"
      },
      "outputs": [
        {
          "output_type": "stream",
          "name": "stdout",
          "text": [
            "[7. 7. 7. 7. 7. 7. 7.] 7\n"
          ]
        }
      ],
      "source": [
        "vec = np.empty(7)\n",
        "vec.fill(7)\n",
        "\n",
        "print(vec, len(vec))"
      ]
    },
    {
      "cell_type": "markdown",
      "metadata": {
        "id": "3HFGpanUg73Z"
      },
      "source": [
        "4) Создать вектор заполненный четными числами от 10 до 100"
      ]
    },
    {
      "cell_type": "code",
      "execution_count": null,
      "metadata": {
        "id": "PxQfwkHFg73Z",
        "colab": {
          "base_uri": "https://localhost:8080/"
        },
        "outputId": "a171f7db-7e7a-4e6b-9e58-8b139bc9c180"
      },
      "outputs": [
        {
          "output_type": "execute_result",
          "data": {
            "text/plain": [
              "array([10, 12, 14, 16, 18, 20, 22, 24, 26, 28, 30, 32, 34, 36, 38, 40, 42,\n",
              "       44, 46, 48, 50, 52, 54, 56, 58, 60, 62, 64, 66, 68, 70, 72, 74, 76,\n",
              "       78, 80, 82, 84, 86, 88, 90, 92, 94, 96, 98])"
            ]
          },
          "metadata": {},
          "execution_count": 4
        }
      ],
      "source": [
        "np.arange(10, 100, 2)"
      ]
    },
    {
      "cell_type": "markdown",
      "metadata": {
        "id": "Kr_pZe-eg73a"
      },
      "source": [
        "5) Создать массив случайных чисел и развернуть его задом наперёд"
      ]
    },
    {
      "cell_type": "code",
      "execution_count": null,
      "metadata": {
        "id": "n-z2Zbhkg73a",
        "colab": {
          "base_uri": "https://localhost:8080/"
        },
        "outputId": "d990bef7-8f00-4d20-cb6a-52db10a2bc9a"
      },
      "outputs": [
        {
          "output_type": "stream",
          "name": "stdout",
          "text": [
            "[0.05295468 0.36623761 0.6530164  0.92981051 0.82782576 0.38078217\n",
            " 0.93796174 0.93290795 0.56953656 0.29312514]\n",
            "[0.29312514 0.56953656 0.93290795 0.93796174 0.38078217 0.82782576\n",
            " 0.92981051 0.6530164  0.36623761 0.05295468]\n"
          ]
        }
      ],
      "source": [
        "out = np.random.rand(10)\n",
        "print(out)\n",
        "\n",
        "inverted = out[::-1]\n",
        "print(inverted)"
      ]
    },
    {
      "cell_type": "markdown",
      "metadata": {
        "id": "wFsBRv3Yg73a"
      },
      "source": [
        "6) Создать двумерную матрицу размера 3 на 3, заполненную числами от 0 до 9"
      ]
    },
    {
      "cell_type": "code",
      "execution_count": null,
      "metadata": {
        "id": "FBHjViULg73a",
        "colab": {
          "base_uri": "https://localhost:8080/"
        },
        "outputId": "2f71c790-cbd6-4ec0-ba74-86e4e7db5f4b"
      },
      "outputs": [
        {
          "output_type": "stream",
          "name": "stdout",
          "text": [
            "[[0 1 2]\n",
            " [3 4 5]\n",
            " [6 7 8]]\n"
          ]
        }
      ],
      "source": [
        "x =  np.arange(0, 9).reshape(3,3)\n",
        "print(x)"
      ]
    },
    {
      "cell_type": "markdown",
      "metadata": {
        "id": "DSB6smQyg73a"
      },
      "source": [
        "7) Создать матрицу размера 4 на 4 с единицами на диагонали смещеной на один наверх."
      ]
    },
    {
      "cell_type": "code",
      "execution_count": null,
      "metadata": {
        "id": "P_hy17H9g73b",
        "colab": {
          "base_uri": "https://localhost:8080/"
        },
        "outputId": "e65c027b-2a24-41d9-92c5-1a8c9f38b988"
      },
      "outputs": [
        {
          "output_type": "execute_result",
          "data": {
            "text/plain": [
              "array([[0., 1., 0., 0.],\n",
              "       [0., 0., 1., 0.],\n",
              "       [0., 0., 0., 1.],\n",
              "       [0., 0., 0., 0.]])"
            ]
          },
          "metadata": {},
          "execution_count": 7
        }
      ],
      "source": [
        "np.eye(4, k=1)"
      ]
    },
    {
      "cell_type": "markdown",
      "metadata": {
        "id": "hLSsjUbPg73b"
      },
      "source": [
        "8) Создать матрицу с числами в диапазоне от 1 до 4 по диагонали. В других ячейках матрицы должны быть семерки."
      ]
    },
    {
      "cell_type": "code",
      "execution_count": null,
      "metadata": {
        "id": "H1N9NhU_g73b",
        "colab": {
          "base_uri": "https://localhost:8080/"
        },
        "outputId": "4ba07c19-d573-4f9f-d7d5-752cf01a2eb0"
      },
      "outputs": [
        {
          "output_type": "stream",
          "name": "stdout",
          "text": [
            "[[1 7 7 7]\n",
            " [7 2 7 7]\n",
            " [7 7 3 7]\n",
            " [7 7 7 4]]\n"
          ]
        }
      ],
      "source": [
        "m = np.full((4,4), 7)\n",
        "np.fill_diagonal(m, [1,2,3,4])\n",
        "print(m)"
      ]
    },
    {
      "cell_type": "markdown",
      "metadata": {
        "id": "A4Z7Hb96g73b"
      },
      "source": [
        "9) Создать матрицу размера 5 на 5 заполненную чилами от 0 до 4 в строках."
      ]
    },
    {
      "cell_type": "code",
      "execution_count": null,
      "metadata": {
        "id": "JBWWjMdvg73b",
        "colab": {
          "base_uri": "https://localhost:8080/"
        },
        "outputId": "7f89e3e4-621b-40ed-c29a-7253fef17c9c"
      },
      "outputs": [
        {
          "output_type": "execute_result",
          "data": {
            "text/plain": [
              "array([[0, 1, 2, 3, 4],\n",
              "       [0, 1, 2, 3, 4],\n",
              "       [0, 1, 2, 3, 4],\n",
              "       [0, 1, 2, 3, 4],\n",
              "       [0, 1, 2, 3, 4]])"
            ]
          },
          "metadata": {},
          "execution_count": 11
        }
      ],
      "source": [
        "np.full((5, 5), [0, 1,2,3,4])"
      ]
    },
    {
      "cell_type": "markdown",
      "metadata": {
        "id": "0nPC4cNcg73b"
      },
      "source": [
        "10) Создать матрицу случайных чисел размера 10 на 10 и отнять среднее по строкам из каждого элемента строки"
      ]
    },
    {
      "cell_type": "code",
      "execution_count": null,
      "metadata": {
        "id": "DiXDOccEg73c",
        "colab": {
          "base_uri": "https://localhost:8080/"
        },
        "outputId": "f7b57366-ffb9-48f6-ae32-b26b0f1d749f"
      },
      "outputs": [
        {
          "output_type": "stream",
          "name": "stdout",
          "text": [
            "[[0.4420447  0.87139249 0.41776498 0.74484193 0.11818273 0.11787252\n",
            "  0.74959552 0.66602119 0.7235337  0.23492148]\n",
            " [0.39751752 0.47837962 0.61940977 0.84565726 0.97220167 0.07138254\n",
            "  0.80162267 0.39623587 0.00459558 0.88043672]\n",
            " [0.74718368 0.94473427 0.2503993  0.63993199 0.10101541 0.82559029\n",
            "  0.77320372 0.16661599 0.62672294 0.56611257]\n",
            " [0.6845255  0.98272958 0.50437692 0.89771574 0.74022297 0.44472682\n",
            "  0.30034399 0.68478142 0.19079886 0.72217479]\n",
            " [0.9326078  0.95661542 0.62770222 0.29152741 0.90517142 0.91912438\n",
            "  0.2125577  0.69457863 0.01404314 0.99367303]\n",
            " [0.50235093 0.09179997 0.82370282 0.73525049 0.28090513 0.89319244\n",
            "  0.68302016 0.25540278 0.42510692 0.14308254]\n",
            " [0.09370801 0.99627519 0.96469753 0.06242305 0.34308394 0.78802355\n",
            "  0.30899861 0.97679171 0.76609634 0.02441278]\n",
            " [0.24851971 0.67618514 0.206158   0.58438328 0.46433699 0.35654577\n",
            "  0.58765881 0.29894523 0.32648424 0.62753968]\n",
            " [0.59577294 0.53282606 0.43007186 0.39964327 0.42453819 0.75185335\n",
            "  0.99892528 0.5742508  0.05093021 0.43829343]\n",
            " [0.24516194 0.07664695 0.16773194 0.64125245 0.98353913 0.44317286\n",
            "  0.8362408  0.3871013  0.39798508 0.55585911]]\n",
            "[[-0.06657242  0.36277537 -0.09085214  0.2362248  -0.39043439 -0.39074461\n",
            "   0.2409784   0.15740407  0.21491657 -0.27369564]\n",
            " [-0.1492264  -0.0683643   0.07266584  0.29891334  0.42545775 -0.47536138\n",
            "   0.25487875 -0.15050805 -0.54214834  0.3336928 ]\n",
            " [ 0.18303266  0.38058326 -0.31375172  0.07578098 -0.4631356   0.26143927\n",
            "   0.20905271 -0.39753502  0.06257193  0.00196155]\n",
            " [ 0.06928584  0.36748992 -0.11086274  0.28247608  0.12498331 -0.17051284\n",
            "  -0.31489567  0.06954177 -0.4244408   0.10693513]\n",
            " [ 0.27784768  0.3018553  -0.0270579  -0.36323271  0.2504113   0.26436427\n",
            "  -0.44220241  0.03981852 -0.64071697  0.33891292]\n",
            " [ 0.01896952 -0.39158145  0.3403214   0.25186907 -0.20247629  0.40981103\n",
            "   0.19963874 -0.22797864 -0.0582745  -0.34029888]\n",
            " [-0.43874306  0.46382412  0.43224646 -0.47002802 -0.18936713  0.25557248\n",
            "  -0.22345246  0.44434064  0.23364527 -0.50803829]\n",
            " [-0.18915598  0.23850946 -0.23151769  0.14670759  0.02666131 -0.08112991\n",
            "   0.14998312 -0.13873045 -0.11119145  0.189864  ]\n",
            " [ 0.0760624   0.01311552 -0.08963868 -0.12006727 -0.09517235  0.23214281\n",
            "   0.47921474  0.05454026 -0.46878033 -0.08141711]\n",
            " [-0.22830722 -0.3968222  -0.30573722  0.1677833   0.51006998 -0.0302963\n",
            "   0.36277164 -0.08636786 -0.07548408  0.08238995]]\n"
          ]
        }
      ],
      "source": [
        "X = np.random.rand(10, 10)\n",
        "print(X)\n",
        "Y = X - X.mean(axis=1, keepdims=True)\n",
        "print(Y)"
      ]
    },
    {
      "cell_type": "markdown",
      "metadata": {
        "id": "ALlG8EA5g73c"
      },
      "source": [
        "11) Создать матрицу случайных чисел размера 10 на 10 и отнять медиану по столбцам из каждого элемента столбца  "
      ]
    },
    {
      "cell_type": "code",
      "execution_count": null,
      "metadata": {
        "id": "J7HvCuXFg73c",
        "colab": {
          "base_uri": "https://localhost:8080/"
        },
        "outputId": "cc90aad0-b6c0-4d58-a7f1-200b93292dd6"
      },
      "outputs": [
        {
          "output_type": "stream",
          "name": "stdout",
          "text": [
            "Original array elements:\n",
            "[[0.16419612 0.00843135 0.88278772 0.9020149  0.79149423 0.69803371\n",
            "  0.57416742 0.78560417 0.96465861 0.48095369]\n",
            " [0.26457959 0.12126978 0.82045361 0.80797071 0.97449005 0.22194767\n",
            "  0.2453848  0.39892294 0.20369676 0.62464914]\n",
            " [0.34224116 0.54572546 0.95766976 0.03257493 0.9312189  0.99811002\n",
            "  0.45553932 0.98464105 0.19063699 0.29570155]\n",
            " [0.45103047 0.67726972 0.72843495 0.61486652 0.3730614  0.31640361\n",
            "  0.25719091 0.0914583  0.22962382 0.75501389]\n",
            " [0.39349711 0.02870406 0.30279806 0.98141702 0.53380555 0.22528794\n",
            "  0.24208274 0.01655422 0.45500565 0.72766971]\n",
            " [0.36397377 0.58595049 0.95137515 0.04583278 0.16436118 0.83175388\n",
            "  0.96045432 0.39108849 0.08590867 0.1458524 ]\n",
            " [0.29531317 0.83346506 0.90344225 0.18206706 0.57341324 0.01203006\n",
            "  0.19809994 0.17382838 0.76898563 0.80567352]\n",
            " [0.50590204 0.85389022 0.25122637 0.26481504 0.06205289 0.90274504\n",
            "  0.60666288 0.56142593 0.67412358 0.07024122]\n",
            " [0.21972075 0.88693027 0.17390639 0.62349799 0.14372433 0.41093228\n",
            "  0.28484302 0.94657798 0.70552171 0.36023502]\n",
            " [0.97131759 0.76231801 0.57259756 0.75552173 0.95831892 0.52729927\n",
            "  0.22228097 0.44509531 0.25569539 0.42863552]]\n",
            "median of each row:\n",
            "[0.35310747 0.63161011 0.77444428 0.61918226 0.55360939 0.46911577\n",
            " 0.27101696 0.42200913 0.35535052 0.45479461]\n",
            "\n",
            "Subtract the med of each row from each element:\n",
            "[[-0.18891135 -0.62317875  0.10834344  0.28283265  0.23788483  0.22891794\n",
            "   0.30315045  0.36359505  0.60930809  0.02615909]\n",
            " [-0.08852787 -0.51034032  0.04600933  0.18878845  0.42088066 -0.2471681\n",
            "  -0.02563216 -0.02308619 -0.15165376  0.16985453]\n",
            " [-0.01086631 -0.08588464  0.18322548 -0.58660732  0.37760951  0.52899425\n",
            "   0.18452235  0.56263192 -0.16471353 -0.15909305]\n",
            " [ 0.09792301  0.04565961 -0.04600933 -0.00431574 -0.18054799 -0.15271216\n",
            "  -0.01382605 -0.33055083 -0.1257267   0.30021928]\n",
            " [ 0.04038964 -0.60290604 -0.47164622  0.36223477 -0.01980385 -0.24382783\n",
            "  -0.02893422 -0.40545491  0.09965513  0.2728751 ]\n",
            " [ 0.01086631 -0.04565961  0.17693087 -0.57334948 -0.38924822  0.3626381\n",
            "   0.68943735 -0.03092063 -0.26944185 -0.30894221]\n",
            " [-0.0577943   0.20185495  0.12899796 -0.43711519  0.01980385 -0.45708572\n",
            "  -0.07291703 -0.24818074  0.41363511  0.35087891]\n",
            " [ 0.15279457  0.22228011 -0.52321792 -0.35436721 -0.49155651  0.43362927\n",
            "   0.33564592  0.1394168   0.31877306 -0.38455339]\n",
            " [-0.13338672  0.25532016 -0.60053789  0.00431574 -0.40988507 -0.0581835\n",
            "   0.01382605  0.52456885  0.35017119 -0.09455958]\n",
            " [ 0.61821013  0.13070791 -0.20184673  0.13633947  0.40470952  0.0581835\n",
            "  -0.048736    0.02308619 -0.09965513 -0.02615909]]\n"
          ]
        }
      ],
      "source": [
        "nums = np.random.rand(10, 10)\n",
        "print(\"Original array elements:\")\n",
        "print(nums)\n",
        "\n",
        "col_med = np.median(nums, axis=0)\n",
        "print(\"median of each row:\")\n",
        "print(col_med)\n",
        "\n",
        "print(\"\\nSubtract the med of each row from each element:\")\n",
        "result = nums - col_med\n",
        "print(result)"
      ]
    },
    {
      "cell_type": "markdown",
      "metadata": {
        "id": "49ooRWtKg73c"
      },
      "source": [
        "12) Создать матрицу случайных чисел 5x5. Добавить к ней столбецы максимумов и минимумов по строкам. Получится матрица 5x7.  "
      ]
    },
    {
      "cell_type": "code",
      "execution_count": null,
      "metadata": {
        "id": "fxazLdb9g73c",
        "colab": {
          "base_uri": "https://localhost:8080/"
        },
        "outputId": "0bfeda73-3b13-49ad-fd5c-c2e8407d9092"
      },
      "outputs": [
        {
          "output_type": "execute_result",
          "data": {
            "text/plain": [
              "array([[ 0,  1,  2,  3,  4],\n",
              "       [ 5,  6,  7,  8,  9],\n",
              "       [10, 11, 12, 13, 14],\n",
              "       [15, 16, 17, 18, 19],\n",
              "       [20, 21, 22, 23, 24],\n",
              "       [ 0,  5, 10, 15, 20],\n",
              "       [ 4,  9, 14, 19, 24]])"
            ]
          },
          "metadata": {},
          "execution_count": 5
        }
      ],
      "source": [
        "matr = np.arange(25).reshape((5, 5))\n",
        "np.vstack([matr, np.min(matr, axis=1), np.max(matr, axis=1)])"
      ]
    },
    {
      "cell_type": "markdown",
      "metadata": {
        "id": "qBuKa6-Ug73c"
      },
      "source": [
        "13) Вектор чисел от 1 до 51 преобразовать в вектор нечетных чисел и в вектор четных чисел, поменять их размерности, чтобы получились две матрица. Найти произведение этих матриц. Найти обратную матрицу эётого произведения.  "
      ]
    },
    {
      "cell_type": "code",
      "execution_count": null,
      "metadata": {
        "id": "8NJsiSU4g73d",
        "colab": {
          "base_uri": "https://localhost:8080/",
          "height": 772
        },
        "outputId": "06bd8f20-631b-4773-b92c-124b9ee6ac96"
      },
      "outputs": [
        {
          "output_type": "stream",
          "name": "stdout",
          "text": [
            "[ 1  2  3  4  5  6  7  8  9 10 11 12 13 14 15 16 17 18 19 20 21 22 23 24\n",
            " 25 26 27 28 29 30 31 32 33 34 35 36 37 38 39 40 41 42 43 44 45 46 47 48\n",
            " 49 50]\n",
            "[ 1  3  5  7  9 11 13 15 17 19 21 23 25 27 29 31 33 35 37 39 41 43 45 47\n",
            " 49]\n",
            "25\n",
            "[ 2  4  6  8 10 12 14 16 18 20 22 24 26 28 30 32 34 36 38 40 42 44 46 48\n",
            " 50]\n",
            "25\n",
            "[[ 1  3  5  7  9]\n",
            " [11 13 15 17 19]\n",
            " [21 23 25 27 29]\n",
            " [31 33 35 37 39]\n",
            " [41 43 45 47 49]]\n",
            "[[ 2  4  6  8 10]\n",
            " [12 14 16 18 20]\n",
            " [22 24 26 28 30]\n",
            " [32 34 36 38 40]\n",
            " [42 44 46 48 50]]\n",
            "mul: [[   2   12   30   56   90]\n",
            " [ 132  182  240  306  380]\n",
            " [ 462  552  650  756  870]\n",
            " [ 992 1122 1260 1406 1560]\n",
            " [1722 1892 2070 2256 2450]]\n"
          ]
        },
        {
          "output_type": "error",
          "ename": "LinAlgError",
          "evalue": "ignored",
          "traceback": [
            "\u001b[0;31m---------------------------------------------------------------------------\u001b[0m",
            "\u001b[0;31mLinAlgError\u001b[0m                               Traceback (most recent call last)",
            "\u001b[0;32m<ipython-input-4-29a29836e454>\u001b[0m in \u001b[0;36m<cell line: 22>\u001b[0;34m()\u001b[0m\n\u001b[1;32m     20\u001b[0m \u001b[0mprint\u001b[0m\u001b[0;34m(\u001b[0m\u001b[0;34m'mul:'\u001b[0m\u001b[0;34m,\u001b[0m \u001b[0mres_mul\u001b[0m\u001b[0;34m)\u001b[0m\u001b[0;34m\u001b[0m\u001b[0;34m\u001b[0m\u001b[0m\n\u001b[1;32m     21\u001b[0m \u001b[0;34m\u001b[0m\u001b[0m\n\u001b[0;32m---> 22\u001b[0;31m \u001b[0mprint\u001b[0m\u001b[0;34m(\u001b[0m\u001b[0;34m'inv:'\u001b[0m\u001b[0;34m,\u001b[0m \u001b[0mnp\u001b[0m\u001b[0;34m.\u001b[0m\u001b[0mlinalg\u001b[0m\u001b[0;34m.\u001b[0m\u001b[0minv\u001b[0m\u001b[0;34m(\u001b[0m\u001b[0mres_mul\u001b[0m\u001b[0;34m)\u001b[0m\u001b[0;34m)\u001b[0m\u001b[0;34m\u001b[0m\u001b[0;34m\u001b[0m\u001b[0m\n\u001b[0m",
            "\u001b[0;32m/usr/local/lib/python3.10/dist-packages/numpy/core/overrides.py\u001b[0m in \u001b[0;36minv\u001b[0;34m(*args, **kwargs)\u001b[0m\n",
            "\u001b[0;32m/usr/local/lib/python3.10/dist-packages/numpy/linalg/linalg.py\u001b[0m in \u001b[0;36minv\u001b[0;34m(a)\u001b[0m\n\u001b[1;32m    550\u001b[0m     \u001b[0msignature\u001b[0m \u001b[0;34m=\u001b[0m \u001b[0;34m'D->D'\u001b[0m \u001b[0;32mif\u001b[0m \u001b[0misComplexType\u001b[0m\u001b[0;34m(\u001b[0m\u001b[0mt\u001b[0m\u001b[0;34m)\u001b[0m \u001b[0;32melse\u001b[0m \u001b[0;34m'd->d'\u001b[0m\u001b[0;34m\u001b[0m\u001b[0;34m\u001b[0m\u001b[0m\n\u001b[1;32m    551\u001b[0m     \u001b[0mextobj\u001b[0m \u001b[0;34m=\u001b[0m \u001b[0mget_linalg_error_extobj\u001b[0m\u001b[0;34m(\u001b[0m\u001b[0m_raise_linalgerror_singular\u001b[0m\u001b[0;34m)\u001b[0m\u001b[0;34m\u001b[0m\u001b[0;34m\u001b[0m\u001b[0m\n\u001b[0;32m--> 552\u001b[0;31m     \u001b[0mainv\u001b[0m \u001b[0;34m=\u001b[0m \u001b[0m_umath_linalg\u001b[0m\u001b[0;34m.\u001b[0m\u001b[0minv\u001b[0m\u001b[0;34m(\u001b[0m\u001b[0ma\u001b[0m\u001b[0;34m,\u001b[0m \u001b[0msignature\u001b[0m\u001b[0;34m=\u001b[0m\u001b[0msignature\u001b[0m\u001b[0;34m,\u001b[0m \u001b[0mextobj\u001b[0m\u001b[0;34m=\u001b[0m\u001b[0mextobj\u001b[0m\u001b[0;34m)\u001b[0m\u001b[0;34m\u001b[0m\u001b[0;34m\u001b[0m\u001b[0m\n\u001b[0m\u001b[1;32m    553\u001b[0m     \u001b[0;32mreturn\u001b[0m \u001b[0mwrap\u001b[0m\u001b[0;34m(\u001b[0m\u001b[0mainv\u001b[0m\u001b[0;34m.\u001b[0m\u001b[0mastype\u001b[0m\u001b[0;34m(\u001b[0m\u001b[0mresult_t\u001b[0m\u001b[0;34m,\u001b[0m \u001b[0mcopy\u001b[0m\u001b[0;34m=\u001b[0m\u001b[0;32mFalse\u001b[0m\u001b[0;34m)\u001b[0m\u001b[0;34m)\u001b[0m\u001b[0;34m\u001b[0m\u001b[0;34m\u001b[0m\u001b[0m\n\u001b[1;32m    554\u001b[0m \u001b[0;34m\u001b[0m\u001b[0m\n",
            "\u001b[0;32m/usr/local/lib/python3.10/dist-packages/numpy/linalg/linalg.py\u001b[0m in \u001b[0;36m_raise_linalgerror_singular\u001b[0;34m(err, flag)\u001b[0m\n\u001b[1;32m     87\u001b[0m \u001b[0;34m\u001b[0m\u001b[0m\n\u001b[1;32m     88\u001b[0m \u001b[0;32mdef\u001b[0m \u001b[0m_raise_linalgerror_singular\u001b[0m\u001b[0;34m(\u001b[0m\u001b[0merr\u001b[0m\u001b[0;34m,\u001b[0m \u001b[0mflag\u001b[0m\u001b[0;34m)\u001b[0m\u001b[0;34m:\u001b[0m\u001b[0;34m\u001b[0m\u001b[0;34m\u001b[0m\u001b[0m\n\u001b[0;32m---> 89\u001b[0;31m     \u001b[0;32mraise\u001b[0m \u001b[0mLinAlgError\u001b[0m\u001b[0;34m(\u001b[0m\u001b[0;34m\"Singular matrix\"\u001b[0m\u001b[0;34m)\u001b[0m\u001b[0;34m\u001b[0m\u001b[0;34m\u001b[0m\u001b[0m\n\u001b[0m\u001b[1;32m     90\u001b[0m \u001b[0;34m\u001b[0m\u001b[0m\n\u001b[1;32m     91\u001b[0m \u001b[0;32mdef\u001b[0m \u001b[0m_raise_linalgerror_nonposdef\u001b[0m\u001b[0;34m(\u001b[0m\u001b[0merr\u001b[0m\u001b[0;34m,\u001b[0m \u001b[0mflag\u001b[0m\u001b[0;34m)\u001b[0m\u001b[0;34m:\u001b[0m\u001b[0;34m\u001b[0m\u001b[0;34m\u001b[0m\u001b[0m\n",
            "\u001b[0;31mLinAlgError\u001b[0m: Singular matrix"
          ]
        }
      ],
      "source": [
        "a = np.arange(1,51)\n",
        "print(a)\n",
        "\n",
        "b = a[a % 2 == 1]\n",
        "print(b)\n",
        "\n",
        "print(len(b))\n",
        "\n",
        "c = a[a % 2 == 0]\n",
        "print(c)\n",
        "print(len(c))\n",
        "\n",
        "b_m = b.reshape(5, -1)\n",
        "print(b_m)\n",
        "\n",
        "c_m = c.reshape(5, -1)\n",
        "print(c_m)\n",
        "\n",
        "res_mul = b_m * c_m\n",
        "print('mul:', res_mul)\n",
        "\n",
        "print('inv:', np.linalg.inv(res_mul))"
      ]
    },
    {
      "cell_type": "markdown",
      "metadata": {
        "id": "dIqffVE8g73d"
      },
      "source": [
        "14) Создать 8x8 матрицу и заполнить её в шахматном порядке нулями и единицами."
      ]
    },
    {
      "cell_type": "code",
      "execution_count": null,
      "metadata": {
        "id": "khdfFTxgg73d",
        "colab": {
          "base_uri": "https://localhost:8080/"
        },
        "outputId": "f83de4ef-8fd3-43c5-ae47-d58075c7d0ea"
      },
      "outputs": [
        {
          "output_type": "stream",
          "name": "stdout",
          "text": [
            "Checkerboard pattern:\n",
            "[[0 1 0 1 0 1 0 1]\n",
            " [1 0 1 0 1 0 1 0]\n",
            " [0 1 0 1 0 1 0 1]\n",
            " [1 0 1 0 1 0 1 0]\n",
            " [0 1 0 1 0 1 0 1]\n",
            " [1 0 1 0 1 0 1 0]\n",
            " [0 1 0 1 0 1 0 1]\n",
            " [1 0 1 0 1 0 1 0]]\n"
          ]
        }
      ],
      "source": [
        "x = np.ones((3,3))\n",
        "print(\"Checkerboard pattern:\")\n",
        "x = np.zeros((8,8),dtype=int)\n",
        "x[1::2,::2] = 1\n",
        "x[::2,1::2] = 1\n",
        "print(x)"
      ]
    }
  ],
  "metadata": {
    "kernelspec": {
      "display_name": "Python 3",
      "language": "python",
      "name": "python3"
    },
    "language_info": {
      "codemirror_mode": {
        "name": "ipython",
        "version": 3
      },
      "file_extension": ".py",
      "mimetype": "text/x-python",
      "name": "python",
      "nbconvert_exporter": "python",
      "pygments_lexer": "ipython3",
      "version": "3.8.0"
    },
    "colab": {
      "provenance": [],
      "include_colab_link": true
    }
  },
  "nbformat": 4,
  "nbformat_minor": 0
}