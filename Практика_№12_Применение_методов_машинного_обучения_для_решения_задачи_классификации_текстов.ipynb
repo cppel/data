{
  "cells": [
    {
      "cell_type": "markdown",
      "metadata": {
        "id": "view-in-github",
        "colab_type": "text"
      },
      "source": [
        "<a href=\"https://colab.research.google.com/github/cppel/data/blob/main/%D0%9F%D1%80%D0%B0%D0%BA%D1%82%D0%B8%D0%BA%D0%B0_%E2%84%9612_%D0%9F%D1%80%D0%B8%D0%BC%D0%B5%D0%BD%D0%B5%D0%BD%D0%B8%D0%B5_%D0%BC%D0%B5%D1%82%D0%BE%D0%B4%D0%BE%D0%B2_%D0%BC%D0%B0%D1%88%D0%B8%D0%BD%D0%BD%D0%BE%D0%B3%D0%BE_%D0%BE%D0%B1%D1%83%D1%87%D0%B5%D0%BD%D0%B8%D1%8F_%D0%B4%D0%BB%D1%8F_%D1%80%D0%B5%D1%88%D0%B5%D0%BD%D0%B8%D1%8F_%D0%B7%D0%B0%D0%B4%D0%B0%D1%87%D0%B8_%D0%BA%D0%BB%D0%B0%D1%81%D1%81%D0%B8%D1%84%D0%B8%D0%BA%D0%B0%D1%86%D0%B8%D0%B8_%D1%82%D0%B5%D0%BA%D1%81%D1%82%D0%BE%D0%B2.ipynb\" target=\"_parent\"><img src=\"https://colab.research.google.com/assets/colab-badge.svg\" alt=\"Open In Colab\"/></a>"
      ]
    },
    {
      "cell_type": "markdown",
      "metadata": {
        "id": "2wGhPsY149tY"
      },
      "source": [
        "# Задание 0. Найдите в глобальной сети или соберите свой датасет для классификации текстов (Пример: новости -> рубрики, комментарии в соц. сетях -> характер, )\n",
        "\n",
        "* Количество классов в датасете должно превышать 2\n",
        "* Язык текста в датасете: русский"
      ]
    },
    {
      "cell_type": "code",
      "execution_count": 2,
      "metadata": {
        "id": "E8dfZGy4-DwA"
      },
      "outputs": [],
      "source": [
        "import numpy as np\n",
        "import pandas as pd\n",
        "import seaborn as sns\n",
        "from matplotlib import pyplot as plt\n",
        "from matplotlib import style\n",
        "from sklearn.metrics import confusion_matrix\n",
        "from sklearn.tree import DecisionTreeClassifier\n",
        "from sklearn.ensemble import RandomForestClassifier\n",
        "from sklearn.naive_bayes import MultinomialNB\n",
        "from sklearn.svm import SVC\n",
        "from sklearn.tree import DecisionTreeClassifier\n",
        "from sklearn.metrics import accuracy_score\n",
        "from sklearn.model_selection import train_test_split\n",
        "from sklearn.feature_extraction.text import CountVectorizer\n",
        "from sklearn.pipeline import Pipeline"
      ]
    },
    {
      "cell_type": "markdown",
      "metadata": {
        "id": "vZ4KTh1N7bPr"
      },
      "source": [
        "## Загрузите датасет"
      ]
    },
    {
      "cell_type": "code",
      "source": [
        "from google.colab import drive\n",
        "drive.mount('/content/drive')"
      ],
      "metadata": {
        "colab": {
          "base_uri": "https://localhost:8080/"
        },
        "id": "xCzKe6NDLOVy",
        "outputId": "4756943e-01a4-478b-f7d5-ee3c2bec6f6f"
      },
      "execution_count": 3,
      "outputs": [
        {
          "output_type": "stream",
          "name": "stdout",
          "text": [
            "Mounted at /content/drive\n"
          ]
        }
      ]
    },
    {
      "cell_type": "code",
      "source": [
        "import pandas as pd\n",
        "\n",
        "df = pd.read_csv('/content/drive/MyDrive/task12/ecommerceDataset.csv', header = None)\n",
        "df.columns = ['category', 'product_description']\n",
        "df.head()"
      ],
      "metadata": {
        "colab": {
          "base_uri": "https://localhost:8080/",
          "height": 206
        },
        "id": "HW4320URLPeb",
        "outputId": "92bafd0d-2fcf-4f33-d1da-35ea24437629"
      },
      "execution_count": 5,
      "outputs": [
        {
          "output_type": "execute_result",
          "data": {
            "text/plain": [
              "    category                                product_description\n",
              "0  Household  Paper Plane Design Framed Wall Hanging Motivat...\n",
              "1  Household  SAF 'Floral' Framed Painting (Wood, 30 inch x ...\n",
              "2  Household  SAF 'UV Textured Modern Art Print Framed' Pain...\n",
              "3  Household  SAF Flower Print Framed Painting (Synthetic, 1...\n",
              "4  Household  Incredible Gifts India Wooden Happy Birthday U..."
            ],
            "text/html": [
              "\n",
              "  <div id=\"df-eb52c509-5009-47bd-8898-3ccc41a19dbf\" class=\"colab-df-container\">\n",
              "    <div>\n",
              "<style scoped>\n",
              "    .dataframe tbody tr th:only-of-type {\n",
              "        vertical-align: middle;\n",
              "    }\n",
              "\n",
              "    .dataframe tbody tr th {\n",
              "        vertical-align: top;\n",
              "    }\n",
              "\n",
              "    .dataframe thead th {\n",
              "        text-align: right;\n",
              "    }\n",
              "</style>\n",
              "<table border=\"1\" class=\"dataframe\">\n",
              "  <thead>\n",
              "    <tr style=\"text-align: right;\">\n",
              "      <th></th>\n",
              "      <th>category</th>\n",
              "      <th>product_description</th>\n",
              "    </tr>\n",
              "  </thead>\n",
              "  <tbody>\n",
              "    <tr>\n",
              "      <th>0</th>\n",
              "      <td>Household</td>\n",
              "      <td>Paper Plane Design Framed Wall Hanging Motivat...</td>\n",
              "    </tr>\n",
              "    <tr>\n",
              "      <th>1</th>\n",
              "      <td>Household</td>\n",
              "      <td>SAF 'Floral' Framed Painting (Wood, 30 inch x ...</td>\n",
              "    </tr>\n",
              "    <tr>\n",
              "      <th>2</th>\n",
              "      <td>Household</td>\n",
              "      <td>SAF 'UV Textured Modern Art Print Framed' Pain...</td>\n",
              "    </tr>\n",
              "    <tr>\n",
              "      <th>3</th>\n",
              "      <td>Household</td>\n",
              "      <td>SAF Flower Print Framed Painting (Synthetic, 1...</td>\n",
              "    </tr>\n",
              "    <tr>\n",
              "      <th>4</th>\n",
              "      <td>Household</td>\n",
              "      <td>Incredible Gifts India Wooden Happy Birthday U...</td>\n",
              "    </tr>\n",
              "  </tbody>\n",
              "</table>\n",
              "</div>\n",
              "    <div class=\"colab-df-buttons\">\n",
              "\n",
              "  <div class=\"colab-df-container\">\n",
              "    <button class=\"colab-df-convert\" onclick=\"convertToInteractive('df-eb52c509-5009-47bd-8898-3ccc41a19dbf')\"\n",
              "            title=\"Convert this dataframe to an interactive table.\"\n",
              "            style=\"display:none;\">\n",
              "\n",
              "  <svg xmlns=\"http://www.w3.org/2000/svg\" height=\"24px\" viewBox=\"0 -960 960 960\">\n",
              "    <path d=\"M120-120v-720h720v720H120Zm60-500h600v-160H180v160Zm220 220h160v-160H400v160Zm0 220h160v-160H400v160ZM180-400h160v-160H180v160Zm440 0h160v-160H620v160ZM180-180h160v-160H180v160Zm440 0h160v-160H620v160Z\"/>\n",
              "  </svg>\n",
              "    </button>\n",
              "\n",
              "  <style>\n",
              "    .colab-df-container {\n",
              "      display:flex;\n",
              "      gap: 12px;\n",
              "    }\n",
              "\n",
              "    .colab-df-convert {\n",
              "      background-color: #E8F0FE;\n",
              "      border: none;\n",
              "      border-radius: 50%;\n",
              "      cursor: pointer;\n",
              "      display: none;\n",
              "      fill: #1967D2;\n",
              "      height: 32px;\n",
              "      padding: 0 0 0 0;\n",
              "      width: 32px;\n",
              "    }\n",
              "\n",
              "    .colab-df-convert:hover {\n",
              "      background-color: #E2EBFA;\n",
              "      box-shadow: 0px 1px 2px rgba(60, 64, 67, 0.3), 0px 1px 3px 1px rgba(60, 64, 67, 0.15);\n",
              "      fill: #174EA6;\n",
              "    }\n",
              "\n",
              "    .colab-df-buttons div {\n",
              "      margin-bottom: 4px;\n",
              "    }\n",
              "\n",
              "    [theme=dark] .colab-df-convert {\n",
              "      background-color: #3B4455;\n",
              "      fill: #D2E3FC;\n",
              "    }\n",
              "\n",
              "    [theme=dark] .colab-df-convert:hover {\n",
              "      background-color: #434B5C;\n",
              "      box-shadow: 0px 1px 3px 1px rgba(0, 0, 0, 0.15);\n",
              "      filter: drop-shadow(0px 1px 2px rgba(0, 0, 0, 0.3));\n",
              "      fill: #FFFFFF;\n",
              "    }\n",
              "  </style>\n",
              "\n",
              "    <script>\n",
              "      const buttonEl =\n",
              "        document.querySelector('#df-eb52c509-5009-47bd-8898-3ccc41a19dbf button.colab-df-convert');\n",
              "      buttonEl.style.display =\n",
              "        google.colab.kernel.accessAllowed ? 'block' : 'none';\n",
              "\n",
              "      async function convertToInteractive(key) {\n",
              "        const element = document.querySelector('#df-eb52c509-5009-47bd-8898-3ccc41a19dbf');\n",
              "        const dataTable =\n",
              "          await google.colab.kernel.invokeFunction('convertToInteractive',\n",
              "                                                    [key], {});\n",
              "        if (!dataTable) return;\n",
              "\n",
              "        const docLinkHtml = 'Like what you see? Visit the ' +\n",
              "          '<a target=\"_blank\" href=https://colab.research.google.com/notebooks/data_table.ipynb>data table notebook</a>'\n",
              "          + ' to learn more about interactive tables.';\n",
              "        element.innerHTML = '';\n",
              "        dataTable['output_type'] = 'display_data';\n",
              "        await google.colab.output.renderOutput(dataTable, element);\n",
              "        const docLink = document.createElement('div');\n",
              "        docLink.innerHTML = docLinkHtml;\n",
              "        element.appendChild(docLink);\n",
              "      }\n",
              "    </script>\n",
              "  </div>\n",
              "\n",
              "\n",
              "<div id=\"df-431c7158-927f-4b07-92ad-46159fef7a3c\">\n",
              "  <button class=\"colab-df-quickchart\" onclick=\"quickchart('df-431c7158-927f-4b07-92ad-46159fef7a3c')\"\n",
              "            title=\"Suggest charts\"\n",
              "            style=\"display:none;\">\n",
              "\n",
              "<svg xmlns=\"http://www.w3.org/2000/svg\" height=\"24px\"viewBox=\"0 0 24 24\"\n",
              "     width=\"24px\">\n",
              "    <g>\n",
              "        <path d=\"M19 3H5c-1.1 0-2 .9-2 2v14c0 1.1.9 2 2 2h14c1.1 0 2-.9 2-2V5c0-1.1-.9-2-2-2zM9 17H7v-7h2v7zm4 0h-2V7h2v10zm4 0h-2v-4h2v4z\"/>\n",
              "    </g>\n",
              "</svg>\n",
              "  </button>\n",
              "\n",
              "<style>\n",
              "  .colab-df-quickchart {\n",
              "      --bg-color: #E8F0FE;\n",
              "      --fill-color: #1967D2;\n",
              "      --hover-bg-color: #E2EBFA;\n",
              "      --hover-fill-color: #174EA6;\n",
              "      --disabled-fill-color: #AAA;\n",
              "      --disabled-bg-color: #DDD;\n",
              "  }\n",
              "\n",
              "  [theme=dark] .colab-df-quickchart {\n",
              "      --bg-color: #3B4455;\n",
              "      --fill-color: #D2E3FC;\n",
              "      --hover-bg-color: #434B5C;\n",
              "      --hover-fill-color: #FFFFFF;\n",
              "      --disabled-bg-color: #3B4455;\n",
              "      --disabled-fill-color: #666;\n",
              "  }\n",
              "\n",
              "  .colab-df-quickchart {\n",
              "    background-color: var(--bg-color);\n",
              "    border: none;\n",
              "    border-radius: 50%;\n",
              "    cursor: pointer;\n",
              "    display: none;\n",
              "    fill: var(--fill-color);\n",
              "    height: 32px;\n",
              "    padding: 0;\n",
              "    width: 32px;\n",
              "  }\n",
              "\n",
              "  .colab-df-quickchart:hover {\n",
              "    background-color: var(--hover-bg-color);\n",
              "    box-shadow: 0 1px 2px rgba(60, 64, 67, 0.3), 0 1px 3px 1px rgba(60, 64, 67, 0.15);\n",
              "    fill: var(--button-hover-fill-color);\n",
              "  }\n",
              "\n",
              "  .colab-df-quickchart-complete:disabled,\n",
              "  .colab-df-quickchart-complete:disabled:hover {\n",
              "    background-color: var(--disabled-bg-color);\n",
              "    fill: var(--disabled-fill-color);\n",
              "    box-shadow: none;\n",
              "  }\n",
              "\n",
              "  .colab-df-spinner {\n",
              "    border: 2px solid var(--fill-color);\n",
              "    border-color: transparent;\n",
              "    border-bottom-color: var(--fill-color);\n",
              "    animation:\n",
              "      spin 1s steps(1) infinite;\n",
              "  }\n",
              "\n",
              "  @keyframes spin {\n",
              "    0% {\n",
              "      border-color: transparent;\n",
              "      border-bottom-color: var(--fill-color);\n",
              "      border-left-color: var(--fill-color);\n",
              "    }\n",
              "    20% {\n",
              "      border-color: transparent;\n",
              "      border-left-color: var(--fill-color);\n",
              "      border-top-color: var(--fill-color);\n",
              "    }\n",
              "    30% {\n",
              "      border-color: transparent;\n",
              "      border-left-color: var(--fill-color);\n",
              "      border-top-color: var(--fill-color);\n",
              "      border-right-color: var(--fill-color);\n",
              "    }\n",
              "    40% {\n",
              "      border-color: transparent;\n",
              "      border-right-color: var(--fill-color);\n",
              "      border-top-color: var(--fill-color);\n",
              "    }\n",
              "    60% {\n",
              "      border-color: transparent;\n",
              "      border-right-color: var(--fill-color);\n",
              "    }\n",
              "    80% {\n",
              "      border-color: transparent;\n",
              "      border-right-color: var(--fill-color);\n",
              "      border-bottom-color: var(--fill-color);\n",
              "    }\n",
              "    90% {\n",
              "      border-color: transparent;\n",
              "      border-bottom-color: var(--fill-color);\n",
              "    }\n",
              "  }\n",
              "</style>\n",
              "\n",
              "  <script>\n",
              "    async function quickchart(key) {\n",
              "      const quickchartButtonEl =\n",
              "        document.querySelector('#' + key + ' button');\n",
              "      quickchartButtonEl.disabled = true;  // To prevent multiple clicks.\n",
              "      quickchartButtonEl.classList.add('colab-df-spinner');\n",
              "      try {\n",
              "        const charts = await google.colab.kernel.invokeFunction(\n",
              "            'suggestCharts', [key], {});\n",
              "      } catch (error) {\n",
              "        console.error('Error during call to suggestCharts:', error);\n",
              "      }\n",
              "      quickchartButtonEl.classList.remove('colab-df-spinner');\n",
              "      quickchartButtonEl.classList.add('colab-df-quickchart-complete');\n",
              "    }\n",
              "    (() => {\n",
              "      let quickchartButtonEl =\n",
              "        document.querySelector('#df-431c7158-927f-4b07-92ad-46159fef7a3c button');\n",
              "      quickchartButtonEl.style.display =\n",
              "        google.colab.kernel.accessAllowed ? 'block' : 'none';\n",
              "    })();\n",
              "  </script>\n",
              "</div>\n",
              "    </div>\n",
              "  </div>\n"
            ]
          },
          "metadata": {},
          "execution_count": 5
        }
      ]
    },
    {
      "cell_type": "code",
      "source": [
        "df.info()"
      ],
      "metadata": {
        "colab": {
          "base_uri": "https://localhost:8080/"
        },
        "id": "dfqcv58zMOAi",
        "outputId": "f10186af-a4e4-40fe-8538-c5d0a2e1df2d"
      },
      "execution_count": 6,
      "outputs": [
        {
          "output_type": "stream",
          "name": "stdout",
          "text": [
            "<class 'pandas.core.frame.DataFrame'>\n",
            "RangeIndex: 50425 entries, 0 to 50424\n",
            "Data columns (total 2 columns):\n",
            " #   Column               Non-Null Count  Dtype \n",
            "---  ------               --------------  ----- \n",
            " 0   category             50425 non-null  object\n",
            " 1   product_description  50424 non-null  object\n",
            "dtypes: object(2)\n",
            "memory usage: 788.0+ KB\n"
          ]
        }
      ]
    },
    {
      "cell_type": "code",
      "source": [
        "df.dropna(inplace= True)"
      ],
      "metadata": {
        "id": "SUi4zwFtMPly"
      },
      "execution_count": 7,
      "outputs": []
    },
    {
      "cell_type": "code",
      "source": [
        "df.describe()"
      ],
      "metadata": {
        "colab": {
          "base_uri": "https://localhost:8080/",
          "height": 175
        },
        "id": "hLZvsQvGMRCq",
        "outputId": "8c75fafb-4ae8-4ce3-fec5-952ce15dd79a"
      },
      "execution_count": 8,
      "outputs": [
        {
          "output_type": "execute_result",
          "data": {
            "text/plain": [
              "         category                                product_description\n",
              "count       50424                                              50424\n",
              "unique          4                                              27802\n",
              "top     Household  Think & Grow Rich About the Author NAPOLEON HI...\n",
              "freq        19313                                                 30"
            ],
            "text/html": [
              "\n",
              "  <div id=\"df-fadd2c54-57a9-4370-ac01-4efbc5db9c47\" class=\"colab-df-container\">\n",
              "    <div>\n",
              "<style scoped>\n",
              "    .dataframe tbody tr th:only-of-type {\n",
              "        vertical-align: middle;\n",
              "    }\n",
              "\n",
              "    .dataframe tbody tr th {\n",
              "        vertical-align: top;\n",
              "    }\n",
              "\n",
              "    .dataframe thead th {\n",
              "        text-align: right;\n",
              "    }\n",
              "</style>\n",
              "<table border=\"1\" class=\"dataframe\">\n",
              "  <thead>\n",
              "    <tr style=\"text-align: right;\">\n",
              "      <th></th>\n",
              "      <th>category</th>\n",
              "      <th>product_description</th>\n",
              "    </tr>\n",
              "  </thead>\n",
              "  <tbody>\n",
              "    <tr>\n",
              "      <th>count</th>\n",
              "      <td>50424</td>\n",
              "      <td>50424</td>\n",
              "    </tr>\n",
              "    <tr>\n",
              "      <th>unique</th>\n",
              "      <td>4</td>\n",
              "      <td>27802</td>\n",
              "    </tr>\n",
              "    <tr>\n",
              "      <th>top</th>\n",
              "      <td>Household</td>\n",
              "      <td>Think &amp; Grow Rich About the Author NAPOLEON HI...</td>\n",
              "    </tr>\n",
              "    <tr>\n",
              "      <th>freq</th>\n",
              "      <td>19313</td>\n",
              "      <td>30</td>\n",
              "    </tr>\n",
              "  </tbody>\n",
              "</table>\n",
              "</div>\n",
              "    <div class=\"colab-df-buttons\">\n",
              "\n",
              "  <div class=\"colab-df-container\">\n",
              "    <button class=\"colab-df-convert\" onclick=\"convertToInteractive('df-fadd2c54-57a9-4370-ac01-4efbc5db9c47')\"\n",
              "            title=\"Convert this dataframe to an interactive table.\"\n",
              "            style=\"display:none;\">\n",
              "\n",
              "  <svg xmlns=\"http://www.w3.org/2000/svg\" height=\"24px\" viewBox=\"0 -960 960 960\">\n",
              "    <path d=\"M120-120v-720h720v720H120Zm60-500h600v-160H180v160Zm220 220h160v-160H400v160Zm0 220h160v-160H400v160ZM180-400h160v-160H180v160Zm440 0h160v-160H620v160ZM180-180h160v-160H180v160Zm440 0h160v-160H620v160Z\"/>\n",
              "  </svg>\n",
              "    </button>\n",
              "\n",
              "  <style>\n",
              "    .colab-df-container {\n",
              "      display:flex;\n",
              "      gap: 12px;\n",
              "    }\n",
              "\n",
              "    .colab-df-convert {\n",
              "      background-color: #E8F0FE;\n",
              "      border: none;\n",
              "      border-radius: 50%;\n",
              "      cursor: pointer;\n",
              "      display: none;\n",
              "      fill: #1967D2;\n",
              "      height: 32px;\n",
              "      padding: 0 0 0 0;\n",
              "      width: 32px;\n",
              "    }\n",
              "\n",
              "    .colab-df-convert:hover {\n",
              "      background-color: #E2EBFA;\n",
              "      box-shadow: 0px 1px 2px rgba(60, 64, 67, 0.3), 0px 1px 3px 1px rgba(60, 64, 67, 0.15);\n",
              "      fill: #174EA6;\n",
              "    }\n",
              "\n",
              "    .colab-df-buttons div {\n",
              "      margin-bottom: 4px;\n",
              "    }\n",
              "\n",
              "    [theme=dark] .colab-df-convert {\n",
              "      background-color: #3B4455;\n",
              "      fill: #D2E3FC;\n",
              "    }\n",
              "\n",
              "    [theme=dark] .colab-df-convert:hover {\n",
              "      background-color: #434B5C;\n",
              "      box-shadow: 0px 1px 3px 1px rgba(0, 0, 0, 0.15);\n",
              "      filter: drop-shadow(0px 1px 2px rgba(0, 0, 0, 0.3));\n",
              "      fill: #FFFFFF;\n",
              "    }\n",
              "  </style>\n",
              "\n",
              "    <script>\n",
              "      const buttonEl =\n",
              "        document.querySelector('#df-fadd2c54-57a9-4370-ac01-4efbc5db9c47 button.colab-df-convert');\n",
              "      buttonEl.style.display =\n",
              "        google.colab.kernel.accessAllowed ? 'block' : 'none';\n",
              "\n",
              "      async function convertToInteractive(key) {\n",
              "        const element = document.querySelector('#df-fadd2c54-57a9-4370-ac01-4efbc5db9c47');\n",
              "        const dataTable =\n",
              "          await google.colab.kernel.invokeFunction('convertToInteractive',\n",
              "                                                    [key], {});\n",
              "        if (!dataTable) return;\n",
              "\n",
              "        const docLinkHtml = 'Like what you see? Visit the ' +\n",
              "          '<a target=\"_blank\" href=https://colab.research.google.com/notebooks/data_table.ipynb>data table notebook</a>'\n",
              "          + ' to learn more about interactive tables.';\n",
              "        element.innerHTML = '';\n",
              "        dataTable['output_type'] = 'display_data';\n",
              "        await google.colab.output.renderOutput(dataTable, element);\n",
              "        const docLink = document.createElement('div');\n",
              "        docLink.innerHTML = docLinkHtml;\n",
              "        element.appendChild(docLink);\n",
              "      }\n",
              "    </script>\n",
              "  </div>\n",
              "\n",
              "\n",
              "<div id=\"df-7debdf77-5281-4749-81dc-7e840baccbe1\">\n",
              "  <button class=\"colab-df-quickchart\" onclick=\"quickchart('df-7debdf77-5281-4749-81dc-7e840baccbe1')\"\n",
              "            title=\"Suggest charts\"\n",
              "            style=\"display:none;\">\n",
              "\n",
              "<svg xmlns=\"http://www.w3.org/2000/svg\" height=\"24px\"viewBox=\"0 0 24 24\"\n",
              "     width=\"24px\">\n",
              "    <g>\n",
              "        <path d=\"M19 3H5c-1.1 0-2 .9-2 2v14c0 1.1.9 2 2 2h14c1.1 0 2-.9 2-2V5c0-1.1-.9-2-2-2zM9 17H7v-7h2v7zm4 0h-2V7h2v10zm4 0h-2v-4h2v4z\"/>\n",
              "    </g>\n",
              "</svg>\n",
              "  </button>\n",
              "\n",
              "<style>\n",
              "  .colab-df-quickchart {\n",
              "      --bg-color: #E8F0FE;\n",
              "      --fill-color: #1967D2;\n",
              "      --hover-bg-color: #E2EBFA;\n",
              "      --hover-fill-color: #174EA6;\n",
              "      --disabled-fill-color: #AAA;\n",
              "      --disabled-bg-color: #DDD;\n",
              "  }\n",
              "\n",
              "  [theme=dark] .colab-df-quickchart {\n",
              "      --bg-color: #3B4455;\n",
              "      --fill-color: #D2E3FC;\n",
              "      --hover-bg-color: #434B5C;\n",
              "      --hover-fill-color: #FFFFFF;\n",
              "      --disabled-bg-color: #3B4455;\n",
              "      --disabled-fill-color: #666;\n",
              "  }\n",
              "\n",
              "  .colab-df-quickchart {\n",
              "    background-color: var(--bg-color);\n",
              "    border: none;\n",
              "    border-radius: 50%;\n",
              "    cursor: pointer;\n",
              "    display: none;\n",
              "    fill: var(--fill-color);\n",
              "    height: 32px;\n",
              "    padding: 0;\n",
              "    width: 32px;\n",
              "  }\n",
              "\n",
              "  .colab-df-quickchart:hover {\n",
              "    background-color: var(--hover-bg-color);\n",
              "    box-shadow: 0 1px 2px rgba(60, 64, 67, 0.3), 0 1px 3px 1px rgba(60, 64, 67, 0.15);\n",
              "    fill: var(--button-hover-fill-color);\n",
              "  }\n",
              "\n",
              "  .colab-df-quickchart-complete:disabled,\n",
              "  .colab-df-quickchart-complete:disabled:hover {\n",
              "    background-color: var(--disabled-bg-color);\n",
              "    fill: var(--disabled-fill-color);\n",
              "    box-shadow: none;\n",
              "  }\n",
              "\n",
              "  .colab-df-spinner {\n",
              "    border: 2px solid var(--fill-color);\n",
              "    border-color: transparent;\n",
              "    border-bottom-color: var(--fill-color);\n",
              "    animation:\n",
              "      spin 1s steps(1) infinite;\n",
              "  }\n",
              "\n",
              "  @keyframes spin {\n",
              "    0% {\n",
              "      border-color: transparent;\n",
              "      border-bottom-color: var(--fill-color);\n",
              "      border-left-color: var(--fill-color);\n",
              "    }\n",
              "    20% {\n",
              "      border-color: transparent;\n",
              "      border-left-color: var(--fill-color);\n",
              "      border-top-color: var(--fill-color);\n",
              "    }\n",
              "    30% {\n",
              "      border-color: transparent;\n",
              "      border-left-color: var(--fill-color);\n",
              "      border-top-color: var(--fill-color);\n",
              "      border-right-color: var(--fill-color);\n",
              "    }\n",
              "    40% {\n",
              "      border-color: transparent;\n",
              "      border-right-color: var(--fill-color);\n",
              "      border-top-color: var(--fill-color);\n",
              "    }\n",
              "    60% {\n",
              "      border-color: transparent;\n",
              "      border-right-color: var(--fill-color);\n",
              "    }\n",
              "    80% {\n",
              "      border-color: transparent;\n",
              "      border-right-color: var(--fill-color);\n",
              "      border-bottom-color: var(--fill-color);\n",
              "    }\n",
              "    90% {\n",
              "      border-color: transparent;\n",
              "      border-bottom-color: var(--fill-color);\n",
              "    }\n",
              "  }\n",
              "</style>\n",
              "\n",
              "  <script>\n",
              "    async function quickchart(key) {\n",
              "      const quickchartButtonEl =\n",
              "        document.querySelector('#' + key + ' button');\n",
              "      quickchartButtonEl.disabled = true;  // To prevent multiple clicks.\n",
              "      quickchartButtonEl.classList.add('colab-df-spinner');\n",
              "      try {\n",
              "        const charts = await google.colab.kernel.invokeFunction(\n",
              "            'suggestCharts', [key], {});\n",
              "      } catch (error) {\n",
              "        console.error('Error during call to suggestCharts:', error);\n",
              "      }\n",
              "      quickchartButtonEl.classList.remove('colab-df-spinner');\n",
              "      quickchartButtonEl.classList.add('colab-df-quickchart-complete');\n",
              "    }\n",
              "    (() => {\n",
              "      let quickchartButtonEl =\n",
              "        document.querySelector('#df-7debdf77-5281-4749-81dc-7e840baccbe1 button');\n",
              "      quickchartButtonEl.style.display =\n",
              "        google.colab.kernel.accessAllowed ? 'block' : 'none';\n",
              "    })();\n",
              "  </script>\n",
              "</div>\n",
              "    </div>\n",
              "  </div>\n"
            ]
          },
          "metadata": {},
          "execution_count": 8
        }
      ]
    },
    {
      "cell_type": "code",
      "source": [
        "df.product_description.mode()[0]"
      ],
      "metadata": {
        "colab": {
          "base_uri": "https://localhost:8080/",
          "height": 140
        },
        "id": "hEw4i5qIMS7T",
        "outputId": "78fc3df9-c0c9-4c18-cd0c-dc8e106d2069"
      },
      "execution_count": 9,
      "outputs": [
        {
          "output_type": "execute_result",
          "data": {
            "text/plain": [
              "'Think & Grow Rich About the Author NAPOLEON HILL, born in Pound, Southwest Virginia in 1883, was a very successful American author in the area of the new thought movement—one of the earliest producers of the modern genre of personal-success literature. He is widely considered to be one of the great writers on success. The turning point in Hill’s life occurred in the year 1908 when he interviewed the industrialist Andrew Carnegie—one of the most powerful men in the world at that time, as part of an assignment—an interview which ultimately led to the publication of Think and Grow Rich, one of his best-selling books of all time. the book examines the power of personal beliefs and the role they play in personal success. Hill, who had even served as the advisor to President Franklin D. Roosevelt from 1933-36, passed away at the age of 87.'"
            ],
            "application/vnd.google.colaboratory.intrinsic+json": {
              "type": "string"
            }
          },
          "metadata": {},
          "execution_count": 9
        }
      ]
    },
    {
      "cell_type": "code",
      "source": [
        "df[df.product_description == df.product_description.mode()[0]]"
      ],
      "metadata": {
        "colab": {
          "base_uri": "https://localhost:8080/",
          "height": 990
        },
        "id": "xfTEf_NIMUvz",
        "outputId": "d5bac5e6-c8d9-4c7e-f338-931b438ab9f6"
      },
      "execution_count": 10,
      "outputs": [
        {
          "output_type": "execute_result",
          "data": {
            "text/plain": [
              "      category                                product_description\n",
              "19466    Books  Think & Grow Rich About the Author NAPOLEON HI...\n",
              "19766    Books  Think & Grow Rich About the Author NAPOLEON HI...\n",
              "20158    Books  Think & Grow Rich About the Author NAPOLEON HI...\n",
              "20834    Books  Think & Grow Rich About the Author NAPOLEON HI...\n",
              "21186    Books  Think & Grow Rich About the Author NAPOLEON HI...\n",
              "24479    Books  Think & Grow Rich About the Author NAPOLEON HI...\n",
              "24481    Books  Think & Grow Rich About the Author NAPOLEON HI...\n",
              "24499    Books  Think & Grow Rich About the Author NAPOLEON HI...\n",
              "26047    Books  Think & Grow Rich About the Author NAPOLEON HI...\n",
              "26164    Books  Think & Grow Rich About the Author NAPOLEON HI...\n",
              "26177    Books  Think & Grow Rich About the Author NAPOLEON HI...\n",
              "26188    Books  Think & Grow Rich About the Author NAPOLEON HI...\n",
              "26196    Books  Think & Grow Rich About the Author NAPOLEON HI...\n",
              "26277    Books  Think & Grow Rich About the Author NAPOLEON HI...\n",
              "26463    Books  Think & Grow Rich About the Author NAPOLEON HI...\n",
              "26511    Books  Think & Grow Rich About the Author NAPOLEON HI...\n",
              "26560    Books  Think & Grow Rich About the Author NAPOLEON HI...\n",
              "26567    Books  Think & Grow Rich About the Author NAPOLEON HI...\n",
              "26571    Books  Think & Grow Rich About the Author NAPOLEON HI...\n",
              "26600    Books  Think & Grow Rich About the Author NAPOLEON HI...\n",
              "26616    Books  Think & Grow Rich About the Author NAPOLEON HI...\n",
              "26632    Books  Think & Grow Rich About the Author NAPOLEON HI...\n",
              "26666    Books  Think & Grow Rich About the Author NAPOLEON HI...\n",
              "26667    Books  Think & Grow Rich About the Author NAPOLEON HI...\n",
              "26697    Books  Think & Grow Rich About the Author NAPOLEON HI...\n",
              "26925    Books  Think & Grow Rich About the Author NAPOLEON HI...\n",
              "28141    Books  Think & Grow Rich About the Author NAPOLEON HI...\n",
              "28161    Books  Think & Grow Rich About the Author NAPOLEON HI...\n",
              "28169    Books  Think & Grow Rich About the Author NAPOLEON HI...\n",
              "31052    Books  Think & Grow Rich About the Author NAPOLEON HI..."
            ],
            "text/html": [
              "\n",
              "  <div id=\"df-d9b17b88-8515-4087-a78f-4b84055befc5\" class=\"colab-df-container\">\n",
              "    <div>\n",
              "<style scoped>\n",
              "    .dataframe tbody tr th:only-of-type {\n",
              "        vertical-align: middle;\n",
              "    }\n",
              "\n",
              "    .dataframe tbody tr th {\n",
              "        vertical-align: top;\n",
              "    }\n",
              "\n",
              "    .dataframe thead th {\n",
              "        text-align: right;\n",
              "    }\n",
              "</style>\n",
              "<table border=\"1\" class=\"dataframe\">\n",
              "  <thead>\n",
              "    <tr style=\"text-align: right;\">\n",
              "      <th></th>\n",
              "      <th>category</th>\n",
              "      <th>product_description</th>\n",
              "    </tr>\n",
              "  </thead>\n",
              "  <tbody>\n",
              "    <tr>\n",
              "      <th>19466</th>\n",
              "      <td>Books</td>\n",
              "      <td>Think &amp; Grow Rich About the Author NAPOLEON HI...</td>\n",
              "    </tr>\n",
              "    <tr>\n",
              "      <th>19766</th>\n",
              "      <td>Books</td>\n",
              "      <td>Think &amp; Grow Rich About the Author NAPOLEON HI...</td>\n",
              "    </tr>\n",
              "    <tr>\n",
              "      <th>20158</th>\n",
              "      <td>Books</td>\n",
              "      <td>Think &amp; Grow Rich About the Author NAPOLEON HI...</td>\n",
              "    </tr>\n",
              "    <tr>\n",
              "      <th>20834</th>\n",
              "      <td>Books</td>\n",
              "      <td>Think &amp; Grow Rich About the Author NAPOLEON HI...</td>\n",
              "    </tr>\n",
              "    <tr>\n",
              "      <th>21186</th>\n",
              "      <td>Books</td>\n",
              "      <td>Think &amp; Grow Rich About the Author NAPOLEON HI...</td>\n",
              "    </tr>\n",
              "    <tr>\n",
              "      <th>24479</th>\n",
              "      <td>Books</td>\n",
              "      <td>Think &amp; Grow Rich About the Author NAPOLEON HI...</td>\n",
              "    </tr>\n",
              "    <tr>\n",
              "      <th>24481</th>\n",
              "      <td>Books</td>\n",
              "      <td>Think &amp; Grow Rich About the Author NAPOLEON HI...</td>\n",
              "    </tr>\n",
              "    <tr>\n",
              "      <th>24499</th>\n",
              "      <td>Books</td>\n",
              "      <td>Think &amp; Grow Rich About the Author NAPOLEON HI...</td>\n",
              "    </tr>\n",
              "    <tr>\n",
              "      <th>26047</th>\n",
              "      <td>Books</td>\n",
              "      <td>Think &amp; Grow Rich About the Author NAPOLEON HI...</td>\n",
              "    </tr>\n",
              "    <tr>\n",
              "      <th>26164</th>\n",
              "      <td>Books</td>\n",
              "      <td>Think &amp; Grow Rich About the Author NAPOLEON HI...</td>\n",
              "    </tr>\n",
              "    <tr>\n",
              "      <th>26177</th>\n",
              "      <td>Books</td>\n",
              "      <td>Think &amp; Grow Rich About the Author NAPOLEON HI...</td>\n",
              "    </tr>\n",
              "    <tr>\n",
              "      <th>26188</th>\n",
              "      <td>Books</td>\n",
              "      <td>Think &amp; Grow Rich About the Author NAPOLEON HI...</td>\n",
              "    </tr>\n",
              "    <tr>\n",
              "      <th>26196</th>\n",
              "      <td>Books</td>\n",
              "      <td>Think &amp; Grow Rich About the Author NAPOLEON HI...</td>\n",
              "    </tr>\n",
              "    <tr>\n",
              "      <th>26277</th>\n",
              "      <td>Books</td>\n",
              "      <td>Think &amp; Grow Rich About the Author NAPOLEON HI...</td>\n",
              "    </tr>\n",
              "    <tr>\n",
              "      <th>26463</th>\n",
              "      <td>Books</td>\n",
              "      <td>Think &amp; Grow Rich About the Author NAPOLEON HI...</td>\n",
              "    </tr>\n",
              "    <tr>\n",
              "      <th>26511</th>\n",
              "      <td>Books</td>\n",
              "      <td>Think &amp; Grow Rich About the Author NAPOLEON HI...</td>\n",
              "    </tr>\n",
              "    <tr>\n",
              "      <th>26560</th>\n",
              "      <td>Books</td>\n",
              "      <td>Think &amp; Grow Rich About the Author NAPOLEON HI...</td>\n",
              "    </tr>\n",
              "    <tr>\n",
              "      <th>26567</th>\n",
              "      <td>Books</td>\n",
              "      <td>Think &amp; Grow Rich About the Author NAPOLEON HI...</td>\n",
              "    </tr>\n",
              "    <tr>\n",
              "      <th>26571</th>\n",
              "      <td>Books</td>\n",
              "      <td>Think &amp; Grow Rich About the Author NAPOLEON HI...</td>\n",
              "    </tr>\n",
              "    <tr>\n",
              "      <th>26600</th>\n",
              "      <td>Books</td>\n",
              "      <td>Think &amp; Grow Rich About the Author NAPOLEON HI...</td>\n",
              "    </tr>\n",
              "    <tr>\n",
              "      <th>26616</th>\n",
              "      <td>Books</td>\n",
              "      <td>Think &amp; Grow Rich About the Author NAPOLEON HI...</td>\n",
              "    </tr>\n",
              "    <tr>\n",
              "      <th>26632</th>\n",
              "      <td>Books</td>\n",
              "      <td>Think &amp; Grow Rich About the Author NAPOLEON HI...</td>\n",
              "    </tr>\n",
              "    <tr>\n",
              "      <th>26666</th>\n",
              "      <td>Books</td>\n",
              "      <td>Think &amp; Grow Rich About the Author NAPOLEON HI...</td>\n",
              "    </tr>\n",
              "    <tr>\n",
              "      <th>26667</th>\n",
              "      <td>Books</td>\n",
              "      <td>Think &amp; Grow Rich About the Author NAPOLEON HI...</td>\n",
              "    </tr>\n",
              "    <tr>\n",
              "      <th>26697</th>\n",
              "      <td>Books</td>\n",
              "      <td>Think &amp; Grow Rich About the Author NAPOLEON HI...</td>\n",
              "    </tr>\n",
              "    <tr>\n",
              "      <th>26925</th>\n",
              "      <td>Books</td>\n",
              "      <td>Think &amp; Grow Rich About the Author NAPOLEON HI...</td>\n",
              "    </tr>\n",
              "    <tr>\n",
              "      <th>28141</th>\n",
              "      <td>Books</td>\n",
              "      <td>Think &amp; Grow Rich About the Author NAPOLEON HI...</td>\n",
              "    </tr>\n",
              "    <tr>\n",
              "      <th>28161</th>\n",
              "      <td>Books</td>\n",
              "      <td>Think &amp; Grow Rich About the Author NAPOLEON HI...</td>\n",
              "    </tr>\n",
              "    <tr>\n",
              "      <th>28169</th>\n",
              "      <td>Books</td>\n",
              "      <td>Think &amp; Grow Rich About the Author NAPOLEON HI...</td>\n",
              "    </tr>\n",
              "    <tr>\n",
              "      <th>31052</th>\n",
              "      <td>Books</td>\n",
              "      <td>Think &amp; Grow Rich About the Author NAPOLEON HI...</td>\n",
              "    </tr>\n",
              "  </tbody>\n",
              "</table>\n",
              "</div>\n",
              "    <div class=\"colab-df-buttons\">\n",
              "\n",
              "  <div class=\"colab-df-container\">\n",
              "    <button class=\"colab-df-convert\" onclick=\"convertToInteractive('df-d9b17b88-8515-4087-a78f-4b84055befc5')\"\n",
              "            title=\"Convert this dataframe to an interactive table.\"\n",
              "            style=\"display:none;\">\n",
              "\n",
              "  <svg xmlns=\"http://www.w3.org/2000/svg\" height=\"24px\" viewBox=\"0 -960 960 960\">\n",
              "    <path d=\"M120-120v-720h720v720H120Zm60-500h600v-160H180v160Zm220 220h160v-160H400v160Zm0 220h160v-160H400v160ZM180-400h160v-160H180v160Zm440 0h160v-160H620v160ZM180-180h160v-160H180v160Zm440 0h160v-160H620v160Z\"/>\n",
              "  </svg>\n",
              "    </button>\n",
              "\n",
              "  <style>\n",
              "    .colab-df-container {\n",
              "      display:flex;\n",
              "      gap: 12px;\n",
              "    }\n",
              "\n",
              "    .colab-df-convert {\n",
              "      background-color: #E8F0FE;\n",
              "      border: none;\n",
              "      border-radius: 50%;\n",
              "      cursor: pointer;\n",
              "      display: none;\n",
              "      fill: #1967D2;\n",
              "      height: 32px;\n",
              "      padding: 0 0 0 0;\n",
              "      width: 32px;\n",
              "    }\n",
              "\n",
              "    .colab-df-convert:hover {\n",
              "      background-color: #E2EBFA;\n",
              "      box-shadow: 0px 1px 2px rgba(60, 64, 67, 0.3), 0px 1px 3px 1px rgba(60, 64, 67, 0.15);\n",
              "      fill: #174EA6;\n",
              "    }\n",
              "\n",
              "    .colab-df-buttons div {\n",
              "      margin-bottom: 4px;\n",
              "    }\n",
              "\n",
              "    [theme=dark] .colab-df-convert {\n",
              "      background-color: #3B4455;\n",
              "      fill: #D2E3FC;\n",
              "    }\n",
              "\n",
              "    [theme=dark] .colab-df-convert:hover {\n",
              "      background-color: #434B5C;\n",
              "      box-shadow: 0px 1px 3px 1px rgba(0, 0, 0, 0.15);\n",
              "      filter: drop-shadow(0px 1px 2px rgba(0, 0, 0, 0.3));\n",
              "      fill: #FFFFFF;\n",
              "    }\n",
              "  </style>\n",
              "\n",
              "    <script>\n",
              "      const buttonEl =\n",
              "        document.querySelector('#df-d9b17b88-8515-4087-a78f-4b84055befc5 button.colab-df-convert');\n",
              "      buttonEl.style.display =\n",
              "        google.colab.kernel.accessAllowed ? 'block' : 'none';\n",
              "\n",
              "      async function convertToInteractive(key) {\n",
              "        const element = document.querySelector('#df-d9b17b88-8515-4087-a78f-4b84055befc5');\n",
              "        const dataTable =\n",
              "          await google.colab.kernel.invokeFunction('convertToInteractive',\n",
              "                                                    [key], {});\n",
              "        if (!dataTable) return;\n",
              "\n",
              "        const docLinkHtml = 'Like what you see? Visit the ' +\n",
              "          '<a target=\"_blank\" href=https://colab.research.google.com/notebooks/data_table.ipynb>data table notebook</a>'\n",
              "          + ' to learn more about interactive tables.';\n",
              "        element.innerHTML = '';\n",
              "        dataTable['output_type'] = 'display_data';\n",
              "        await google.colab.output.renderOutput(dataTable, element);\n",
              "        const docLink = document.createElement('div');\n",
              "        docLink.innerHTML = docLinkHtml;\n",
              "        element.appendChild(docLink);\n",
              "      }\n",
              "    </script>\n",
              "  </div>\n",
              "\n",
              "\n",
              "<div id=\"df-6702f3b7-9d2c-42c7-a070-2cc5654974d6\">\n",
              "  <button class=\"colab-df-quickchart\" onclick=\"quickchart('df-6702f3b7-9d2c-42c7-a070-2cc5654974d6')\"\n",
              "            title=\"Suggest charts\"\n",
              "            style=\"display:none;\">\n",
              "\n",
              "<svg xmlns=\"http://www.w3.org/2000/svg\" height=\"24px\"viewBox=\"0 0 24 24\"\n",
              "     width=\"24px\">\n",
              "    <g>\n",
              "        <path d=\"M19 3H5c-1.1 0-2 .9-2 2v14c0 1.1.9 2 2 2h14c1.1 0 2-.9 2-2V5c0-1.1-.9-2-2-2zM9 17H7v-7h2v7zm4 0h-2V7h2v10zm4 0h-2v-4h2v4z\"/>\n",
              "    </g>\n",
              "</svg>\n",
              "  </button>\n",
              "\n",
              "<style>\n",
              "  .colab-df-quickchart {\n",
              "      --bg-color: #E8F0FE;\n",
              "      --fill-color: #1967D2;\n",
              "      --hover-bg-color: #E2EBFA;\n",
              "      --hover-fill-color: #174EA6;\n",
              "      --disabled-fill-color: #AAA;\n",
              "      --disabled-bg-color: #DDD;\n",
              "  }\n",
              "\n",
              "  [theme=dark] .colab-df-quickchart {\n",
              "      --bg-color: #3B4455;\n",
              "      --fill-color: #D2E3FC;\n",
              "      --hover-bg-color: #434B5C;\n",
              "      --hover-fill-color: #FFFFFF;\n",
              "      --disabled-bg-color: #3B4455;\n",
              "      --disabled-fill-color: #666;\n",
              "  }\n",
              "\n",
              "  .colab-df-quickchart {\n",
              "    background-color: var(--bg-color);\n",
              "    border: none;\n",
              "    border-radius: 50%;\n",
              "    cursor: pointer;\n",
              "    display: none;\n",
              "    fill: var(--fill-color);\n",
              "    height: 32px;\n",
              "    padding: 0;\n",
              "    width: 32px;\n",
              "  }\n",
              "\n",
              "  .colab-df-quickchart:hover {\n",
              "    background-color: var(--hover-bg-color);\n",
              "    box-shadow: 0 1px 2px rgba(60, 64, 67, 0.3), 0 1px 3px 1px rgba(60, 64, 67, 0.15);\n",
              "    fill: var(--button-hover-fill-color);\n",
              "  }\n",
              "\n",
              "  .colab-df-quickchart-complete:disabled,\n",
              "  .colab-df-quickchart-complete:disabled:hover {\n",
              "    background-color: var(--disabled-bg-color);\n",
              "    fill: var(--disabled-fill-color);\n",
              "    box-shadow: none;\n",
              "  }\n",
              "\n",
              "  .colab-df-spinner {\n",
              "    border: 2px solid var(--fill-color);\n",
              "    border-color: transparent;\n",
              "    border-bottom-color: var(--fill-color);\n",
              "    animation:\n",
              "      spin 1s steps(1) infinite;\n",
              "  }\n",
              "\n",
              "  @keyframes spin {\n",
              "    0% {\n",
              "      border-color: transparent;\n",
              "      border-bottom-color: var(--fill-color);\n",
              "      border-left-color: var(--fill-color);\n",
              "    }\n",
              "    20% {\n",
              "      border-color: transparent;\n",
              "      border-left-color: var(--fill-color);\n",
              "      border-top-color: var(--fill-color);\n",
              "    }\n",
              "    30% {\n",
              "      border-color: transparent;\n",
              "      border-left-color: var(--fill-color);\n",
              "      border-top-color: var(--fill-color);\n",
              "      border-right-color: var(--fill-color);\n",
              "    }\n",
              "    40% {\n",
              "      border-color: transparent;\n",
              "      border-right-color: var(--fill-color);\n",
              "      border-top-color: var(--fill-color);\n",
              "    }\n",
              "    60% {\n",
              "      border-color: transparent;\n",
              "      border-right-color: var(--fill-color);\n",
              "    }\n",
              "    80% {\n",
              "      border-color: transparent;\n",
              "      border-right-color: var(--fill-color);\n",
              "      border-bottom-color: var(--fill-color);\n",
              "    }\n",
              "    90% {\n",
              "      border-color: transparent;\n",
              "      border-bottom-color: var(--fill-color);\n",
              "    }\n",
              "  }\n",
              "</style>\n",
              "\n",
              "  <script>\n",
              "    async function quickchart(key) {\n",
              "      const quickchartButtonEl =\n",
              "        document.querySelector('#' + key + ' button');\n",
              "      quickchartButtonEl.disabled = true;  // To prevent multiple clicks.\n",
              "      quickchartButtonEl.classList.add('colab-df-spinner');\n",
              "      try {\n",
              "        const charts = await google.colab.kernel.invokeFunction(\n",
              "            'suggestCharts', [key], {});\n",
              "      } catch (error) {\n",
              "        console.error('Error during call to suggestCharts:', error);\n",
              "      }\n",
              "      quickchartButtonEl.classList.remove('colab-df-spinner');\n",
              "      quickchartButtonEl.classList.add('colab-df-quickchart-complete');\n",
              "    }\n",
              "    (() => {\n",
              "      let quickchartButtonEl =\n",
              "        document.querySelector('#df-6702f3b7-9d2c-42c7-a070-2cc5654974d6 button');\n",
              "      quickchartButtonEl.style.display =\n",
              "        google.colab.kernel.accessAllowed ? 'block' : 'none';\n",
              "    })();\n",
              "  </script>\n",
              "</div>\n",
              "    </div>\n",
              "  </div>\n"
            ]
          },
          "metadata": {},
          "execution_count": 10
        }
      ]
    },
    {
      "cell_type": "code",
      "source": [
        "df.duplicated(subset='product_description').sum()"
      ],
      "metadata": {
        "colab": {
          "base_uri": "https://localhost:8080/"
        },
        "id": "ffARu4wnMWsj",
        "outputId": "1a844019-aef7-4d75-ae14-f8883d586339"
      },
      "execution_count": 11,
      "outputs": [
        {
          "output_type": "execute_result",
          "data": {
            "text/plain": [
              "22622"
            ]
          },
          "metadata": {},
          "execution_count": 11
        }
      ]
    },
    {
      "cell_type": "code",
      "source": [
        "df.drop_duplicates(subset='product_description', keep='first', inplace=True)"
      ],
      "metadata": {
        "id": "l4ED7hhxMYXC"
      },
      "execution_count": 12,
      "outputs": []
    },
    {
      "cell_type": "code",
      "source": [
        "df.shape"
      ],
      "metadata": {
        "colab": {
          "base_uri": "https://localhost:8080/"
        },
        "id": "FRogG2NcMZvy",
        "outputId": "29b33df0-135c-4207-c95f-cb0eae84e8d1"
      },
      "execution_count": 13,
      "outputs": [
        {
          "output_type": "execute_result",
          "data": {
            "text/plain": [
              "(27802, 2)"
            ]
          },
          "metadata": {},
          "execution_count": 13
        }
      ]
    },
    {
      "cell_type": "code",
      "source": [
        "import seaborn as sns\n",
        "sns.set(style='darkgrid')\n",
        "sns.countplot(x='category', data=df, order= df.category.value_counts().index)"
      ],
      "metadata": {
        "colab": {
          "base_uri": "https://localhost:8080/",
          "height": 475
        },
        "id": "LgX6KyL6Mbas",
        "outputId": "1c63e736-2571-4d41-8063-9d1962a5000d"
      },
      "execution_count": 14,
      "outputs": [
        {
          "output_type": "execute_result",
          "data": {
            "text/plain": [
              "<Axes: xlabel='category', ylabel='count'>"
            ]
          },
          "metadata": {},
          "execution_count": 14
        },
        {
          "output_type": "display_data",
          "data": {
            "text/plain": [
              "<Figure size 640x480 with 1 Axes>"
            ],
            "image/png": "[encoded data removed]"
          },
          "metadata": {}
        }
      ]
    },
    {
      "cell_type": "code",
      "source": [
        "X = df['product_description']\n",
        "y = df['category']"
      ],
      "metadata": {
        "id": "Dk9HDzazMeeT"
      },
      "execution_count": 15,
      "outputs": []
    },
    {
      "cell_type": "markdown",
      "metadata": {
        "id": "1lV9fyBz7jCo"
      },
      "source": [
        "## Разделите данные на обучающую и валидационную выборки"
      ]
    },
    {
      "cell_type": "code",
      "execution_count": 16,
      "metadata": {
        "id": "Iye8nI5u7ijn"
      },
      "outputs": [],
      "source": [
        "X_train, X_test, y_train, y_test = train_test_split(X, y)"
      ]
    },
    {
      "cell_type": "markdown",
      "metadata": {
        "id": "AwxLTUCziTyf"
      },
      "source": [
        "## При выполении дальнейших заданий поэксперементируйте с методами векторизации текста:\n",
        "\n",
        "\n",
        "1. [Bag of Words](https://habr.com/ru/companies/mlclass/articles/270591/) (BOW): Bag of Words представляет текст как вектор, где каждый элемент обозначает количество вхождений конкретного слова в тексте. Процесс включает в себя создание словаря всех уникальных слов в корпусе текстов и подсчет частоты встречаемости каждого слова в отдельных текстах.\n",
        "\n",
        "2. [TF-IDF](https://habr.com/ru/companies/otus/articles/755772/) (Term Frequency-Inverse Document Frequency): TF-IDF учитывает не только количество вхождений слова в текст, но и частоту его встречаемости в других текстах. Он вычисляет вес слова, умножая его частоту встречаемости (term frequency) на обратную частоту документа (inverse document frequency). Это позволяет снизить вес наиболее часто встречающихся слов, которые могут быть менее информативными.\n",
        "\n",
        "3. Word Embeddings (например, [Word2Vec](https://habr.com/ru/articles/446530/) и [GloVe](https://jonathan-hui.medium.com/nlp-word-embedding-glove-5e7f523999f6)): Word Embeddings используют нейронные сети для создания векторных представлений слов, которые учитывают семантическую близость между словами. Нейронные сети обучаются на больших текстовых корпусах и захватывают семантические отношения между словами, что позволяет представить слова в векторном пространстве.\n",
        "\n",
        "4. One-Hot Encoding: One-Hot Encoding преобразует каждое слово в уникальный вектор, где все элементы равны нулю, за исключением одного, который равен единице. Каждый вектор соответствует отдельному слову и используется для представления его в пространстве признаков.\n",
        "\n",
        "5. [Count Vectorizer](https://scikit-learn.org/stable/modules/generated/sklearn.feature_extraction.text.CountVectorizer.html): Count Vectorizer подсчитывает количество раз, которое каждое слово встречается в тексте. Он создает вектор, в котором каждый элемент соответствует количеству вхождений конкретного слова в текст.\n",
        "\n",
        "6. [Hashing Vectorizer](https://kavita-ganesan.com/hashingvectorizer-vs-countvectorizer/): Hashing Vectorizer преобразует каждое слово в уникальный числовой идентификатор с помощью хеширования. Он использует хеш-функцию для преобразования слова в числовое значение, которое затем используется в векторном представлении.\n",
        "\n",
        "7. [Doc2Vec](https://habr.com/ru/articles/599513/): Doc2Vec является расширением метода Word2Vec и позволяет получить векторное представление не только отдельных слов, но и целых документов или текстов. Алгоритм обучает нейронную сеть, которая учитывает контекст и порядок слов в предложении, чтобы получить векторное представление документа. Это позволяет сравнивать и измерять семантическую близость между целыми текстовыми документами."
      ]
    },
    {
      "cell_type": "markdown",
      "metadata": {
        "id": "cVRzzXJn7wcd"
      },
      "source": [
        "# Задание 1. Обучите модель классификатора Naive Bayes для решения поставленной задачи"
      ]
    },
    {
      "cell_type": "code",
      "execution_count": 17,
      "metadata": {
        "id": "1V79u4aM8Dzg"
      },
      "outputs": [],
      "source": [
        "from sklearn.feature_extraction.text import CountVectorizer\n",
        "from sklearn.naive_bayes import MultinomialNB\n",
        "from sklearn.pipeline import make_pipeline\n",
        "from sklearn.metrics import accuracy_score, classification_report"
      ]
    },
    {
      "cell_type": "code",
      "execution_count": 18,
      "metadata": {
        "id": "rl9iKiET-DwH"
      },
      "outputs": [],
      "source": [
        "clf_NaiveBaised = Pipeline([\n",
        "    ('vectorizer', CountVectorizer()),\n",
        "    ('nd', MultinomialNB())\n",
        "])"
      ]
    },
    {
      "cell_type": "code",
      "execution_count": 19,
      "metadata": {
        "colab": {
          "base_uri": "https://localhost:8080/",
          "height": 125
        },
        "id": "HDaqk3sY-DwI",
        "outputId": "ca632806-1c84-44d5-a294-a0e8e96a87bc"
      },
      "outputs": [
        {
          "output_type": "execute_result",
          "data": {
            "text/plain": [
              "Pipeline(steps=[('vectorizer', CountVectorizer()), ('nd', MultinomialNB())])"
            ],
            "text/html": [
              "<style>#sk-container-id-1 {color: black;background-color: white;}#sk-container-id-1 pre{padding: 0;}#sk-container-id-1 div.sk-toggleable {background-color: white;}#sk-container-id-1 label.sk-toggleable__label {cursor: pointer;display: block;width: 100%;margin-bottom: 0;padding: 0.3em;box-sizing: border-box;text-align: center;}#sk-container-id-1 label.sk-toggleable__label-arrow:before {content: \"▸\";float: left;margin-right: 0.25em;color: #696969;}#sk-container-id-1 label.sk-toggleable__label-arrow:hover:before {color: black;}#sk-container-id-1 div.sk-estimator:hover label.sk-toggleable__label-arrow:before {color: black;}#sk-container-id-1 div.sk-toggleable__content {max-height: 0;max-width: 0;overflow: hidden;text-align: left;background-color: #f0f8ff;}#sk-container-id-1 div.sk-toggleable__content pre {margin: 0.2em;color: black;border-radius: 0.25em;background-color: #f0f8ff;}#sk-container-id-1 input.sk-toggleable__control:checked~div.sk-toggleable__content {max-height: 200px;max-width: 100%;overflow: auto;}#sk-container-id-1 input.sk-toggleable__control:checked~label.sk-toggleable__label-arrow:before {content: \"▾\";}#sk-container-id-1 div.sk-estimator input.sk-toggleable__control:checked~label.sk-toggleable__label {background-color: #d4ebff;}#sk-container-id-1 div.sk-label input.sk-toggleable__control:checked~label.sk-toggleable__label {background-color: #d4ebff;}#sk-container-id-1 input.sk-hidden--visually {border: 0;clip: rect(1px 1px 1px 1px);clip: rect(1px, 1px, 1px, 1px);height: 1px;margin: -1px;overflow: hidden;padding: 0;position: absolute;width: 1px;}#sk-container-id-1 div.sk-estimator {font-family: monospace;background-color: #f0f8ff;border: 1px dotted black;border-radius: 0.25em;box-sizing: border-box;margin-bottom: 0.5em;}#sk-container-id-1 div.sk-estimator:hover {background-color: #d4ebff;}#sk-container-id-1 div.sk-parallel-item::after {content: \"\";width: 100%;border-bottom: 1px solid gray;flex-grow: 1;}#sk-container-id-1 div.sk-label:hover label.sk-toggleable__label {background-color: #d4ebff;}#sk-container-id-1 div.sk-serial::before {content: \"\";position: absolute;border-left: 1px solid gray;box-sizing: border-box;top: 0;bottom: 0;left: 50%;z-index: 0;}#sk-container-id-1 div.sk-serial {display: flex;flex-direction: column;align-items: center;background-color: white;padding-right: 0.2em;padding-left: 0.2em;position: relative;}#sk-container-id-1 div.sk-item {position: relative;z-index: 1;}#sk-container-id-1 div.sk-parallel {display: flex;align-items: stretch;justify-content: center;background-color: white;position: relative;}#sk-container-id-1 div.sk-item::before, #sk-container-id-1 div.sk-parallel-item::before {content: \"\";position: absolute;border-left: 1px solid gray;box-sizing: border-box;top: 0;bottom: 0;left: 50%;z-index: -1;}#sk-container-id-1 div.sk-parallel-item {display: flex;flex-direction: column;z-index: 1;position: relative;background-color: white;}#sk-container-id-1 div.sk-parallel-item:first-child::after {align-self: flex-end;width: 50%;}#sk-container-id-1 div.sk-parallel-item:last-child::after {align-self: flex-start;width: 50%;}#sk-container-id-1 div.sk-parallel-item:only-child::after {width: 0;}#sk-container-id-1 div.sk-dashed-wrapped {border: 1px dashed gray;margin: 0 0.4em 0.5em 0.4em;box-sizing: border-box;padding-bottom: 0.4em;background-color: white;}#sk-container-id-1 div.sk-label label {font-family: monospace;font-weight: bold;display: inline-block;line-height: 1.2em;}#sk-container-id-1 div.sk-label-container {text-align: center;}#sk-container-id-1 div.sk-container {/* jupyter's `normalize.less` sets `[hidden] { display: none; }` but bootstrap.min.css set `[hidden] { display: none !important; }` so we also need the `!important` here to be able to override the default hidden behavior on the sphinx rendered scikit-learn.org. See: https://github.com/scikit-learn/scikit-learn/issues/21755 */display: inline-block !important;position: relative;}#sk-container-id-1 div.sk-text-repr-fallback {display: none;}</style><div id=\"sk-container-id-1\" class=\"sk-top-container\"><div class=\"sk-text-repr-fallback\"><pre>Pipeline(steps=[(&#x27;vectorizer&#x27;, CountVectorizer()), (&#x27;nd&#x27;, MultinomialNB())])</pre><b>In a Jupyter environment, please rerun this cell to show the HTML representation or trust the notebook. <br />On GitHub, the HTML representation is unable to render, please try loading this page with nbviewer.org.</b></div><div class=\"sk-container\" hidden><div class=\"sk-item sk-dashed-wrapped\"><div class=\"sk-label-container\"><div class=\"sk-label sk-toggleable\"><input class=\"sk-toggleable__control sk-hidden--visually\" id=\"sk-estimator-id-1\" type=\"checkbox\" ><label for=\"sk-estimator-id-1\" class=\"sk-toggleable__label sk-toggleable__label-arrow\">Pipeline</label><div class=\"sk-toggleable__content\"><pre>Pipeline(steps=[(&#x27;vectorizer&#x27;, CountVectorizer()), (&#x27;nd&#x27;, MultinomialNB())])</pre></div></div></div><div class=\"sk-serial\"><div class=\"sk-item\"><div class=\"sk-estimator sk-toggleable\"><input class=\"sk-toggleable__control sk-hidden--visually\" id=\"sk-estimator-id-2\" type=\"checkbox\" ><label for=\"sk-estimator-id-2\" class=\"sk-toggleable__label sk-toggleable__label-arrow\">CountVectorizer</label><div class=\"sk-toggleable__content\"><pre>CountVectorizer()</pre></div></div></div><div class=\"sk-item\"><div class=\"sk-estimator sk-toggleable\"><input class=\"sk-toggleable__control sk-hidden--visually\" id=\"sk-estimator-id-3\" type=\"checkbox\" ><label for=\"sk-estimator-id-3\" class=\"sk-toggleable__label sk-toggleable__label-arrow\">MultinomialNB</label><div class=\"sk-toggleable__content\"><pre>MultinomialNB()</pre></div></div></div></div></div></div></div>"
            ]
          },
          "metadata": {},
          "execution_count": 19
        }
      ],
      "source": [
        "clf_NaiveBaised.fit(X_train,y_train)"
      ]
    },
    {
      "cell_type": "code",
      "execution_count": 20,
      "metadata": {
        "id": "KiMt_nzs-DwI"
      },
      "outputs": [],
      "source": [
        "y_pred_NB=clf_NaiveBaised.predict(X_test)"
      ]
    },
    {
      "cell_type": "code",
      "execution_count": 21,
      "metadata": {
        "id": "RRd2gLjs-DwI"
      },
      "outputs": [],
      "source": [
        "conf_mat_NB=confusion_matrix(y_test, y_pred_NB)"
      ]
    },
    {
      "cell_type": "markdown",
      "metadata": {
        "id": "GTBMTk6D8F7h"
      },
      "source": [
        "## Вывод матрицы ошибок:"
      ]
    },
    {
      "cell_type": "code",
      "execution_count": 22,
      "metadata": {
        "id": "7hXQn6wN8Mn-",
        "colab": {
          "base_uri": "https://localhost:8080/",
          "height": 700
        },
        "outputId": "d5cdf3a3-64ee-419f-d5a6-0f044e8161d8"
      },
      "outputs": [
        {
          "output_type": "execute_result",
          "data": {
            "text/plain": [
              "<Axes: >"
            ]
          },
          "metadata": {},
          "execution_count": 22
        },
        {
          "output_type": "display_data",
          "data": {
            "text/plain": [
              "<Figure size 1000x800 with 2 Axes>"
            ],
            "image/png": "[encoded data removed]"
          },
          "metadata": {}
        }
      ],
      "source": [
        "plt.figure(figsize=(10,8))\n",
        "sns.heatmap(conf_mat_NB,annot=True,fmt='d')"
      ]
    },
    {
      "cell_type": "markdown",
      "metadata": {
        "id": "LPerXI9q8QKI"
      },
      "source": [
        "## Оценка точности:"
      ]
    },
    {
      "cell_type": "code",
      "execution_count": 23,
      "metadata": {
        "colab": {
          "base_uri": "https://localhost:8080/"
        },
        "id": "NMUTA8P1-DwJ",
        "outputId": "b68849b9-0ac9-4df1-e58f-ea04f6bd4e01"
      },
      "outputs": [
        {
          "output_type": "stream",
          "name": "stdout",
          "text": [
            "                        precision    recall  f1-score   support\n",
            "\n",
            "                 Books       0.97      0.91      0.94      1556\n",
            "Clothing & Accessories       0.95      0.97      0.96      1407\n",
            "           Electronics       0.91      0.92      0.91      1322\n",
            "             Household       0.93      0.94      0.94      2666\n",
            "\n",
            "              accuracy                           0.94      6951\n",
            "             macro avg       0.94      0.94      0.94      6951\n",
            "          weighted avg       0.94      0.94      0.94      6951\n",
            "\n"
          ]
        }
      ],
      "source": [
        "print(classification_report(y_test, y_pred_NB))"
      ]
    },
    {
      "cell_type": "markdown",
      "metadata": {
        "id": "Og5tuspw8Xf3"
      },
      "source": [
        "# Задание 2. Обучите модель SVM (метод опорных векторов) для решения поставленной задачи"
      ]
    },
    {
      "cell_type": "code",
      "execution_count": 24,
      "metadata": {
        "id": "Y5Erdhkh8Xf4"
      },
      "outputs": [],
      "source": [
        "clf_svm = Pipeline([\n",
        "    ('vectorizer', CountVectorizer()),\n",
        "    ('svc', SVC(kernel=\"rbf\", C=1000, gamma=0.001))\n",
        "])"
      ]
    },
    {
      "cell_type": "code",
      "execution_count": 25,
      "metadata": {
        "colab": {
          "base_uri": "https://localhost:8080/",
          "height": 125
        },
        "id": "7e1jSueV-DwK",
        "outputId": "3cc6815a-d706-4e70-e33f-72e1d5b783a7"
      },
      "outputs": [
        {
          "output_type": "execute_result",
          "data": {
            "text/plain": [
              "Pipeline(steps=[('vectorizer', CountVectorizer()),\n",
              "                ('svc', SVC(C=1000, gamma=0.001))])"
            ],
            "text/html": [
              "<style>#sk-container-id-2 {color: black;background-color: white;}#sk-container-id-2 pre{padding: 0;}#sk-container-id-2 div.sk-toggleable {background-color: white;}#sk-container-id-2 label.sk-toggleable__label {cursor: pointer;display: block;width: 100%;margin-bottom: 0;padding: 0.3em;box-sizing: border-box;text-align: center;}#sk-container-id-2 label.sk-toggleable__label-arrow:before {content: \"▸\";float: left;margin-right: 0.25em;color: #696969;}#sk-container-id-2 label.sk-toggleable__label-arrow:hover:before {color: black;}#sk-container-id-2 div.sk-estimator:hover label.sk-toggleable__label-arrow:before {color: black;}#sk-container-id-2 div.sk-toggleable__content {max-height: 0;max-width: 0;overflow: hidden;text-align: left;background-color: #f0f8ff;}#sk-container-id-2 div.sk-toggleable__content pre {margin: 0.2em;color: black;border-radius: 0.25em;background-color: #f0f8ff;}#sk-container-id-2 input.sk-toggleable__control:checked~div.sk-toggleable__content {max-height: 200px;max-width: 100%;overflow: auto;}#sk-container-id-2 input.sk-toggleable__control:checked~label.sk-toggleable__label-arrow:before {content: \"▾\";}#sk-container-id-2 div.sk-estimator input.sk-toggleable__control:checked~label.sk-toggleable__label {background-color: #d4ebff;}#sk-container-id-2 div.sk-label input.sk-toggleable__control:checked~label.sk-toggleable__label {background-color: #d4ebff;}#sk-container-id-2 input.sk-hidden--visually {border: 0;clip: rect(1px 1px 1px 1px);clip: rect(1px, 1px, 1px, 1px);height: 1px;margin: -1px;overflow: hidden;padding: 0;position: absolute;width: 1px;}#sk-container-id-2 div.sk-estimator {font-family: monospace;background-color: #f0f8ff;border: 1px dotted black;border-radius: 0.25em;box-sizing: border-box;margin-bottom: 0.5em;}#sk-container-id-2 div.sk-estimator:hover {background-color: #d4ebff;}#sk-container-id-2 div.sk-parallel-item::after {content: \"\";width: 100%;border-bottom: 1px solid gray;flex-grow: 1;}#sk-container-id-2 div.sk-label:hover label.sk-toggleable__label {background-color: #d4ebff;}#sk-container-id-2 div.sk-serial::before {content: \"\";position: absolute;border-left: 1px solid gray;box-sizing: border-box;top: 0;bottom: 0;left: 50%;z-index: 0;}#sk-container-id-2 div.sk-serial {display: flex;flex-direction: column;align-items: center;background-color: white;padding-right: 0.2em;padding-left: 0.2em;position: relative;}#sk-container-id-2 div.sk-item {position: relative;z-index: 1;}#sk-container-id-2 div.sk-parallel {display: flex;align-items: stretch;justify-content: center;background-color: white;position: relative;}#sk-container-id-2 div.sk-item::before, #sk-container-id-2 div.sk-parallel-item::before {content: \"\";position: absolute;border-left: 1px solid gray;box-sizing: border-box;top: 0;bottom: 0;left: 50%;z-index: -1;}#sk-container-id-2 div.sk-parallel-item {display: flex;flex-direction: column;z-index: 1;position: relative;background-color: white;}#sk-container-id-2 div.sk-parallel-item:first-child::after {align-self: flex-end;width: 50%;}#sk-container-id-2 div.sk-parallel-item:last-child::after {align-self: flex-start;width: 50%;}#sk-container-id-2 div.sk-parallel-item:only-child::after {width: 0;}#sk-container-id-2 div.sk-dashed-wrapped {border: 1px dashed gray;margin: 0 0.4em 0.5em 0.4em;box-sizing: border-box;padding-bottom: 0.4em;background-color: white;}#sk-container-id-2 div.sk-label label {font-family: monospace;font-weight: bold;display: inline-block;line-height: 1.2em;}#sk-container-id-2 div.sk-label-container {text-align: center;}#sk-container-id-2 div.sk-container {/* jupyter's `normalize.less` sets `[hidden] { display: none; }` but bootstrap.min.css set `[hidden] { display: none !important; }` so we also need the `!important` here to be able to override the default hidden behavior on the sphinx rendered scikit-learn.org. See: https://github.com/scikit-learn/scikit-learn/issues/21755 */display: inline-block !important;position: relative;}#sk-container-id-2 div.sk-text-repr-fallback {display: none;}</style><div id=\"sk-container-id-2\" class=\"sk-top-container\"><div class=\"sk-text-repr-fallback\"><pre>Pipeline(steps=[(&#x27;vectorizer&#x27;, CountVectorizer()),\n",
              "                (&#x27;svc&#x27;, SVC(C=1000, gamma=0.001))])</pre><b>In a Jupyter environment, please rerun this cell to show the HTML representation or trust the notebook. <br />On GitHub, the HTML representation is unable to render, please try loading this page with nbviewer.org.</b></div><div class=\"sk-container\" hidden><div class=\"sk-item sk-dashed-wrapped\"><div class=\"sk-label-container\"><div class=\"sk-label sk-toggleable\"><input class=\"sk-toggleable__control sk-hidden--visually\" id=\"sk-estimator-id-4\" type=\"checkbox\" ><label for=\"sk-estimator-id-4\" class=\"sk-toggleable__label sk-toggleable__label-arrow\">Pipeline</label><div class=\"sk-toggleable__content\"><pre>Pipeline(steps=[(&#x27;vectorizer&#x27;, CountVectorizer()),\n",
              "                (&#x27;svc&#x27;, SVC(C=1000, gamma=0.001))])</pre></div></div></div><div class=\"sk-serial\"><div class=\"sk-item\"><div class=\"sk-estimator sk-toggleable\"><input class=\"sk-toggleable__control sk-hidden--visually\" id=\"sk-estimator-id-5\" type=\"checkbox\" ><label for=\"sk-estimator-id-5\" class=\"sk-toggleable__label sk-toggleable__label-arrow\">CountVectorizer</label><div class=\"sk-toggleable__content\"><pre>CountVectorizer()</pre></div></div></div><div class=\"sk-item\"><div class=\"sk-estimator sk-toggleable\"><input class=\"sk-toggleable__control sk-hidden--visually\" id=\"sk-estimator-id-6\" type=\"checkbox\" ><label for=\"sk-estimator-id-6\" class=\"sk-toggleable__label sk-toggleable__label-arrow\">SVC</label><div class=\"sk-toggleable__content\"><pre>SVC(C=1000, gamma=0.001)</pre></div></div></div></div></div></div></div>"
            ]
          },
          "metadata": {},
          "execution_count": 25
        }
      ],
      "source": [
        "clf_svm.fit(X_train, y_train)"
      ]
    },
    {
      "cell_type": "code",
      "execution_count": 26,
      "metadata": {
        "id": "-jjOFwvb-DwK"
      },
      "outputs": [],
      "source": [
        "y_pred_SVM = clf_svm.predict(X_test)"
      ]
    },
    {
      "cell_type": "markdown",
      "metadata": {
        "id": "alO5ukaH8Xf5"
      },
      "source": [
        "## Вывод матрицы ошибок:"
      ]
    },
    {
      "cell_type": "code",
      "execution_count": 27,
      "metadata": {
        "id": "hlhSFEiv-DwK"
      },
      "outputs": [],
      "source": [
        "conf_mat_SVM = confusion_matrix(y_test, y_pred_SVM)"
      ]
    },
    {
      "cell_type": "code",
      "execution_count": 28,
      "metadata": {
        "id": "KQQIrBDy8Xf5",
        "colab": {
          "base_uri": "https://localhost:8080/",
          "height": 698
        },
        "outputId": "fa369b32-eb0e-455c-c05f-308acfb5c8ca"
      },
      "outputs": [
        {
          "output_type": "execute_result",
          "data": {
            "text/plain": [
              "<Axes: >"
            ]
          },
          "metadata": {},
          "execution_count": 28
        },
        {
          "output_type": "display_data",
          "data": {
            "text/plain": [
              "<Figure size 1000x800 with 2 Axes>"
            ],
            "image/png": "[encoded data removed]"
          },
          "metadata": {}
        }
      ],
      "source": [
        "plt.figure(figsize=(10, 8))\n",
        "sns.heatmap(conf_mat_SVM, annot=True, fmt='d')"
      ]
    },
    {
      "cell_type": "markdown",
      "metadata": {
        "id": "FubXPDts8Xf5"
      },
      "source": [
        "## Оценка точности:"
      ]
    },
    {
      "cell_type": "code",
      "execution_count": 29,
      "metadata": {
        "id": "VpSL8D6_8Xf5",
        "colab": {
          "base_uri": "https://localhost:8080/"
        },
        "outputId": "5fa35524-9ea2-4645-da26-f3799d392db1"
      },
      "outputs": [
        {
          "output_type": "stream",
          "name": "stdout",
          "text": [
            "                        precision    recall  f1-score   support\n",
            "\n",
            "                 Books       0.90      0.95      0.93      1556\n",
            "Clothing & Accessories       0.97      0.97      0.97      1407\n",
            "           Electronics       0.92      0.89      0.91      1322\n",
            "             Household       0.94      0.93      0.94      2666\n",
            "\n",
            "              accuracy                           0.93      6951\n",
            "             macro avg       0.93      0.93      0.93      6951\n",
            "          weighted avg       0.94      0.93      0.93      6951\n",
            "\n"
          ]
        }
      ],
      "source": [
        "print(classification_report(y_test, y_pred_SVM))"
      ]
    },
    {
      "cell_type": "markdown",
      "metadata": {
        "id": "SlduJSRf8YCx"
      },
      "source": [
        "# Задание 3. Обучите модель классификатора Decision Tree Classifier для решения поставленной задачи"
      ]
    },
    {
      "cell_type": "code",
      "execution_count": 30,
      "metadata": {
        "id": "M_QpxuCC8YCy"
      },
      "outputs": [],
      "source": [
        "clf_DecisionTree = Pipeline([\n",
        "    ('vectorizer', CountVectorizer()),\n",
        "    ('dt', DecisionTreeClassifier())\n",
        "])"
      ]
    },
    {
      "cell_type": "code",
      "execution_count": 31,
      "metadata": {
        "colab": {
          "base_uri": "https://localhost:8080/",
          "height": 125
        },
        "id": "Q2IaoEae-DwL",
        "outputId": "9984eea1-3be7-4695-e531-e3d72f7260a8"
      },
      "outputs": [
        {
          "output_type": "execute_result",
          "data": {
            "text/plain": [
              "Pipeline(steps=[('vectorizer', CountVectorizer()),\n",
              "                ('dt', DecisionTreeClassifier())])"
            ],
            "text/html": [
              "<style>#sk-container-id-3 {color: black;background-color: white;}#sk-container-id-3 pre{padding: 0;}#sk-container-id-3 div.sk-toggleable {background-color: white;}#sk-container-id-3 label.sk-toggleable__label {cursor: pointer;display: block;width: 100%;margin-bottom: 0;padding: 0.3em;box-sizing: border-box;text-align: center;}#sk-container-id-3 label.sk-toggleable__label-arrow:before {content: \"▸\";float: left;margin-right: 0.25em;color: #696969;}#sk-container-id-3 label.sk-toggleable__label-arrow:hover:before {color: black;}#sk-container-id-3 div.sk-estimator:hover label.sk-toggleable__label-arrow:before {color: black;}#sk-container-id-3 div.sk-toggleable__content {max-height: 0;max-width: 0;overflow: hidden;text-align: left;background-color: #f0f8ff;}#sk-container-id-3 div.sk-toggleable__content pre {margin: 0.2em;color: black;border-radius: 0.25em;background-color: #f0f8ff;}#sk-container-id-3 input.sk-toggleable__control:checked~div.sk-toggleable__content {max-height: 200px;max-width: 100%;overflow: auto;}#sk-container-id-3 input.sk-toggleable__control:checked~label.sk-toggleable__label-arrow:before {content: \"▾\";}#sk-container-id-3 div.sk-estimator input.sk-toggleable__control:checked~label.sk-toggleable__label {background-color: #d4ebff;}#sk-container-id-3 div.sk-label input.sk-toggleable__control:checked~label.sk-toggleable__label {background-color: #d4ebff;}#sk-container-id-3 input.sk-hidden--visually {border: 0;clip: rect(1px 1px 1px 1px);clip: rect(1px, 1px, 1px, 1px);height: 1px;margin: -1px;overflow: hidden;padding: 0;position: absolute;width: 1px;}#sk-container-id-3 div.sk-estimator {font-family: monospace;background-color: #f0f8ff;border: 1px dotted black;border-radius: 0.25em;box-sizing: border-box;margin-bottom: 0.5em;}#sk-container-id-3 div.sk-estimator:hover {background-color: #d4ebff;}#sk-container-id-3 div.sk-parallel-item::after {content: \"\";width: 100%;border-bottom: 1px solid gray;flex-grow: 1;}#sk-container-id-3 div.sk-label:hover label.sk-toggleable__label {background-color: #d4ebff;}#sk-container-id-3 div.sk-serial::before {content: \"\";position: absolute;border-left: 1px solid gray;box-sizing: border-box;top: 0;bottom: 0;left: 50%;z-index: 0;}#sk-container-id-3 div.sk-serial {display: flex;flex-direction: column;align-items: center;background-color: white;padding-right: 0.2em;padding-left: 0.2em;position: relative;}#sk-container-id-3 div.sk-item {position: relative;z-index: 1;}#sk-container-id-3 div.sk-parallel {display: flex;align-items: stretch;justify-content: center;background-color: white;position: relative;}#sk-container-id-3 div.sk-item::before, #sk-container-id-3 div.sk-parallel-item::before {content: \"\";position: absolute;border-left: 1px solid gray;box-sizing: border-box;top: 0;bottom: 0;left: 50%;z-index: -1;}#sk-container-id-3 div.sk-parallel-item {display: flex;flex-direction: column;z-index: 1;position: relative;background-color: white;}#sk-container-id-3 div.sk-parallel-item:first-child::after {align-self: flex-end;width: 50%;}#sk-container-id-3 div.sk-parallel-item:last-child::after {align-self: flex-start;width: 50%;}#sk-container-id-3 div.sk-parallel-item:only-child::after {width: 0;}#sk-container-id-3 div.sk-dashed-wrapped {border: 1px dashed gray;margin: 0 0.4em 0.5em 0.4em;box-sizing: border-box;padding-bottom: 0.4em;background-color: white;}#sk-container-id-3 div.sk-label label {font-family: monospace;font-weight: bold;display: inline-block;line-height: 1.2em;}#sk-container-id-3 div.sk-label-container {text-align: center;}#sk-container-id-3 div.sk-container {/* jupyter's `normalize.less` sets `[hidden] { display: none; }` but bootstrap.min.css set `[hidden] { display: none !important; }` so we also need the `!important` here to be able to override the default hidden behavior on the sphinx rendered scikit-learn.org. See: https://github.com/scikit-learn/scikit-learn/issues/21755 */display: inline-block !important;position: relative;}#sk-container-id-3 div.sk-text-repr-fallback {display: none;}</style><div id=\"sk-container-id-3\" class=\"sk-top-container\"><div class=\"sk-text-repr-fallback\"><pre>Pipeline(steps=[(&#x27;vectorizer&#x27;, CountVectorizer()),\n",
              "                (&#x27;dt&#x27;, DecisionTreeClassifier())])</pre><b>In a Jupyter environment, please rerun this cell to show the HTML representation or trust the notebook. <br />On GitHub, the HTML representation is unable to render, please try loading this page with nbviewer.org.</b></div><div class=\"sk-container\" hidden><div class=\"sk-item sk-dashed-wrapped\"><div class=\"sk-label-container\"><div class=\"sk-label sk-toggleable\"><input class=\"sk-toggleable__control sk-hidden--visually\" id=\"sk-estimator-id-7\" type=\"checkbox\" ><label for=\"sk-estimator-id-7\" class=\"sk-toggleable__label sk-toggleable__label-arrow\">Pipeline</label><div class=\"sk-toggleable__content\"><pre>Pipeline(steps=[(&#x27;vectorizer&#x27;, CountVectorizer()),\n",
              "                (&#x27;dt&#x27;, DecisionTreeClassifier())])</pre></div></div></div><div class=\"sk-serial\"><div class=\"sk-item\"><div class=\"sk-estimator sk-toggleable\"><input class=\"sk-toggleable__control sk-hidden--visually\" id=\"sk-estimator-id-8\" type=\"checkbox\" ><label for=\"sk-estimator-id-8\" class=\"sk-toggleable__label sk-toggleable__label-arrow\">CountVectorizer</label><div class=\"sk-toggleable__content\"><pre>CountVectorizer()</pre></div></div></div><div class=\"sk-item\"><div class=\"sk-estimator sk-toggleable\"><input class=\"sk-toggleable__control sk-hidden--visually\" id=\"sk-estimator-id-9\" type=\"checkbox\" ><label for=\"sk-estimator-id-9\" class=\"sk-toggleable__label sk-toggleable__label-arrow\">DecisionTreeClassifier</label><div class=\"sk-toggleable__content\"><pre>DecisionTreeClassifier()</pre></div></div></div></div></div></div></div>"
            ]
          },
          "metadata": {},
          "execution_count": 31
        }
      ],
      "source": [
        "clf_DecisionTree.fit(X_train, y_train)"
      ]
    },
    {
      "cell_type": "code",
      "execution_count": 32,
      "metadata": {
        "id": "2TLWISCC-DwM"
      },
      "outputs": [],
      "source": [
        "y_pred_DT = clf_DecisionTree.predict(X_test)"
      ]
    },
    {
      "cell_type": "markdown",
      "metadata": {
        "id": "ep9zgmRu8YCy"
      },
      "source": [
        "## Вывод матрицы ошибок:"
      ]
    },
    {
      "cell_type": "code",
      "execution_count": 33,
      "metadata": {
        "id": "1H4r_Bo68YCy"
      },
      "outputs": [],
      "source": [
        "conf_mat_DT=confusion_matrix(y_test, y_pred_DT)"
      ]
    },
    {
      "cell_type": "code",
      "execution_count": 34,
      "metadata": {
        "colab": {
          "base_uri": "https://localhost:8080/",
          "height": 698
        },
        "id": "CRDIQKDg-DwM",
        "outputId": "59d0364a-9982-49af-df04-da03d6f99a3e"
      },
      "outputs": [
        {
          "output_type": "execute_result",
          "data": {
            "text/plain": [
              "<Axes: >"
            ]
          },
          "metadata": {},
          "execution_count": 34
        },
        {
          "output_type": "display_data",
          "data": {
            "text/plain": [
              "<Figure size 1000x800 with 2 Axes>"
            ],
            "image/png": "[encoded data removed]"
          },
          "metadata": {}
        }
      ],
      "source": [
        "plt.figure(figsize=(10,8))\n",
        "sns.heatmap(conf_mat_DT,annot=True,fmt='d')"
      ]
    },
    {
      "cell_type": "markdown",
      "metadata": {
        "id": "ap2Dp-5_8YCy"
      },
      "source": [
        "## Оценка точности:"
      ]
    },
    {
      "cell_type": "code",
      "execution_count": 35,
      "metadata": {
        "id": "NacXGafz8YCy",
        "colab": {
          "base_uri": "https://localhost:8080/"
        },
        "outputId": "c744b5bf-4984-4f2e-e7ae-1a519c3095b5"
      },
      "outputs": [
        {
          "output_type": "stream",
          "name": "stdout",
          "text": [
            "                        precision    recall  f1-score   support\n",
            "\n",
            "                 Books       0.88      0.89      0.88      1556\n",
            "Clothing & Accessories       0.92      0.93      0.93      1407\n",
            "           Electronics       0.84      0.81      0.82      1322\n",
            "             Household       0.86      0.87      0.87      2666\n",
            "\n",
            "              accuracy                           0.87      6951\n",
            "             macro avg       0.87      0.87      0.87      6951\n",
            "          weighted avg       0.87      0.87      0.87      6951\n",
            "\n"
          ]
        }
      ],
      "source": [
        "print(classification_report(y_test, y_pred_DT))"
      ]
    },
    {
      "cell_type": "markdown",
      "metadata": {
        "id": "DZ34T3Ev8YcO"
      },
      "source": [
        "# Задание 4. Обучите модель классификатора Random Forest Classifier для решения поставленной задачи"
      ]
    },
    {
      "cell_type": "code",
      "execution_count": 36,
      "metadata": {
        "id": "OySaTlIz8YcO"
      },
      "outputs": [],
      "source": [
        "clf_rf = Pipeline([\n",
        "    ('vectorizer', CountVectorizer()),\n",
        "    ('rf', RandomForestClassifier(n_estimators=100))\n",
        "])"
      ]
    },
    {
      "cell_type": "code",
      "execution_count": 37,
      "metadata": {
        "colab": {
          "base_uri": "https://localhost:8080/",
          "height": 125
        },
        "id": "rLsMSJWk-DwR",
        "outputId": "be30018d-2ef2-4efc-d813-b67fc4bdcf6e"
      },
      "outputs": [
        {
          "output_type": "execute_result",
          "data": {
            "text/plain": [
              "Pipeline(steps=[('vectorizer', CountVectorizer()),\n",
              "                ('rf', RandomForestClassifier())])"
            ],
            "text/html": [
              "<style>#sk-container-id-4 {color: black;background-color: white;}#sk-container-id-4 pre{padding: 0;}#sk-container-id-4 div.sk-toggleable {background-color: white;}#sk-container-id-4 label.sk-toggleable__label {cursor: pointer;display: block;width: 100%;margin-bottom: 0;padding: 0.3em;box-sizing: border-box;text-align: center;}#sk-container-id-4 label.sk-toggleable__label-arrow:before {content: \"▸\";float: left;margin-right: 0.25em;color: #696969;}#sk-container-id-4 label.sk-toggleable__label-arrow:hover:before {color: black;}#sk-container-id-4 div.sk-estimator:hover label.sk-toggleable__label-arrow:before {color: black;}#sk-container-id-4 div.sk-toggleable__content {max-height: 0;max-width: 0;overflow: hidden;text-align: left;background-color: #f0f8ff;}#sk-container-id-4 div.sk-toggleable__content pre {margin: 0.2em;color: black;border-radius: 0.25em;background-color: #f0f8ff;}#sk-container-id-4 input.sk-toggleable__control:checked~div.sk-toggleable__content {max-height: 200px;max-width: 100%;overflow: auto;}#sk-container-id-4 input.sk-toggleable__control:checked~label.sk-toggleable__label-arrow:before {content: \"▾\";}#sk-container-id-4 div.sk-estimator input.sk-toggleable__control:checked~label.sk-toggleable__label {background-color: #d4ebff;}#sk-container-id-4 div.sk-label input.sk-toggleable__control:checked~label.sk-toggleable__label {background-color: #d4ebff;}#sk-container-id-4 input.sk-hidden--visually {border: 0;clip: rect(1px 1px 1px 1px);clip: rect(1px, 1px, 1px, 1px);height: 1px;margin: -1px;overflow: hidden;padding: 0;position: absolute;width: 1px;}#sk-container-id-4 div.sk-estimator {font-family: monospace;background-color: #f0f8ff;border: 1px dotted black;border-radius: 0.25em;box-sizing: border-box;margin-bottom: 0.5em;}#sk-container-id-4 div.sk-estimator:hover {background-color: #d4ebff;}#sk-container-id-4 div.sk-parallel-item::after {content: \"\";width: 100%;border-bottom: 1px solid gray;flex-grow: 1;}#sk-container-id-4 div.sk-label:hover label.sk-toggleable__label {background-color: #d4ebff;}#sk-container-id-4 div.sk-serial::before {content: \"\";position: absolute;border-left: 1px solid gray;box-sizing: border-box;top: 0;bottom: 0;left: 50%;z-index: 0;}#sk-container-id-4 div.sk-serial {display: flex;flex-direction: column;align-items: center;background-color: white;padding-right: 0.2em;padding-left: 0.2em;position: relative;}#sk-container-id-4 div.sk-item {position: relative;z-index: 1;}#sk-container-id-4 div.sk-parallel {display: flex;align-items: stretch;justify-content: center;background-color: white;position: relative;}#sk-container-id-4 div.sk-item::before, #sk-container-id-4 div.sk-parallel-item::before {content: \"\";position: absolute;border-left: 1px solid gray;box-sizing: border-box;top: 0;bottom: 0;left: 50%;z-index: -1;}#sk-container-id-4 div.sk-parallel-item {display: flex;flex-direction: column;z-index: 1;position: relative;background-color: white;}#sk-container-id-4 div.sk-parallel-item:first-child::after {align-self: flex-end;width: 50%;}#sk-container-id-4 div.sk-parallel-item:last-child::after {align-self: flex-start;width: 50%;}#sk-container-id-4 div.sk-parallel-item:only-child::after {width: 0;}#sk-container-id-4 div.sk-dashed-wrapped {border: 1px dashed gray;margin: 0 0.4em 0.5em 0.4em;box-sizing: border-box;padding-bottom: 0.4em;background-color: white;}#sk-container-id-4 div.sk-label label {font-family: monospace;font-weight: bold;display: inline-block;line-height: 1.2em;}#sk-container-id-4 div.sk-label-container {text-align: center;}#sk-container-id-4 div.sk-container {/* jupyter's `normalize.less` sets `[hidden] { display: none; }` but bootstrap.min.css set `[hidden] { display: none !important; }` so we also need the `!important` here to be able to override the default hidden behavior on the sphinx rendered scikit-learn.org. See: https://github.com/scikit-learn/scikit-learn/issues/21755 */display: inline-block !important;position: relative;}#sk-container-id-4 div.sk-text-repr-fallback {display: none;}</style><div id=\"sk-container-id-4\" class=\"sk-top-container\"><div class=\"sk-text-repr-fallback\"><pre>Pipeline(steps=[(&#x27;vectorizer&#x27;, CountVectorizer()),\n",
              "                (&#x27;rf&#x27;, RandomForestClassifier())])</pre><b>In a Jupyter environment, please rerun this cell to show the HTML representation or trust the notebook. <br />On GitHub, the HTML representation is unable to render, please try loading this page with nbviewer.org.</b></div><div class=\"sk-container\" hidden><div class=\"sk-item sk-dashed-wrapped\"><div class=\"sk-label-container\"><div class=\"sk-label sk-toggleable\"><input class=\"sk-toggleable__control sk-hidden--visually\" id=\"sk-estimator-id-10\" type=\"checkbox\" ><label for=\"sk-estimator-id-10\" class=\"sk-toggleable__label sk-toggleable__label-arrow\">Pipeline</label><div class=\"sk-toggleable__content\"><pre>Pipeline(steps=[(&#x27;vectorizer&#x27;, CountVectorizer()),\n",
              "                (&#x27;rf&#x27;, RandomForestClassifier())])</pre></div></div></div><div class=\"sk-serial\"><div class=\"sk-item\"><div class=\"sk-estimator sk-toggleable\"><input class=\"sk-toggleable__control sk-hidden--visually\" id=\"sk-estimator-id-11\" type=\"checkbox\" ><label for=\"sk-estimator-id-11\" class=\"sk-toggleable__label sk-toggleable__label-arrow\">CountVectorizer</label><div class=\"sk-toggleable__content\"><pre>CountVectorizer()</pre></div></div></div><div class=\"sk-item\"><div class=\"sk-estimator sk-toggleable\"><input class=\"sk-toggleable__control sk-hidden--visually\" id=\"sk-estimator-id-12\" type=\"checkbox\" ><label for=\"sk-estimator-id-12\" class=\"sk-toggleable__label sk-toggleable__label-arrow\">RandomForestClassifier</label><div class=\"sk-toggleable__content\"><pre>RandomForestClassifier()</pre></div></div></div></div></div></div></div>"
            ]
          },
          "metadata": {},
          "execution_count": 37
        }
      ],
      "source": [
        "clf_rf.fit(X_train, y_train)"
      ]
    },
    {
      "cell_type": "code",
      "execution_count": 38,
      "metadata": {
        "id": "a4b7lopG-DwR"
      },
      "outputs": [],
      "source": [
        "y_pred_RF = clf_rf.predict(X_test)"
      ]
    },
    {
      "cell_type": "markdown",
      "metadata": {
        "id": "x4lszJZd8YcO"
      },
      "source": [
        "## Вывод матрицы ошибок:"
      ]
    },
    {
      "cell_type": "code",
      "execution_count": 39,
      "metadata": {
        "id": "a2zjPQdS8YcO"
      },
      "outputs": [],
      "source": [
        "conf_mat_RF=confusion_matrix(y_test, y_pred_RF)"
      ]
    },
    {
      "cell_type": "code",
      "execution_count": 40,
      "metadata": {
        "colab": {
          "base_uri": "https://localhost:8080/",
          "height": 698
        },
        "id": "1_P0_fZd-DwR",
        "outputId": "9c77d813-f1e4-4472-aa28-190657ddd24c"
      },
      "outputs": [
        {
          "output_type": "execute_result",
          "data": {
            "text/plain": [
              "<Axes: >"
            ]
          },
          "metadata": {},
          "execution_count": 40
        },
        {
          "output_type": "display_data",
          "data": {
            "text/plain": [
              "<Figure size 1000x800 with 2 Axes>"
            ],
            "image/png": "[encoded data removed]"
          },
          "metadata": {}
        }
      ],
      "source": [
        "plt.figure(figsize=(10,8))\n",
        "sns.heatmap(conf_mat_RF,annot=True,fmt='d')"
      ]
    },
    {
      "cell_type": "markdown",
      "metadata": {
        "id": "6tWCQqTQ8YcP"
      },
      "source": [
        "## Оценка точности:"
      ]
    },
    {
      "cell_type": "code",
      "execution_count": 41,
      "metadata": {
        "id": "Wey00suv8YcP",
        "colab": {
          "base_uri": "https://localhost:8080/"
        },
        "outputId": "9e373482-d858-4781-d9e6-7ef931941323"
      },
      "outputs": [
        {
          "output_type": "stream",
          "name": "stdout",
          "text": [
            "                        precision    recall  f1-score   support\n",
            "\n",
            "                 Books       0.93      0.93      0.93      1556\n",
            "Clothing & Accessories       0.96      0.95      0.96      1407\n",
            "           Electronics       0.94      0.82      0.88      1322\n",
            "             Household       0.89      0.95      0.92      2666\n",
            "\n",
            "              accuracy                           0.92      6951\n",
            "             macro avg       0.93      0.91      0.92      6951\n",
            "          weighted avg       0.92      0.92      0.92      6951\n",
            "\n"
          ]
        }
      ],
      "source": [
        "print(classification_report(y_test, y_pred_RF))"
      ]
    },
    {
      "cell_type": "markdown",
      "metadata": {
        "id": "pj3mZMFg9WoX"
      },
      "source": [
        "# Задание 5. Обучите модели машинного обучения для решения задачи классификации текстов, используя следующие boosting-алгоритмы: CatBoost, Light GBM, XGBoost, AdaBoost. Сравните их точность и быстродействие."
      ]
    },
    {
      "cell_type": "code",
      "source": [
        "!pip install catboost"
      ],
      "metadata": {
        "colab": {
          "base_uri": "https://localhost:8080/"
        },
        "id": "-gmoJEhUPuR5",
        "outputId": "9d22ede2-e38e-4e27-e247-c240cbfdae9b"
      },
      "execution_count": 43,
      "outputs": [
        {
          "output_type": "stream",
          "name": "stdout",
          "text": [
            "Collecting catboost\n",
            "  Downloading catboost-1.2.2-cp310-cp310-manylinux2014_x86_64.whl (98.7 MB)\n",
            "\u001b[2K     \u001b[90m━━━━━━━━━━━━━━━━━━━━━━━━━━━━━━━━━━━━━━━━\u001b[0m \u001b[32m98.7/98.7 MB\u001b[0m \u001b[31m3.2 MB/s\u001b[0m eta \u001b[36m0:00:00\u001b[0m\n",
            "\u001b[?25hRequirement already satisfied: graphviz in /usr/local/lib/python3.10/dist-packages (from catboost) (0.20.1)\n",
            "Requirement already satisfied: matplotlib in /usr/local/lib/python3.10/dist-packages (from catboost) (3.7.1)\n",
            "Requirement already satisfied: numpy>=1.16.0 in /usr/local/lib/python3.10/dist-packages (from catboost) (1.23.5)\n",
            "Requirement already satisfied: pandas>=0.24 in /usr/local/lib/python3.10/dist-packages (from catboost) (1.5.3)\n",
            "Requirement already satisfied: scipy in /usr/local/lib/python3.10/dist-packages (from catboost) (1.11.4)\n",
            "Requirement already satisfied: plotly in /usr/local/lib/python3.10/dist-packages (from catboost) (5.15.0)\n",
            "Requirement already satisfied: six in /usr/local/lib/python3.10/dist-packages (from catboost) (1.16.0)\n",
            "Requirement already satisfied: python-dateutil>=2.8.1 in /usr/local/lib/python3.10/dist-packages (from pandas>=0.24->catboost) (2.8.2)\n",
            "Requirement already satisfied: pytz>=2020.1 in /usr/local/lib/python3.10/dist-packages (from pandas>=0.24->catboost) (2023.3.post1)\n",
            "Requirement already satisfied: contourpy>=1.0.1 in /usr/local/lib/python3.10/dist-packages (from matplotlib->catboost) (1.2.0)\n",
            "Requirement already satisfied: cycler>=0.10 in /usr/local/lib/python3.10/dist-packages (from matplotlib->catboost) (0.12.1)\n",
            "Requirement already satisfied: fonttools>=4.22.0 in /usr/local/lib/python3.10/dist-packages (from matplotlib->catboost) (4.45.1)\n",
            "Requirement already satisfied: kiwisolver>=1.0.1 in /usr/local/lib/python3.10/dist-packages (from matplotlib->catboost) (1.4.5)\n",
            "Requirement already satisfied: packaging>=20.0 in /usr/local/lib/python3.10/dist-packages (from matplotlib->catboost) (23.2)\n",
            "Requirement already satisfied: pillow>=6.2.0 in /usr/local/lib/python3.10/dist-packages (from matplotlib->catboost) (9.4.0)\n",
            "Requirement already satisfied: pyparsing>=2.3.1 in /usr/local/lib/python3.10/dist-packages (from matplotlib->catboost) (3.1.1)\n",
            "Requirement already satisfied: tenacity>=6.2.0 in /usr/local/lib/python3.10/dist-packages (from plotly->catboost) (8.2.3)\n",
            "Installing collected packages: catboost\n",
            "Successfully installed catboost-1.2.2\n"
          ]
        }
      ]
    },
    {
      "cell_type": "code",
      "execution_count": 44,
      "metadata": {
        "id": "l1zAWrlz-DwS"
      },
      "outputs": [],
      "source": [
        "from time import time\n",
        "from catboost import CatBoostClassifier\n",
        "from lightgbm import LGBMClassifier\n",
        "from xgboost import XGBClassifier\n",
        "from sklearn.ensemble import AdaBoostClassifier\n",
        "from sklearn.metrics import accuracy_score"
      ]
    },
    {
      "cell_type": "code",
      "execution_count": 45,
      "metadata": {
        "id": "UZu8-f92-DwS"
      },
      "outputs": [],
      "source": [
        "from sklearn.preprocessing import LabelEncoder\n",
        "\n",
        "label_encoder = LabelEncoder()\n",
        "\n",
        "y_train_enc = label_encoder.fit_transform(y_train)\n",
        "y_test_enc = label_encoder.transform(y_test)"
      ]
    },
    {
      "cell_type": "code",
      "execution_count": 46,
      "metadata": {
        "id": "UnwOphIl-DwS"
      },
      "outputs": [],
      "source": [
        "accuracy = {}\n",
        "training_time = {}\n",
        "prediction_time = {}"
      ]
    },
    {
      "cell_type": "markdown",
      "metadata": {
        "id": "ce9O4A7Q_bIf"
      },
      "source": [
        "## 5.1. CatBoost"
      ]
    },
    {
      "cell_type": "code",
      "execution_count": 47,
      "metadata": {
        "id": "5jWE1WnE_baM"
      },
      "outputs": [],
      "source": [
        "catboost_model = Pipeline([\n",
        "    ('vectorizer', CountVectorizer()),\n",
        "    ('catboost', CatBoostClassifier(random_state=33))\n",
        "])"
      ]
    },
    {
      "cell_type": "code",
      "execution_count": 48,
      "metadata": {
        "colab": {
          "base_uri": "https://localhost:8080/"
        },
        "id": "33yeKwRw-DwT",
        "outputId": "0915d25a-46a7-4162-c291-081e5a4cd922"
      },
      "outputs": [
        {
          "output_type": "stream",
          "name": "stdout",
          "text": [
            "Learning rate set to 0.092384\n",
            "0:\tlearn: 1.2950974\ttotal: 1.94s\tremaining: 32m 18s\n",
            "1:\tlearn: 1.2169808\ttotal: 3.15s\tremaining: 26m 14s\n",
            "2:\tlearn: 1.1489825\ttotal: 4.35s\tremaining: 24m 6s\n",
            "3:\tlearn: 1.0964426\ttotal: 5.71s\tremaining: 23m 40s\n",
            "4:\tlearn: 1.0542220\ttotal: 6.92s\tremaining: 22m 57s\n",
            "5:\tlearn: 1.0123384\ttotal: 8.11s\tremaining: 22m 22s\n",
            "6:\tlearn: 0.9800117\ttotal: 9.9s\tremaining: 23m 24s\n",
            "7:\tlearn: 0.9498591\ttotal: 11.9s\tremaining: 24m 30s\n",
            "8:\tlearn: 0.9241588\ttotal: 13.9s\tremaining: 25m 26s\n",
            "9:\tlearn: 0.9011651\ttotal: 15.9s\tremaining: 26m 12s\n",
            "10:\tlearn: 0.8813939\ttotal: 17.1s\tremaining: 25m 34s\n",
            "11:\tlearn: 0.8639191\ttotal: 18.2s\tremaining: 25m\n",
            "12:\tlearn: 0.8464910\ttotal: 19.4s\tremaining: 24m 35s\n",
            "13:\tlearn: 0.8311632\ttotal: 20.6s\tremaining: 24m 9s\n",
            "14:\tlearn: 0.8167688\ttotal: 21.8s\tremaining: 23m 51s\n",
            "15:\tlearn: 0.8011896\ttotal: 23.2s\tremaining: 23m 43s\n",
            "16:\tlearn: 0.7878449\ttotal: 24.4s\tremaining: 23m 29s\n",
            "17:\tlearn: 0.7739107\ttotal: 25.7s\tremaining: 23m 22s\n",
            "18:\tlearn: 0.7620688\ttotal: 27.5s\tremaining: 23m 41s\n",
            "19:\tlearn: 0.7505544\ttotal: 29.4s\tremaining: 24m 2s\n",
            "20:\tlearn: 0.7398273\ttotal: 31.5s\tremaining: 24m 29s\n",
            "21:\tlearn: 0.7293811\ttotal: 33.3s\tremaining: 24m 41s\n",
            "22:\tlearn: 0.7205674\ttotal: 34.5s\tremaining: 24m 24s\n",
            "23:\tlearn: 0.7109502\ttotal: 35.7s\tremaining: 24m 12s\n",
            "24:\tlearn: 0.7038482\ttotal: 37s\tremaining: 24m 3s\n",
            "25:\tlearn: 0.6961576\ttotal: 38.2s\tremaining: 23m 50s\n",
            "26:\tlearn: 0.6891574\ttotal: 39.3s\tremaining: 23m 36s\n",
            "27:\tlearn: 0.6813620\ttotal: 40.6s\tremaining: 23m 27s\n",
            "28:\tlearn: 0.6742743\ttotal: 41.8s\tremaining: 23m 19s\n",
            "29:\tlearn: 0.6688981\ttotal: 42.9s\tremaining: 23m 7s\n",
            "30:\tlearn: 0.6626779\ttotal: 44.6s\tremaining: 23m 13s\n",
            "31:\tlearn: 0.6572383\ttotal: 46.4s\tremaining: 23m 23s\n",
            "32:\tlearn: 0.6503647\ttotal: 48.3s\tremaining: 23m 35s\n",
            "33:\tlearn: 0.6453414\ttotal: 50.4s\tremaining: 23m 51s\n",
            "34:\tlearn: 0.6391135\ttotal: 51.8s\tremaining: 23m 47s\n",
            "35:\tlearn: 0.6338794\ttotal: 53s\tremaining: 23m 38s\n",
            "36:\tlearn: 0.6280747\ttotal: 54.1s\tremaining: 23m 28s\n",
            "37:\tlearn: 0.6234640\ttotal: 55.3s\tremaining: 23m 18s\n",
            "38:\tlearn: 0.6190092\ttotal: 56.4s\tremaining: 23m 9s\n",
            "39:\tlearn: 0.6132936\ttotal: 57.6s\tremaining: 23m 2s\n",
            "40:\tlearn: 0.6081111\ttotal: 58.8s\tremaining: 22m 56s\n",
            "41:\tlearn: 0.6041988\ttotal: 60s\tremaining: 22m 47s\n",
            "42:\tlearn: 0.5997034\ttotal: 1m 1s\tremaining: 22m 41s\n",
            "43:\tlearn: 0.5950001\ttotal: 1m 3s\tremaining: 22m 51s\n",
            "44:\tlearn: 0.5909621\ttotal: 1m 4s\tremaining: 22m 58s\n",
            "45:\tlearn: 0.5869777\ttotal: 1m 7s\tremaining: 23m 12s\n",
            "46:\tlearn: 0.5831514\ttotal: 1m 8s\tremaining: 23m 12s\n",
            "47:\tlearn: 0.5799743\ttotal: 1m 9s\tremaining: 23m 4s\n",
            "48:\tlearn: 0.5765352\ttotal: 1m 10s\tremaining: 22m 56s\n",
            "49:\tlearn: 0.5732417\ttotal: 1m 12s\tremaining: 22m 50s\n",
            "50:\tlearn: 0.5698028\ttotal: 1m 13s\tremaining: 22m 44s\n",
            "51:\tlearn: 0.5657421\ttotal: 1m 14s\tremaining: 22m 41s\n",
            "52:\tlearn: 0.5629248\ttotal: 1m 15s\tremaining: 22m 34s\n",
            "53:\tlearn: 0.5597792\ttotal: 1m 16s\tremaining: 22m 27s\n",
            "54:\tlearn: 0.5561659\ttotal: 1m 18s\tremaining: 22m 20s\n",
            "55:\tlearn: 0.5533776\ttotal: 1m 19s\tremaining: 22m 26s\n",
            "56:\tlearn: 0.5505918\ttotal: 1m 21s\tremaining: 22m 30s\n",
            "57:\tlearn: 0.5471463\ttotal: 1m 23s\tremaining: 22m 36s\n",
            "58:\tlearn: 0.5445535\ttotal: 1m 25s\tremaining: 22m 41s\n",
            "59:\tlearn: 0.5420928\ttotal: 1m 26s\tremaining: 22m 38s\n",
            "60:\tlearn: 0.5379430\ttotal: 1m 27s\tremaining: 22m 33s\n",
            "61:\tlearn: 0.5352141\ttotal: 1m 29s\tremaining: 22m 27s\n",
            "62:\tlearn: 0.5326473\ttotal: 1m 30s\tremaining: 22m 26s\n",
            "63:\tlearn: 0.5303852\ttotal: 1m 31s\tremaining: 22m 20s\n",
            "64:\tlearn: 0.5282364\ttotal: 1m 32s\tremaining: 22m 14s\n",
            "65:\tlearn: 0.5253019\ttotal: 1m 33s\tremaining: 22m 8s\n",
            "66:\tlearn: 0.5228574\ttotal: 1m 35s\tremaining: 22m 3s\n",
            "67:\tlearn: 0.5199815\ttotal: 1m 36s\tremaining: 22m 1s\n",
            "68:\tlearn: 0.5178963\ttotal: 1m 38s\tremaining: 22m 10s\n",
            "69:\tlearn: 0.5159869\ttotal: 1m 40s\tremaining: 22m 13s\n",
            "70:\tlearn: 0.5137792\ttotal: 1m 42s\tremaining: 22m 17s\n",
            "71:\tlearn: 0.5117259\ttotal: 1m 43s\tremaining: 22m 16s\n",
            "72:\tlearn: 0.5093567\ttotal: 1m 44s\tremaining: 22m 11s\n",
            "73:\tlearn: 0.5071734\ttotal: 1m 45s\tremaining: 22m 5s\n",
            "74:\tlearn: 0.5049971\ttotal: 1m 47s\tremaining: 22m\n",
            "75:\tlearn: 0.5028461\ttotal: 1m 48s\tremaining: 22m 3s\n",
            "76:\tlearn: 0.5012065\ttotal: 1m 49s\tremaining: 21m 58s\n",
            "77:\tlearn: 0.4994987\ttotal: 1m 51s\tremaining: 21m 52s\n",
            "78:\tlearn: 0.4974653\ttotal: 1m 52s\tremaining: 21m 48s\n",
            "79:\tlearn: 0.4957262\ttotal: 1m 53s\tremaining: 21m 45s\n",
            "80:\tlearn: 0.4944388\ttotal: 1m 55s\tremaining: 21m 49s\n",
            "81:\tlearn: 0.4928976\ttotal: 1m 57s\tremaining: 21m 51s\n",
            "82:\tlearn: 0.4906877\ttotal: 1m 59s\tremaining: 21m 59s\n",
            "83:\tlearn: 0.4888458\ttotal: 2m\tremaining: 21m 58s\n",
            "84:\tlearn: 0.4874962\ttotal: 2m 1s\tremaining: 21m 53s\n",
            "85:\tlearn: 0.4858854\ttotal: 2m 3s\tremaining: 21m 48s\n",
            "86:\tlearn: 0.4841572\ttotal: 2m 4s\tremaining: 21m 44s\n",
            "87:\tlearn: 0.4827978\ttotal: 2m 5s\tremaining: 21m 39s\n",
            "88:\tlearn: 0.4816307\ttotal: 2m 6s\tremaining: 21m 34s\n",
            "89:\tlearn: 0.4801203\ttotal: 2m 7s\tremaining: 21m 31s\n",
            "90:\tlearn: 0.4788413\ttotal: 2m 8s\tremaining: 21m 27s\n",
            "91:\tlearn: 0.4772550\ttotal: 2m 9s\tremaining: 21m 23s\n",
            "92:\tlearn: 0.4753772\ttotal: 2m 11s\tremaining: 21m 24s\n",
            "93:\tlearn: 0.4740432\ttotal: 2m 13s\tremaining: 21m 27s\n",
            "94:\tlearn: 0.4723441\ttotal: 2m 15s\tremaining: 21m 31s\n",
            "95:\tlearn: 0.4709064\ttotal: 2m 17s\tremaining: 21m 32s\n",
            "96:\tlearn: 0.4696637\ttotal: 2m 18s\tremaining: 21m 30s\n",
            "97:\tlearn: 0.4682166\ttotal: 2m 19s\tremaining: 21m 26s\n",
            "98:\tlearn: 0.4668518\ttotal: 2m 20s\tremaining: 21m 22s\n",
            "99:\tlearn: 0.4653583\ttotal: 2m 22s\tremaining: 21m 18s\n",
            "100:\tlearn: 0.4637477\ttotal: 2m 23s\tremaining: 21m 14s\n",
            "101:\tlearn: 0.4619841\ttotal: 2m 24s\tremaining: 21m 10s\n",
            "102:\tlearn: 0.4606316\ttotal: 2m 25s\tremaining: 21m 6s\n",
            "103:\tlearn: 0.4595754\ttotal: 2m 26s\tremaining: 21m 2s\n",
            "104:\tlearn: 0.4584283\ttotal: 2m 27s\tremaining: 20m 59s\n",
            "105:\tlearn: 0.4570458\ttotal: 2m 29s\tremaining: 20m 59s\n",
            "106:\tlearn: 0.4555993\ttotal: 2m 31s\tremaining: 21m 3s\n",
            "107:\tlearn: 0.4541702\ttotal: 2m 33s\tremaining: 21m 5s\n",
            "108:\tlearn: 0.4525027\ttotal: 2m 35s\tremaining: 21m 8s\n",
            "109:\tlearn: 0.4511251\ttotal: 2m 36s\tremaining: 21m 4s\n",
            "110:\tlearn: 0.4483013\ttotal: 2m 37s\tremaining: 21m 1s\n",
            "111:\tlearn: 0.4471168\ttotal: 2m 38s\tremaining: 20m 57s\n",
            "112:\tlearn: 0.4462113\ttotal: 2m 39s\tremaining: 20m 53s\n",
            "113:\tlearn: 0.4453740\ttotal: 2m 40s\tremaining: 20m 49s\n",
            "114:\tlearn: 0.4444629\ttotal: 2m 41s\tremaining: 20m 45s\n",
            "115:\tlearn: 0.4431373\ttotal: 2m 42s\tremaining: 20m 42s\n",
            "116:\tlearn: 0.4419994\ttotal: 2m 44s\tremaining: 20m 38s\n",
            "117:\tlearn: 0.4407703\ttotal: 2m 45s\tremaining: 20m 34s\n",
            "118:\tlearn: 0.4397595\ttotal: 2m 46s\tremaining: 20m 34s\n",
            "119:\tlearn: 0.4385204\ttotal: 2m 48s\tremaining: 20m 36s\n",
            "120:\tlearn: 0.4378183\ttotal: 2m 50s\tremaining: 20m 37s\n",
            "121:\tlearn: 0.4363373\ttotal: 2m 52s\tremaining: 20m 38s\n",
            "122:\tlearn: 0.4355092\ttotal: 2m 53s\tremaining: 20m 36s\n",
            "123:\tlearn: 0.4348134\ttotal: 2m 54s\tremaining: 20m 32s\n",
            "124:\tlearn: 0.4331483\ttotal: 2m 55s\tremaining: 20m 29s\n",
            "125:\tlearn: 0.4322107\ttotal: 2m 56s\tremaining: 20m 25s\n",
            "126:\tlearn: 0.4315219\ttotal: 2m 57s\tremaining: 20m 21s\n",
            "127:\tlearn: 0.4300819\ttotal: 2m 58s\tremaining: 20m 18s\n",
            "128:\tlearn: 0.4291334\ttotal: 2m 59s\tremaining: 20m 15s\n",
            "129:\tlearn: 0.4282140\ttotal: 3m 1s\tremaining: 20m 11s\n",
            "130:\tlearn: 0.4273670\ttotal: 3m 2s\tremaining: 20m 8s\n",
            "131:\tlearn: 0.4261379\ttotal: 3m 3s\tremaining: 20m 7s\n",
            "132:\tlearn: 0.4255392\ttotal: 3m 5s\tremaining: 20m 8s\n",
            "133:\tlearn: 0.4242356\ttotal: 3m 7s\tremaining: 20m 9s\n",
            "134:\tlearn: 0.4233286\ttotal: 3m 8s\tremaining: 20m 10s\n",
            "135:\tlearn: 0.4229943\ttotal: 3m 10s\tremaining: 20m 10s\n",
            "136:\tlearn: 0.4225728\ttotal: 3m 11s\tremaining: 20m 6s\n",
            "137:\tlearn: 0.4220332\ttotal: 3m 12s\tremaining: 20m 3s\n",
            "138:\tlearn: 0.4213394\ttotal: 3m 13s\tremaining: 20m\n",
            "139:\tlearn: 0.4209094\ttotal: 3m 14s\tremaining: 19m 57s\n",
            "140:\tlearn: 0.4195986\ttotal: 3m 16s\tremaining: 19m 54s\n",
            "141:\tlearn: 0.4186990\ttotal: 3m 17s\tremaining: 19m 51s\n",
            "142:\tlearn: 0.4183090\ttotal: 3m 18s\tremaining: 19m 48s\n",
            "143:\tlearn: 0.4177903\ttotal: 3m 19s\tremaining: 19m 45s\n",
            "144:\tlearn: 0.4168071\ttotal: 3m 20s\tremaining: 19m 42s\n",
            "145:\tlearn: 0.4159187\ttotal: 3m 22s\tremaining: 19m 43s\n",
            "146:\tlearn: 0.4149335\ttotal: 3m 24s\tremaining: 19m 44s\n",
            "147:\tlearn: 0.4138953\ttotal: 3m 26s\tremaining: 19m 47s\n",
            "148:\tlearn: 0.4129374\ttotal: 3m 27s\tremaining: 19m 47s\n",
            "149:\tlearn: 0.4122604\ttotal: 3m 28s\tremaining: 19m 44s\n",
            "150:\tlearn: 0.4113611\ttotal: 3m 30s\tremaining: 19m 41s\n",
            "151:\tlearn: 0.4102857\ttotal: 3m 31s\tremaining: 19m 38s\n",
            "152:\tlearn: 0.4090215\ttotal: 3m 32s\tremaining: 19m 35s\n",
            "153:\tlearn: 0.4082419\ttotal: 3m 33s\tremaining: 19m 32s\n",
            "154:\tlearn: 0.4076541\ttotal: 3m 34s\tremaining: 19m 29s\n",
            "155:\tlearn: 0.4070889\ttotal: 3m 35s\tremaining: 19m 26s\n",
            "156:\tlearn: 0.4063097\ttotal: 3m 36s\tremaining: 19m 23s\n",
            "157:\tlearn: 0.4052241\ttotal: 3m 37s\tremaining: 19m 20s\n",
            "158:\tlearn: 0.4044176\ttotal: 3m 39s\tremaining: 19m 21s\n",
            "159:\tlearn: 0.4040611\ttotal: 3m 41s\tremaining: 19m 21s\n",
            "160:\tlearn: 0.4036127\ttotal: 3m 43s\tremaining: 19m 22s\n",
            "161:\tlearn: 0.4030905\ttotal: 3m 44s\tremaining: 19m 22s\n",
            "162:\tlearn: 0.4027856\ttotal: 3m 45s\tremaining: 19m 20s\n",
            "163:\tlearn: 0.4025589\ttotal: 3m 47s\tremaining: 19m 17s\n",
            "164:\tlearn: 0.4019101\ttotal: 3m 48s\tremaining: 19m 15s\n",
            "165:\tlearn: 0.4015302\ttotal: 3m 49s\tremaining: 19m 12s\n",
            "166:\tlearn: 0.4013357\ttotal: 3m 50s\tremaining: 19m 9s\n",
            "167:\tlearn: 0.4010590\ttotal: 3m 51s\tremaining: 19m 6s\n",
            "168:\tlearn: 0.4007071\ttotal: 3m 52s\tremaining: 19m 3s\n",
            "169:\tlearn: 0.4005689\ttotal: 3m 53s\tremaining: 19m\n",
            "170:\tlearn: 0.4003457\ttotal: 3m 54s\tremaining: 18m 57s\n",
            "171:\tlearn: 0.3991825\ttotal: 3m 56s\tremaining: 18m 56s\n",
            "172:\tlearn: 0.3988167\ttotal: 3m 57s\tremaining: 18m 57s\n",
            "173:\tlearn: 0.3986505\ttotal: 3m 59s\tremaining: 18m 57s\n",
            "174:\tlearn: 0.3982010\ttotal: 4m 1s\tremaining: 18m 57s\n",
            "175:\tlearn: 0.3973552\ttotal: 4m 2s\tremaining: 18m 57s\n",
            "176:\tlearn: 0.3969697\ttotal: 4m 4s\tremaining: 18m 54s\n",
            "177:\tlearn: 0.3960384\ttotal: 4m 5s\tremaining: 18m 51s\n",
            "178:\tlearn: 0.3958782\ttotal: 4m 6s\tremaining: 18m 49s\n",
            "179:\tlearn: 0.3956909\ttotal: 4m 7s\tremaining: 18m 46s\n",
            "180:\tlearn: 0.3949410\ttotal: 4m 8s\tremaining: 18m 43s\n",
            "181:\tlearn: 0.3942316\ttotal: 4m 9s\tremaining: 18m 40s\n",
            "182:\tlearn: 0.3934532\ttotal: 4m 10s\tremaining: 18m 38s\n",
            "183:\tlearn: 0.3929921\ttotal: 4m 11s\tremaining: 18m 35s\n",
            "184:\tlearn: 0.3925501\ttotal: 4m 12s\tremaining: 18m 33s\n",
            "185:\tlearn: 0.3923741\ttotal: 4m 14s\tremaining: 18m 33s\n",
            "186:\tlearn: 0.3921052\ttotal: 4m 16s\tremaining: 18m 33s\n",
            "187:\tlearn: 0.3910204\ttotal: 4m 18s\tremaining: 18m 37s\n",
            "188:\tlearn: 0.3898710\ttotal: 4m 20s\tremaining: 18m 37s\n",
            "189:\tlearn: 0.3896186\ttotal: 4m 21s\tremaining: 18m 34s\n",
            "190:\tlearn: 0.3893129\ttotal: 4m 22s\tremaining: 18m 31s\n",
            "191:\tlearn: 0.3891750\ttotal: 4m 23s\tremaining: 18m 29s\n",
            "192:\tlearn: 0.3885509\ttotal: 4m 24s\tremaining: 18m 26s\n",
            "193:\tlearn: 0.3883421\ttotal: 4m 25s\tremaining: 18m 23s\n",
            "194:\tlearn: 0.3875043\ttotal: 4m 26s\tremaining: 18m 21s\n",
            "195:\tlearn: 0.3870665\ttotal: 4m 28s\tremaining: 18m 19s\n",
            "196:\tlearn: 0.3864994\ttotal: 4m 29s\tremaining: 18m 17s\n",
            "197:\tlearn: 0.3863775\ttotal: 4m 30s\tremaining: 18m 14s\n",
            "198:\tlearn: 0.3858930\ttotal: 4m 31s\tremaining: 18m 14s\n",
            "199:\tlearn: 0.3855578\ttotal: 4m 33s\tremaining: 18m 14s\n",
            "200:\tlearn: 0.3849010\ttotal: 4m 35s\tremaining: 18m 15s\n",
            "201:\tlearn: 0.3847703\ttotal: 4m 37s\tremaining: 18m 15s\n",
            "202:\tlearn: 0.3841159\ttotal: 4m 38s\tremaining: 18m 12s\n",
            "203:\tlearn: 0.3839053\ttotal: 4m 39s\tremaining: 18m 10s\n",
            "204:\tlearn: 0.3836051\ttotal: 4m 40s\tremaining: 18m 7s\n",
            "205:\tlearn: 0.3834588\ttotal: 4m 41s\tremaining: 18m 5s\n",
            "206:\tlearn: 0.3830418\ttotal: 4m 42s\tremaining: 18m 2s\n",
            "207:\tlearn: 0.3824765\ttotal: 4m 43s\tremaining: 18m\n",
            "208:\tlearn: 0.3822707\ttotal: 4m 44s\tremaining: 17m 57s\n",
            "209:\tlearn: 0.3820254\ttotal: 4m 45s\tremaining: 17m 55s\n",
            "210:\tlearn: 0.3819322\ttotal: 4m 46s\tremaining: 17m 52s\n",
            "211:\tlearn: 0.3811656\ttotal: 4m 48s\tremaining: 17m 51s\n",
            "212:\tlearn: 0.3810333\ttotal: 4m 49s\tremaining: 17m 51s\n",
            "213:\tlearn: 0.3806672\ttotal: 4m 51s\tremaining: 17m 51s\n",
            "214:\tlearn: 0.3803481\ttotal: 4m 53s\tremaining: 17m 51s\n",
            "215:\tlearn: 0.3800300\ttotal: 4m 55s\tremaining: 17m 50s\n",
            "216:\tlearn: 0.3797243\ttotal: 4m 56s\tremaining: 17m 48s\n",
            "217:\tlearn: 0.3794307\ttotal: 4m 57s\tremaining: 17m 45s\n",
            "218:\tlearn: 0.3791205\ttotal: 4m 58s\tremaining: 17m 43s\n",
            "219:\tlearn: 0.3788409\ttotal: 4m 59s\tremaining: 17m 40s\n",
            "220:\tlearn: 0.3782677\ttotal: 5m\tremaining: 17m 39s\n",
            "221:\tlearn: 0.3779112\ttotal: 5m 1s\tremaining: 17m 37s\n",
            "222:\tlearn: 0.3777982\ttotal: 5m 2s\tremaining: 17m 34s\n",
            "223:\tlearn: 0.3773170\ttotal: 5m 3s\tremaining: 17m 32s\n",
            "224:\tlearn: 0.3771933\ttotal: 5m 4s\tremaining: 17m 29s\n",
            "225:\tlearn: 0.3767472\ttotal: 5m 6s\tremaining: 17m 29s\n",
            "226:\tlearn: 0.3766901\ttotal: 5m 8s\tremaining: 17m 29s\n",
            "227:\tlearn: 0.3764514\ttotal: 5m 9s\tremaining: 17m 29s\n",
            "228:\tlearn: 0.3761851\ttotal: 5m 11s\tremaining: 17m 29s\n",
            "229:\tlearn: 0.3760630\ttotal: 5m 12s\tremaining: 17m 27s\n",
            "230:\tlearn: 0.3758306\ttotal: 5m 13s\tremaining: 17m 25s\n",
            "231:\tlearn: 0.3753129\ttotal: 5m 15s\tremaining: 17m 23s\n",
            "232:\tlearn: 0.3748503\ttotal: 5m 16s\tremaining: 17m 20s\n",
            "233:\tlearn: 0.3744244\ttotal: 5m 17s\tremaining: 17m 18s\n",
            "234:\tlearn: 0.3741122\ttotal: 5m 18s\tremaining: 17m 16s\n",
            "235:\tlearn: 0.3740806\ttotal: 5m 19s\tremaining: 17m 13s\n",
            "236:\tlearn: 0.3739296\ttotal: 5m 20s\tremaining: 17m 11s\n",
            "237:\tlearn: 0.3733398\ttotal: 5m 21s\tremaining: 17m 9s\n",
            "238:\tlearn: 0.3731738\ttotal: 5m 22s\tremaining: 17m 7s\n",
            "239:\tlearn: 0.3729466\ttotal: 5m 24s\tremaining: 17m 7s\n",
            "240:\tlearn: 0.3728275\ttotal: 5m 26s\tremaining: 17m 7s\n",
            "241:\tlearn: 0.3722043\ttotal: 5m 28s\tremaining: 17m 7s\n",
            "242:\tlearn: 0.3720241\ttotal: 5m 29s\tremaining: 17m 7s\n",
            "243:\tlearn: 0.3716773\ttotal: 5m 30s\tremaining: 17m 4s\n",
            "244:\tlearn: 0.3716000\ttotal: 5m 31s\tremaining: 17m 2s\n",
            "245:\tlearn: 0.3714746\ttotal: 5m 32s\tremaining: 17m\n",
            "246:\tlearn: 0.3713222\ttotal: 5m 33s\tremaining: 16m 57s\n",
            "247:\tlearn: 0.3711706\ttotal: 5m 34s\tremaining: 16m 55s\n",
            "248:\tlearn: 0.3710534\ttotal: 5m 35s\tremaining: 16m 53s\n",
            "249:\tlearn: 0.3709479\ttotal: 5m 37s\tremaining: 16m 51s\n",
            "250:\tlearn: 0.3708694\ttotal: 5m 38s\tremaining: 16m 49s\n",
            "251:\tlearn: 0.3704063\ttotal: 5m 39s\tremaining: 16m 46s\n",
            "252:\tlearn: 0.3698843\ttotal: 5m 40s\tremaining: 16m 46s\n",
            "253:\tlearn: 0.3695439\ttotal: 5m 42s\tremaining: 16m 46s\n",
            "254:\tlearn: 0.3694591\ttotal: 5m 44s\tremaining: 16m 46s\n",
            "255:\tlearn: 0.3691908\ttotal: 5m 46s\tremaining: 16m 45s\n",
            "256:\tlearn: 0.3691229\ttotal: 5m 47s\tremaining: 16m 44s\n",
            "257:\tlearn: 0.3689499\ttotal: 5m 48s\tremaining: 16m 42s\n",
            "258:\tlearn: 0.3685161\ttotal: 5m 49s\tremaining: 16m 40s\n",
            "259:\tlearn: 0.3680174\ttotal: 5m 50s\tremaining: 16m 37s\n",
            "260:\tlearn: 0.3670875\ttotal: 5m 51s\tremaining: 16m 35s\n",
            "261:\tlearn: 0.3669935\ttotal: 5m 52s\tremaining: 16m 33s\n",
            "262:\tlearn: 0.3669098\ttotal: 5m 53s\tremaining: 16m 31s\n",
            "263:\tlearn: 0.3664467\ttotal: 5m 54s\tremaining: 16m 29s\n",
            "264:\tlearn: 0.3661448\ttotal: 5m 55s\tremaining: 16m 27s\n",
            "265:\tlearn: 0.3659328\ttotal: 5m 57s\tremaining: 16m 25s\n",
            "266:\tlearn: 0.3657923\ttotal: 5m 58s\tremaining: 16m 25s\n",
            "267:\tlearn: 0.3656343\ttotal: 6m\tremaining: 16m 24s\n",
            "268:\tlearn: 0.3655468\ttotal: 6m 2s\tremaining: 16m 24s\n",
            "269:\tlearn: 0.3654283\ttotal: 6m 4s\tremaining: 16m 24s\n",
            "270:\tlearn: 0.3653343\ttotal: 6m 5s\tremaining: 16m 22s\n",
            "271:\tlearn: 0.3652048\ttotal: 6m 6s\tremaining: 16m 20s\n",
            "272:\tlearn: 0.3651193\ttotal: 6m 7s\tremaining: 16m 18s\n",
            "273:\tlearn: 0.3650320\ttotal: 6m 8s\tremaining: 16m 16s\n",
            "274:\tlearn: 0.3648581\ttotal: 6m 9s\tremaining: 16m 13s\n",
            "275:\tlearn: 0.3646077\ttotal: 6m 10s\tremaining: 16m 11s\n",
            "276:\tlearn: 0.3643965\ttotal: 6m 11s\tremaining: 16m 9s\n",
            "277:\tlearn: 0.3643157\ttotal: 6m 12s\tremaining: 16m 7s\n",
            "278:\tlearn: 0.3640401\ttotal: 6m 13s\tremaining: 16m 5s\n",
            "279:\tlearn: 0.3640178\ttotal: 6m 15s\tremaining: 16m 4s\n",
            "280:\tlearn: 0.3639454\ttotal: 6m 16s\tremaining: 16m 4s\n",
            "281:\tlearn: 0.3637720\ttotal: 6m 18s\tremaining: 16m 3s\n",
            "282:\tlearn: 0.3636921\ttotal: 6m 20s\tremaining: 16m 3s\n",
            "283:\tlearn: 0.3636471\ttotal: 6m 21s\tremaining: 16m 2s\n",
            "284:\tlearn: 0.3633396\ttotal: 6m 22s\tremaining: 16m\n",
            "285:\tlearn: 0.3633028\ttotal: 6m 23s\tremaining: 15m 58s\n",
            "286:\tlearn: 0.3632180\ttotal: 6m 24s\tremaining: 15m 56s\n",
            "287:\tlearn: 0.3631389\ttotal: 6m 26s\tremaining: 15m 54s\n",
            "288:\tlearn: 0.3628513\ttotal: 6m 27s\tremaining: 15m 52s\n",
            "289:\tlearn: 0.3627925\ttotal: 6m 28s\tremaining: 15m 50s\n",
            "290:\tlearn: 0.3624182\ttotal: 6m 29s\tremaining: 15m 48s\n",
            "291:\tlearn: 0.3623372\ttotal: 6m 30s\tremaining: 15m 46s\n",
            "292:\tlearn: 0.3622571\ttotal: 6m 31s\tremaining: 15m 44s\n",
            "293:\tlearn: 0.3619096\ttotal: 6m 33s\tremaining: 15m 44s\n",
            "294:\tlearn: 0.3615507\ttotal: 6m 35s\tremaining: 15m 44s\n",
            "295:\tlearn: 0.3614724\ttotal: 6m 36s\tremaining: 15m 43s\n",
            "296:\tlearn: 0.3612004\ttotal: 6m 38s\tremaining: 15m 43s\n",
            "297:\tlearn: 0.3608002\ttotal: 6m 39s\tremaining: 15m 42s\n",
            "298:\tlearn: 0.3606941\ttotal: 6m 40s\tremaining: 15m 40s\n",
            "299:\tlearn: 0.3603677\ttotal: 6m 42s\tremaining: 15m 38s\n",
            "300:\tlearn: 0.3603008\ttotal: 6m 43s\tremaining: 15m 36s\n",
            "301:\tlearn: 0.3602409\ttotal: 6m 44s\tremaining: 15m 34s\n",
            "302:\tlearn: 0.3601234\ttotal: 6m 45s\tremaining: 15m 32s\n",
            "303:\tlearn: 0.3600323\ttotal: 6m 46s\tremaining: 15m 30s\n",
            "304:\tlearn: 0.3599420\ttotal: 6m 47s\tremaining: 15m 28s\n",
            "305:\tlearn: 0.3599021\ttotal: 6m 48s\tremaining: 15m 26s\n",
            "306:\tlearn: 0.3598105\ttotal: 6m 49s\tremaining: 15m 24s\n",
            "307:\tlearn: 0.3597893\ttotal: 6m 51s\tremaining: 15m 24s\n",
            "308:\tlearn: 0.3597297\ttotal: 6m 53s\tremaining: 15m 24s\n",
            "309:\tlearn: 0.3596576\ttotal: 6m 54s\tremaining: 15m 23s\n",
            "310:\tlearn: 0.3594566\ttotal: 6m 56s\tremaining: 15m 22s\n",
            "311:\tlearn: 0.3589397\ttotal: 6m 57s\tremaining: 15m 20s\n",
            "312:\tlearn: 0.3586118\ttotal: 6m 58s\tremaining: 15m 18s\n",
            "313:\tlearn: 0.3585361\ttotal: 6m 59s\tremaining: 15m 16s\n",
            "314:\tlearn: 0.3582587\ttotal: 7m\tremaining: 15m 14s\n",
            "315:\tlearn: 0.3580481\ttotal: 7m 1s\tremaining: 15m 13s\n",
            "316:\tlearn: 0.3579372\ttotal: 7m 2s\tremaining: 15m 11s\n",
            "317:\tlearn: 0.3578442\ttotal: 7m 3s\tremaining: 15m 9s\n",
            "318:\tlearn: 0.3578058\ttotal: 7m 4s\tremaining: 15m 7s\n",
            "319:\tlearn: 0.3577720\ttotal: 7m 6s\tremaining: 15m 5s\n",
            "320:\tlearn: 0.3576065\ttotal: 7m 7s\tremaining: 15m 4s\n",
            "321:\tlearn: 0.3574908\ttotal: 7m 9s\tremaining: 15m 3s\n",
            "322:\tlearn: 0.3574339\ttotal: 7m 11s\tremaining: 15m 3s\n",
            "323:\tlearn: 0.3572678\ttotal: 7m 12s\tremaining: 15m 2s\n",
            "324:\tlearn: 0.3571888\ttotal: 7m 14s\tremaining: 15m 1s\n",
            "325:\tlearn: 0.3570549\ttotal: 7m 15s\tremaining: 14m 59s\n",
            "326:\tlearn: 0.3568077\ttotal: 7m 16s\tremaining: 14m 57s\n",
            "327:\tlearn: 0.3564665\ttotal: 7m 17s\tremaining: 14m 55s\n",
            "328:\tlearn: 0.3564106\ttotal: 7m 18s\tremaining: 14m 53s\n",
            "329:\tlearn: 0.3563595\ttotal: 7m 19s\tremaining: 14m 52s\n",
            "330:\tlearn: 0.3561019\ttotal: 7m 20s\tremaining: 14m 50s\n",
            "331:\tlearn: 0.3560268\ttotal: 7m 21s\tremaining: 14m 48s\n",
            "332:\tlearn: 0.3559786\ttotal: 7m 22s\tremaining: 14m 46s\n",
            "333:\tlearn: 0.3548526\ttotal: 7m 23s\tremaining: 14m 45s\n",
            "334:\tlearn: 0.3545475\ttotal: 7m 25s\tremaining: 14m 44s\n",
            "335:\tlearn: 0.3542864\ttotal: 7m 27s\tremaining: 14m 44s\n",
            "336:\tlearn: 0.3541238\ttotal: 7m 29s\tremaining: 14m 43s\n",
            "337:\tlearn: 0.3540465\ttotal: 7m 30s\tremaining: 14m 43s\n",
            "338:\tlearn: 0.3539806\ttotal: 7m 31s\tremaining: 14m 41s\n",
            "339:\tlearn: 0.3538390\ttotal: 7m 33s\tremaining: 14m 39s\n",
            "340:\tlearn: 0.3535799\ttotal: 7m 34s\tremaining: 14m 37s\n",
            "341:\tlearn: 0.3535101\ttotal: 7m 35s\tremaining: 14m 35s\n",
            "342:\tlearn: 0.3534407\ttotal: 7m 36s\tremaining: 14m 33s\n",
            "343:\tlearn: 0.3532286\ttotal: 7m 37s\tremaining: 14m 32s\n",
            "344:\tlearn: 0.3530187\ttotal: 7m 38s\tremaining: 14m 30s\n",
            "345:\tlearn: 0.3529821\ttotal: 7m 39s\tremaining: 14m 28s\n",
            "346:\tlearn: 0.3527874\ttotal: 7m 40s\tremaining: 14m 26s\n",
            "347:\tlearn: 0.3527497\ttotal: 7m 42s\tremaining: 14m 25s\n",
            "348:\tlearn: 0.3526494\ttotal: 7m 43s\tremaining: 14m 25s\n",
            "349:\tlearn: 0.3524522\ttotal: 7m 45s\tremaining: 14m 24s\n",
            "350:\tlearn: 0.3523893\ttotal: 7m 47s\tremaining: 14m 23s\n",
            "351:\tlearn: 0.3523177\ttotal: 7m 48s\tremaining: 14m 22s\n",
            "352:\tlearn: 0.3522815\ttotal: 7m 49s\tremaining: 14m 20s\n",
            "353:\tlearn: 0.3522454\ttotal: 7m 50s\tremaining: 14m 19s\n",
            "354:\tlearn: 0.3520384\ttotal: 7m 51s\tremaining: 14m 17s\n",
            "355:\tlearn: 0.3519922\ttotal: 7m 52s\tremaining: 14m 15s\n",
            "356:\tlearn: 0.3519498\ttotal: 7m 53s\tremaining: 14m 13s\n",
            "357:\tlearn: 0.3519239\ttotal: 7m 54s\tremaining: 14m 11s\n",
            "358:\tlearn: 0.3517345\ttotal: 7m 56s\tremaining: 14m 9s\n",
            "359:\tlearn: 0.3516908\ttotal: 7m 57s\tremaining: 14m 8s\n",
            "360:\tlearn: 0.3516450\ttotal: 7m 58s\tremaining: 14m 6s\n",
            "361:\tlearn: 0.3515451\ttotal: 7m 59s\tremaining: 14m 5s\n",
            "362:\tlearn: 0.3515035\ttotal: 8m 1s\tremaining: 14m 4s\n",
            "363:\tlearn: 0.3514369\ttotal: 8m 3s\tremaining: 14m 4s\n",
            "364:\tlearn: 0.3512869\ttotal: 8m 4s\tremaining: 14m 3s\n",
            "365:\tlearn: 0.3507839\ttotal: 8m 6s\tremaining: 14m 2s\n",
            "366:\tlearn: 0.3507613\ttotal: 8m 7s\tremaining: 14m\n",
            "367:\tlearn: 0.3507276\ttotal: 8m 8s\tremaining: 13m 58s\n",
            "368:\tlearn: 0.3503391\ttotal: 8m 9s\tremaining: 13m 57s\n",
            "369:\tlearn: 0.3501142\ttotal: 8m 10s\tremaining: 13m 55s\n",
            "370:\tlearn: 0.3500874\ttotal: 8m 11s\tremaining: 13m 53s\n",
            "371:\tlearn: 0.3499953\ttotal: 8m 12s\tremaining: 13m 51s\n",
            "372:\tlearn: 0.3498125\ttotal: 8m 13s\tremaining: 13m 49s\n",
            "373:\tlearn: 0.3497522\ttotal: 8m 14s\tremaining: 13m 48s\n",
            "374:\tlearn: 0.3496408\ttotal: 8m 15s\tremaining: 13m 46s\n",
            "375:\tlearn: 0.3494660\ttotal: 8m 17s\tremaining: 13m 45s\n",
            "376:\tlearn: 0.3494046\ttotal: 8m 19s\tremaining: 13m 44s\n",
            "377:\tlearn: 0.3493482\ttotal: 8m 20s\tremaining: 13m 44s\n",
            "378:\tlearn: 0.3489698\ttotal: 8m 22s\tremaining: 13m 43s\n",
            "379:\tlearn: 0.3489110\ttotal: 8m 24s\tremaining: 13m 42s\n",
            "380:\tlearn: 0.3488366\ttotal: 8m 25s\tremaining: 13m 40s\n",
            "381:\tlearn: 0.3487562\ttotal: 8m 26s\tremaining: 13m 38s\n",
            "382:\tlearn: 0.3487081\ttotal: 8m 27s\tremaining: 13m 37s\n",
            "383:\tlearn: 0.3486193\ttotal: 8m 28s\tremaining: 13m 35s\n",
            "384:\tlearn: 0.3485757\ttotal: 8m 29s\tremaining: 13m 33s\n",
            "385:\tlearn: 0.3484109\ttotal: 8m 30s\tremaining: 13m 31s\n",
            "386:\tlearn: 0.3482279\ttotal: 8m 31s\tremaining: 13m 30s\n",
            "387:\tlearn: 0.3476488\ttotal: 8m 32s\tremaining: 13m 28s\n",
            "388:\tlearn: 0.3474649\ttotal: 8m 33s\tremaining: 13m 26s\n",
            "389:\tlearn: 0.3474111\ttotal: 8m 35s\tremaining: 13m 26s\n",
            "390:\tlearn: 0.3473521\ttotal: 8m 37s\tremaining: 13m 25s\n",
            "391:\tlearn: 0.3472871\ttotal: 8m 38s\tremaining: 13m 24s\n",
            "392:\tlearn: 0.3472307\ttotal: 8m 40s\tremaining: 13m 23s\n",
            "393:\tlearn: 0.3471746\ttotal: 8m 41s\tremaining: 13m 22s\n",
            "394:\tlearn: 0.3471052\ttotal: 8m 42s\tremaining: 13m 20s\n",
            "395:\tlearn: 0.3470638\ttotal: 8m 43s\tremaining: 13m 18s\n",
            "396:\tlearn: 0.3469615\ttotal: 8m 44s\tremaining: 13m 17s\n",
            "397:\tlearn: 0.3467697\ttotal: 8m 45s\tremaining: 13m 15s\n",
            "398:\tlearn: 0.3467152\ttotal: 8m 46s\tremaining: 13m 13s\n",
            "399:\tlearn: 0.3466530\ttotal: 8m 48s\tremaining: 13m 12s\n",
            "400:\tlearn: 0.3466169\ttotal: 8m 49s\tremaining: 13m 10s\n",
            "401:\tlearn: 0.3465837\ttotal: 8m 50s\tremaining: 13m 8s\n",
            "402:\tlearn: 0.3464079\ttotal: 8m 51s\tremaining: 13m 6s\n",
            "403:\tlearn: 0.3463724\ttotal: 8m 52s\tremaining: 13m 6s\n",
            "404:\tlearn: 0.3463494\ttotal: 8m 54s\tremaining: 13m 5s\n",
            "405:\tlearn: 0.3463055\ttotal: 8m 56s\tremaining: 13m 4s\n",
            "406:\tlearn: 0.3458082\ttotal: 8m 57s\tremaining: 13m 3s\n",
            "407:\tlearn: 0.3453229\ttotal: 8m 59s\tremaining: 13m 2s\n",
            "408:\tlearn: 0.3452043\ttotal: 9m\tremaining: 13m\n",
            "409:\tlearn: 0.3451500\ttotal: 9m 1s\tremaining: 12m 59s\n",
            "410:\tlearn: 0.3451036\ttotal: 9m 2s\tremaining: 12m 57s\n",
            "411:\tlearn: 0.3450566\ttotal: 9m 3s\tremaining: 12m 55s\n",
            "412:\tlearn: 0.3448783\ttotal: 9m 4s\tremaining: 12m 53s\n",
            "413:\tlearn: 0.3447813\ttotal: 9m 5s\tremaining: 12m 52s\n",
            "414:\tlearn: 0.3445571\ttotal: 9m 6s\tremaining: 12m 50s\n",
            "415:\tlearn: 0.3444497\ttotal: 9m 7s\tremaining: 12m 48s\n",
            "416:\tlearn: 0.3443961\ttotal: 9m 8s\tremaining: 12m 47s\n",
            "417:\tlearn: 0.3443601\ttotal: 9m 10s\tremaining: 12m 46s\n",
            "418:\tlearn: 0.3443031\ttotal: 9m 12s\tremaining: 12m 45s\n",
            "419:\tlearn: 0.3441934\ttotal: 9m 14s\tremaining: 12m 45s\n",
            "420:\tlearn: 0.3441544\ttotal: 9m 15s\tremaining: 12m 44s\n",
            "421:\tlearn: 0.3441042\ttotal: 9m 16s\tremaining: 12m 42s\n",
            "422:\tlearn: 0.3440682\ttotal: 9m 18s\tremaining: 12m 41s\n",
            "423:\tlearn: 0.3440468\ttotal: 9m 19s\tremaining: 12m 39s\n",
            "424:\tlearn: 0.3440094\ttotal: 9m 20s\tremaining: 12m 37s\n",
            "425:\tlearn: 0.3439497\ttotal: 9m 21s\tremaining: 12m 36s\n",
            "426:\tlearn: 0.3438690\ttotal: 9m 22s\tremaining: 12m 34s\n",
            "427:\tlearn: 0.3438457\ttotal: 9m 23s\tremaining: 12m 32s\n",
            "428:\tlearn: 0.3438216\ttotal: 9m 24s\tremaining: 12m 31s\n",
            "429:\tlearn: 0.3436216\ttotal: 9m 25s\tremaining: 12m 29s\n",
            "430:\tlearn: 0.3434360\ttotal: 9m 26s\tremaining: 12m 28s\n",
            "431:\tlearn: 0.3433803\ttotal: 9m 28s\tremaining: 12m 27s\n",
            "432:\tlearn: 0.3429559\ttotal: 9m 30s\tremaining: 12m 26s\n",
            "433:\tlearn: 0.3429096\ttotal: 9m 31s\tremaining: 12m 25s\n",
            "434:\tlearn: 0.3428833\ttotal: 9m 33s\tremaining: 12m 24s\n",
            "435:\tlearn: 0.3428319\ttotal: 9m 34s\tremaining: 12m 23s\n",
            "436:\tlearn: 0.3426690\ttotal: 9m 35s\tremaining: 12m 21s\n",
            "437:\tlearn: 0.3425142\ttotal: 9m 36s\tremaining: 12m 19s\n",
            "438:\tlearn: 0.3424699\ttotal: 9m 37s\tremaining: 12m 18s\n",
            "439:\tlearn: 0.3421362\ttotal: 9m 38s\tremaining: 12m 16s\n",
            "440:\tlearn: 0.3419730\ttotal: 9m 39s\tremaining: 12m 14s\n",
            "441:\tlearn: 0.3419381\ttotal: 9m 40s\tremaining: 12m 13s\n",
            "442:\tlearn: 0.3418603\ttotal: 9m 41s\tremaining: 12m 11s\n",
            "443:\tlearn: 0.3418265\ttotal: 9m 42s\tremaining: 12m 10s\n",
            "444:\tlearn: 0.3417289\ttotal: 9m 44s\tremaining: 12m 8s\n",
            "445:\tlearn: 0.3416861\ttotal: 9m 46s\tremaining: 12m 8s\n",
            "446:\tlearn: 0.3413966\ttotal: 9m 47s\tremaining: 12m 7s\n",
            "447:\tlearn: 0.3413417\ttotal: 9m 49s\tremaining: 12m 6s\n",
            "448:\tlearn: 0.3412953\ttotal: 9m 51s\tremaining: 12m 5s\n",
            "449:\tlearn: 0.3412729\ttotal: 9m 52s\tremaining: 12m 3s\n",
            "450:\tlearn: 0.3412212\ttotal: 9m 53s\tremaining: 12m 2s\n",
            "451:\tlearn: 0.3411968\ttotal: 9m 54s\tremaining: 12m\n",
            "452:\tlearn: 0.3409888\ttotal: 9m 55s\tremaining: 11m 58s\n",
            "453:\tlearn: 0.3409502\ttotal: 9m 56s\tremaining: 11m 57s\n",
            "454:\tlearn: 0.3408984\ttotal: 9m 57s\tremaining: 11m 55s\n",
            "455:\tlearn: 0.3407709\ttotal: 9m 58s\tremaining: 11m 53s\n",
            "456:\tlearn: 0.3406425\ttotal: 9m 59s\tremaining: 11m 52s\n",
            "457:\tlearn: 0.3405980\ttotal: 10m\tremaining: 11m 50s\n",
            "458:\tlearn: 0.3405659\ttotal: 10m 2s\tremaining: 11m 49s\n",
            "459:\tlearn: 0.3403523\ttotal: 10m 3s\tremaining: 11m 48s\n",
            "460:\tlearn: 0.3403190\ttotal: 10m 5s\tremaining: 11m 48s\n",
            "461:\tlearn: 0.3401802\ttotal: 10m 7s\tremaining: 11m 47s\n",
            "462:\tlearn: 0.3401367\ttotal: 10m 8s\tremaining: 11m 45s\n",
            "463:\tlearn: 0.3400995\ttotal: 10m 9s\tremaining: 11m 44s\n",
            "464:\tlearn: 0.3400293\ttotal: 10m 10s\tremaining: 11m 42s\n",
            "465:\tlearn: 0.3399845\ttotal: 10m 11s\tremaining: 11m 41s\n",
            "466:\tlearn: 0.3399246\ttotal: 10m 12s\tremaining: 11m 39s\n",
            "467:\tlearn: 0.3396425\ttotal: 10m 13s\tremaining: 11m 37s\n",
            "468:\tlearn: 0.3395800\ttotal: 10m 15s\tremaining: 11m 36s\n",
            "469:\tlearn: 0.3395533\ttotal: 10m 16s\tremaining: 11m 34s\n",
            "470:\tlearn: 0.3394946\ttotal: 10m 17s\tremaining: 11m 33s\n",
            "471:\tlearn: 0.3394470\ttotal: 10m 18s\tremaining: 11m 31s\n",
            "472:\tlearn: 0.3392969\ttotal: 10m 19s\tremaining: 11m 30s\n",
            "473:\tlearn: 0.3391840\ttotal: 10m 21s\tremaining: 11m 29s\n",
            "474:\tlearn: 0.3391446\ttotal: 10m 23s\tremaining: 11m 28s\n",
            "475:\tlearn: 0.3391052\ttotal: 10m 25s\tremaining: 11m 28s\n",
            "476:\tlearn: 0.3390408\ttotal: 10m 26s\tremaining: 11m 26s\n",
            "477:\tlearn: 0.3389888\ttotal: 10m 27s\tremaining: 11m 25s\n",
            "478:\tlearn: 0.3389587\ttotal: 10m 28s\tremaining: 11m 23s\n",
            "479:\tlearn: 0.3389352\ttotal: 10m 29s\tremaining: 11m 21s\n",
            "480:\tlearn: 0.3385455\ttotal: 10m 30s\tremaining: 11m 20s\n",
            "481:\tlearn: 0.3384985\ttotal: 10m 31s\tremaining: 11m 18s\n",
            "482:\tlearn: 0.3384516\ttotal: 10m 32s\tremaining: 11m 17s\n",
            "483:\tlearn: 0.3384261\ttotal: 10m 33s\tremaining: 11m 15s\n",
            "484:\tlearn: 0.3383613\ttotal: 10m 34s\tremaining: 11m 14s\n",
            "485:\tlearn: 0.3383271\ttotal: 10m 35s\tremaining: 11m 12s\n",
            "486:\tlearn: 0.3382904\ttotal: 10m 37s\tremaining: 11m 11s\n",
            "487:\tlearn: 0.3382351\ttotal: 10m 39s\tremaining: 11m 10s\n",
            "488:\tlearn: 0.3381956\ttotal: 10m 40s\tremaining: 11m 9s\n",
            "489:\tlearn: 0.3381536\ttotal: 10m 42s\tremaining: 11m 8s\n",
            "490:\tlearn: 0.3381231\ttotal: 10m 43s\tremaining: 11m 7s\n",
            "491:\tlearn: 0.3381002\ttotal: 10m 44s\tremaining: 11m 5s\n",
            "492:\tlearn: 0.3380600\ttotal: 10m 46s\tremaining: 11m 4s\n",
            "493:\tlearn: 0.3380005\ttotal: 10m 47s\tremaining: 11m 2s\n",
            "494:\tlearn: 0.3379663\ttotal: 10m 48s\tremaining: 11m 1s\n",
            "495:\tlearn: 0.3379454\ttotal: 10m 49s\tremaining: 10m 59s\n",
            "496:\tlearn: 0.3379162\ttotal: 10m 50s\tremaining: 10m 58s\n",
            "497:\tlearn: 0.3378784\ttotal: 10m 51s\tremaining: 10m 56s\n",
            "498:\tlearn: 0.3378367\ttotal: 10m 52s\tremaining: 10m 54s\n",
            "499:\tlearn: 0.3377894\ttotal: 10m 53s\tremaining: 10m 53s\n",
            "500:\tlearn: 0.3377324\ttotal: 10m 55s\tremaining: 10m 52s\n",
            "501:\tlearn: 0.3375504\ttotal: 10m 56s\tremaining: 10m 51s\n",
            "502:\tlearn: 0.3375156\ttotal: 10m 58s\tremaining: 10m 50s\n",
            "503:\tlearn: 0.3373472\ttotal: 11m\tremaining: 10m 49s\n",
            "504:\tlearn: 0.3372961\ttotal: 11m 1s\tremaining: 10m 48s\n",
            "505:\tlearn: 0.3372548\ttotal: 11m 2s\tremaining: 10m 46s\n",
            "506:\tlearn: 0.3370106\ttotal: 11m 3s\tremaining: 10m 45s\n",
            "507:\tlearn: 0.3363004\ttotal: 11m 4s\tremaining: 10m 43s\n",
            "508:\tlearn: 0.3360551\ttotal: 11m 6s\tremaining: 10m 42s\n",
            "509:\tlearn: 0.3360314\ttotal: 11m 7s\tremaining: 10m 40s\n",
            "510:\tlearn: 0.3359900\ttotal: 11m 8s\tremaining: 10m 39s\n",
            "511:\tlearn: 0.3359520\ttotal: 11m 9s\tremaining: 10m 37s\n",
            "512:\tlearn: 0.3359155\ttotal: 11m 10s\tremaining: 10m 36s\n",
            "513:\tlearn: 0.3358600\ttotal: 11m 11s\tremaining: 10m 34s\n",
            "514:\tlearn: 0.3358248\ttotal: 11m 13s\tremaining: 10m 34s\n",
            "515:\tlearn: 0.3357722\ttotal: 11m 15s\tremaining: 10m 33s\n",
            "516:\tlearn: 0.3357328\ttotal: 11m 16s\tremaining: 10m 32s\n",
            "517:\tlearn: 0.3356999\ttotal: 11m 18s\tremaining: 10m 31s\n",
            "518:\tlearn: 0.3356534\ttotal: 11m 19s\tremaining: 10m 29s\n",
            "519:\tlearn: 0.3356199\ttotal: 11m 20s\tremaining: 10m 28s\n",
            "520:\tlearn: 0.3353949\ttotal: 11m 21s\tremaining: 10m 26s\n",
            "521:\tlearn: 0.3353440\ttotal: 11m 22s\tremaining: 10m 25s\n",
            "522:\tlearn: 0.3353034\ttotal: 11m 23s\tremaining: 10m 23s\n",
            "523:\tlearn: 0.3352761\ttotal: 11m 24s\tremaining: 10m 21s\n",
            "524:\tlearn: 0.3352519\ttotal: 11m 25s\tremaining: 10m 20s\n",
            "525:\tlearn: 0.3351463\ttotal: 11m 26s\tremaining: 10m 18s\n",
            "526:\tlearn: 0.3351052\ttotal: 11m 27s\tremaining: 10m 17s\n",
            "527:\tlearn: 0.3350720\ttotal: 11m 29s\tremaining: 10m 16s\n",
            "528:\tlearn: 0.3350090\ttotal: 11m 30s\tremaining: 10m 15s\n",
            "529:\tlearn: 0.3349821\ttotal: 11m 32s\tremaining: 10m 14s\n",
            "530:\tlearn: 0.3347381\ttotal: 11m 34s\tremaining: 10m 13s\n",
            "531:\tlearn: 0.3346904\ttotal: 11m 36s\tremaining: 10m 12s\n",
            "532:\tlearn: 0.3345804\ttotal: 11m 37s\tremaining: 10m 10s\n",
            "533:\tlearn: 0.3345576\ttotal: 11m 38s\tremaining: 10m 9s\n",
            "534:\tlearn: 0.3344821\ttotal: 11m 39s\tremaining: 10m 7s\n",
            "535:\tlearn: 0.3344215\ttotal: 11m 40s\tremaining: 10m 6s\n",
            "536:\tlearn: 0.3343856\ttotal: 11m 41s\tremaining: 10m 4s\n",
            "537:\tlearn: 0.3343165\ttotal: 11m 42s\tremaining: 10m 3s\n",
            "538:\tlearn: 0.3342773\ttotal: 11m 43s\tremaining: 10m 1s\n",
            "539:\tlearn: 0.3342398\ttotal: 11m 44s\tremaining: 10m\n",
            "540:\tlearn: 0.3341460\ttotal: 11m 45s\tremaining: 9m 58s\n",
            "541:\tlearn: 0.3340953\ttotal: 11m 46s\tremaining: 9m 57s\n",
            "542:\tlearn: 0.3339776\ttotal: 11m 48s\tremaining: 9m 56s\n",
            "543:\tlearn: 0.3339459\ttotal: 11m 50s\tremaining: 9m 55s\n",
            "544:\tlearn: 0.3339200\ttotal: 11m 52s\tremaining: 9m 54s\n",
            "545:\tlearn: 0.3336524\ttotal: 11m 53s\tremaining: 9m 53s\n",
            "546:\tlearn: 0.3336055\ttotal: 11m 54s\tremaining: 9m 51s\n",
            "547:\tlearn: 0.3335521\ttotal: 11m 55s\tremaining: 9m 50s\n",
            "548:\tlearn: 0.3333136\ttotal: 11m 56s\tremaining: 9m 48s\n",
            "549:\tlearn: 0.3332674\ttotal: 11m 57s\tremaining: 9m 47s\n",
            "550:\tlearn: 0.3332430\ttotal: 11m 58s\tremaining: 9m 45s\n",
            "551:\tlearn: 0.3331910\ttotal: 12m\tremaining: 9m 44s\n",
            "552:\tlearn: 0.3331376\ttotal: 12m 1s\tremaining: 9m 42s\n",
            "553:\tlearn: 0.3329887\ttotal: 12m 2s\tremaining: 9m 41s\n",
            "554:\tlearn: 0.3329701\ttotal: 12m 3s\tremaining: 9m 39s\n",
            "555:\tlearn: 0.3329308\ttotal: 12m 4s\tremaining: 9m 38s\n",
            "556:\tlearn: 0.3328796\ttotal: 12m 6s\tremaining: 9m 37s\n",
            "557:\tlearn: 0.3328589\ttotal: 12m 8s\tremaining: 9m 36s\n",
            "558:\tlearn: 0.3328101\ttotal: 12m 9s\tremaining: 9m 35s\n",
            "559:\tlearn: 0.3327636\ttotal: 12m 11s\tremaining: 9m 34s\n",
            "560:\tlearn: 0.3323238\ttotal: 12m 12s\tremaining: 9m 33s\n",
            "561:\tlearn: 0.3322549\ttotal: 12m 13s\tremaining: 9m 31s\n",
            "562:\tlearn: 0.3322246\ttotal: 12m 14s\tremaining: 9m 30s\n",
            "563:\tlearn: 0.3321866\ttotal: 12m 15s\tremaining: 9m 28s\n",
            "564:\tlearn: 0.3321527\ttotal: 12m 16s\tremaining: 9m 27s\n",
            "565:\tlearn: 0.3321223\ttotal: 12m 17s\tremaining: 9m 25s\n",
            "566:\tlearn: 0.3320678\ttotal: 12m 18s\tremaining: 9m 24s\n",
            "567:\tlearn: 0.3320337\ttotal: 12m 19s\tremaining: 9m 22s\n",
            "568:\tlearn: 0.3319947\ttotal: 12m 20s\tremaining: 9m 21s\n",
            "569:\tlearn: 0.3319551\ttotal: 12m 22s\tremaining: 9m 20s\n",
            "570:\tlearn: 0.3319318\ttotal: 12m 24s\tremaining: 9m 19s\n",
            "571:\tlearn: 0.3319123\ttotal: 12m 25s\tremaining: 9m 18s\n",
            "572:\tlearn: 0.3318761\ttotal: 12m 27s\tremaining: 9m 17s\n",
            "573:\tlearn: 0.3318421\ttotal: 12m 28s\tremaining: 9m 15s\n",
            "574:\tlearn: 0.3317864\ttotal: 12m 30s\tremaining: 9m 14s\n",
            "575:\tlearn: 0.3317526\ttotal: 12m 31s\tremaining: 9m 12s\n",
            "576:\tlearn: 0.3317087\ttotal: 12m 32s\tremaining: 9m 11s\n",
            "577:\tlearn: 0.3316853\ttotal: 12m 33s\tremaining: 9m 9s\n",
            "578:\tlearn: 0.3316754\ttotal: 12m 34s\tremaining: 9m 8s\n",
            "579:\tlearn: 0.3314066\ttotal: 12m 35s\tremaining: 9m 6s\n",
            "580:\tlearn: 0.3311793\ttotal: 12m 36s\tremaining: 9m 5s\n",
            "581:\tlearn: 0.3311532\ttotal: 12m 37s\tremaining: 9m 4s\n",
            "582:\tlearn: 0.3311106\ttotal: 12m 38s\tremaining: 9m 2s\n",
            "583:\tlearn: 0.3309580\ttotal: 12m 40s\tremaining: 9m 1s\n",
            "584:\tlearn: 0.3309126\ttotal: 12m 41s\tremaining: 9m\n",
            "585:\tlearn: 0.3308633\ttotal: 12m 43s\tremaining: 8m 59s\n",
            "586:\tlearn: 0.3307049\ttotal: 12m 45s\tremaining: 8m 58s\n",
            "587:\tlearn: 0.3305072\ttotal: 12m 46s\tremaining: 8m 57s\n",
            "588:\tlearn: 0.3304760\ttotal: 12m 47s\tremaining: 8m 55s\n",
            "589:\tlearn: 0.3297976\ttotal: 12m 49s\tremaining: 8m 54s\n",
            "590:\tlearn: 0.3297105\ttotal: 12m 50s\tremaining: 8m 52s\n",
            "591:\tlearn: 0.3296583\ttotal: 12m 51s\tremaining: 8m 51s\n",
            "592:\tlearn: 0.3294938\ttotal: 12m 52s\tremaining: 8m 49s\n",
            "593:\tlearn: 0.3294610\ttotal: 12m 53s\tremaining: 8m 48s\n",
            "594:\tlearn: 0.3294180\ttotal: 12m 54s\tremaining: 8m 47s\n",
            "595:\tlearn: 0.3293969\ttotal: 12m 55s\tremaining: 8m 45s\n",
            "596:\tlearn: 0.3293156\ttotal: 12m 56s\tremaining: 8m 44s\n",
            "597:\tlearn: 0.3292929\ttotal: 12m 57s\tremaining: 8m 43s\n",
            "598:\tlearn: 0.3292552\ttotal: 12m 59s\tremaining: 8m 41s\n",
            "599:\tlearn: 0.3292103\ttotal: 13m 1s\tremaining: 8m 40s\n",
            "600:\tlearn: 0.3291678\ttotal: 13m 3s\tremaining: 8m 39s\n",
            "601:\tlearn: 0.3291413\ttotal: 13m 4s\tremaining: 8m 38s\n",
            "602:\tlearn: 0.3291147\ttotal: 13m 5s\tremaining: 8m 37s\n",
            "603:\tlearn: 0.3289788\ttotal: 13m 6s\tremaining: 8m 35s\n",
            "604:\tlearn: 0.3289274\ttotal: 13m 7s\tremaining: 8m 34s\n",
            "605:\tlearn: 0.3289021\ttotal: 13m 8s\tremaining: 8m 32s\n",
            "606:\tlearn: 0.3288649\ttotal: 13m 9s\tremaining: 8m 31s\n",
            "607:\tlearn: 0.3288395\ttotal: 13m 10s\tremaining: 8m 29s\n",
            "608:\tlearn: 0.3286029\ttotal: 13m 11s\tremaining: 8m 28s\n",
            "609:\tlearn: 0.3285896\ttotal: 13m 12s\tremaining: 8m 26s\n",
            "610:\tlearn: 0.3285627\ttotal: 13m 13s\tremaining: 8m 25s\n",
            "611:\tlearn: 0.3281498\ttotal: 13m 15s\tremaining: 8m 24s\n",
            "612:\tlearn: 0.3280746\ttotal: 13m 17s\tremaining: 8m 23s\n",
            "613:\tlearn: 0.3280500\ttotal: 13m 19s\tremaining: 8m 22s\n",
            "614:\tlearn: 0.3274527\ttotal: 13m 21s\tremaining: 8m 21s\n",
            "615:\tlearn: 0.3268800\ttotal: 13m 22s\tremaining: 8m 20s\n",
            "616:\tlearn: 0.3267769\ttotal: 13m 23s\tremaining: 8m 18s\n",
            "617:\tlearn: 0.3266842\ttotal: 13m 24s\tremaining: 8m 17s\n",
            "618:\tlearn: 0.3266210\ttotal: 13m 25s\tremaining: 8m 15s\n",
            "619:\tlearn: 0.3265993\ttotal: 13m 26s\tremaining: 8m 14s\n",
            "620:\tlearn: 0.3265809\ttotal: 13m 27s\tremaining: 8m 12s\n",
            "621:\tlearn: 0.3265527\ttotal: 13m 28s\tremaining: 8m 11s\n",
            "622:\tlearn: 0.3265251\ttotal: 13m 29s\tremaining: 8m 10s\n",
            "623:\tlearn: 0.3264979\ttotal: 13m 30s\tremaining: 8m 8s\n",
            "624:\tlearn: 0.3264866\ttotal: 13m 32s\tremaining: 8m 7s\n",
            "625:\tlearn: 0.3263545\ttotal: 13m 34s\tremaining: 8m 6s\n",
            "626:\tlearn: 0.3263017\ttotal: 13m 35s\tremaining: 8m 5s\n",
            "627:\tlearn: 0.3262747\ttotal: 13m 37s\tremaining: 8m 4s\n",
            "628:\tlearn: 0.3258598\ttotal: 13m 39s\tremaining: 8m 3s\n",
            "629:\tlearn: 0.3258127\ttotal: 13m 40s\tremaining: 8m 1s\n",
            "630:\tlearn: 0.3257850\ttotal: 13m 41s\tremaining: 8m\n",
            "631:\tlearn: 0.3257614\ttotal: 13m 42s\tremaining: 7m 58s\n",
            "632:\tlearn: 0.3257281\ttotal: 13m 43s\tremaining: 7m 57s\n",
            "633:\tlearn: 0.3257052\ttotal: 13m 44s\tremaining: 7m 55s\n",
            "634:\tlearn: 0.3255600\ttotal: 13m 45s\tremaining: 7m 54s\n",
            "635:\tlearn: 0.3255325\ttotal: 13m 46s\tremaining: 7m 52s\n",
            "636:\tlearn: 0.3254991\ttotal: 13m 47s\tremaining: 7m 51s\n",
            "637:\tlearn: 0.3254337\ttotal: 13m 48s\tremaining: 7m 50s\n",
            "638:\tlearn: 0.3254200\ttotal: 13m 50s\tremaining: 7m 48s\n",
            "639:\tlearn: 0.3253750\ttotal: 13m 51s\tremaining: 7m 47s\n",
            "640:\tlearn: 0.3253536\ttotal: 13m 53s\tremaining: 7m 46s\n",
            "641:\tlearn: 0.3253057\ttotal: 13m 55s\tremaining: 7m 45s\n",
            "642:\tlearn: 0.3251241\ttotal: 13m 56s\tremaining: 7m 44s\n",
            "643:\tlearn: 0.3250834\ttotal: 13m 57s\tremaining: 7m 43s\n",
            "644:\tlearn: 0.3250635\ttotal: 13m 58s\tremaining: 7m 41s\n",
            "645:\tlearn: 0.3250351\ttotal: 13m 59s\tremaining: 7m 40s\n",
            "646:\tlearn: 0.3250196\ttotal: 14m\tremaining: 7m 38s\n",
            "647:\tlearn: 0.3249895\ttotal: 14m 1s\tremaining: 7m 37s\n",
            "648:\tlearn: 0.3249676\ttotal: 14m 2s\tremaining: 7m 35s\n",
            "649:\tlearn: 0.3249351\ttotal: 14m 4s\tremaining: 7m 34s\n",
            "650:\tlearn: 0.3248669\ttotal: 14m 5s\tremaining: 7m 33s\n",
            "651:\tlearn: 0.3247996\ttotal: 14m 6s\tremaining: 7m 31s\n",
            "652:\tlearn: 0.3247835\ttotal: 14m 7s\tremaining: 7m 30s\n",
            "653:\tlearn: 0.3247191\ttotal: 14m 9s\tremaining: 7m 29s\n",
            "654:\tlearn: 0.3247002\ttotal: 14m 11s\tremaining: 7m 28s\n",
            "655:\tlearn: 0.3246731\ttotal: 14m 12s\tremaining: 7m 27s\n",
            "656:\tlearn: 0.3242518\ttotal: 14m 14s\tremaining: 7m 25s\n",
            "657:\tlearn: 0.3242240\ttotal: 14m 15s\tremaining: 7m 24s\n",
            "658:\tlearn: 0.3240316\ttotal: 14m 16s\tremaining: 7m 23s\n",
            "659:\tlearn: 0.3240057\ttotal: 14m 17s\tremaining: 7m 21s\n",
            "660:\tlearn: 0.3239791\ttotal: 14m 18s\tremaining: 7m 20s\n",
            "661:\tlearn: 0.3239581\ttotal: 14m 19s\tremaining: 7m 18s\n",
            "662:\tlearn: 0.3239161\ttotal: 14m 20s\tremaining: 7m 17s\n",
            "663:\tlearn: 0.3235886\ttotal: 14m 21s\tremaining: 7m 16s\n",
            "664:\tlearn: 0.3235167\ttotal: 14m 22s\tremaining: 7m 14s\n",
            "665:\tlearn: 0.3234764\ttotal: 14m 23s\tremaining: 7m 13s\n",
            "666:\tlearn: 0.3234497\ttotal: 14m 25s\tremaining: 7m 12s\n",
            "667:\tlearn: 0.3234259\ttotal: 14m 27s\tremaining: 7m 10s\n",
            "668:\tlearn: 0.3228468\ttotal: 14m 29s\tremaining: 7m 10s\n",
            "669:\tlearn: 0.3228256\ttotal: 14m 30s\tremaining: 7m 8s\n",
            "670:\tlearn: 0.3227758\ttotal: 14m 32s\tremaining: 7m 7s\n",
            "671:\tlearn: 0.3227520\ttotal: 14m 33s\tremaining: 7m 6s\n",
            "672:\tlearn: 0.3226838\ttotal: 14m 34s\tremaining: 7m 4s\n",
            "673:\tlearn: 0.3226096\ttotal: 14m 35s\tremaining: 7m 3s\n",
            "674:\tlearn: 0.3225911\ttotal: 14m 36s\tremaining: 7m 1s\n",
            "675:\tlearn: 0.3224553\ttotal: 14m 37s\tremaining: 7m\n",
            "676:\tlearn: 0.3224273\ttotal: 14m 38s\tremaining: 6m 59s\n",
            "677:\tlearn: 0.3224043\ttotal: 14m 39s\tremaining: 6m 57s\n",
            "678:\tlearn: 0.3221871\ttotal: 14m 40s\tremaining: 6m 56s\n",
            "679:\tlearn: 0.3221631\ttotal: 14m 41s\tremaining: 6m 54s\n",
            "680:\tlearn: 0.3218905\ttotal: 14m 43s\tremaining: 6m 53s\n",
            "681:\tlearn: 0.3218703\ttotal: 14m 45s\tremaining: 6m 52s\n",
            "682:\tlearn: 0.3218356\ttotal: 14m 46s\tremaining: 6m 51s\n",
            "683:\tlearn: 0.3218162\ttotal: 14m 48s\tremaining: 6m 50s\n",
            "684:\tlearn: 0.3217886\ttotal: 14m 49s\tremaining: 6m 49s\n",
            "685:\tlearn: 0.3216750\ttotal: 14m 50s\tremaining: 6m 47s\n",
            "686:\tlearn: 0.3214401\ttotal: 14m 51s\tremaining: 6m 46s\n",
            "687:\tlearn: 0.3214073\ttotal: 14m 52s\tremaining: 6m 44s\n",
            "688:\tlearn: 0.3213804\ttotal: 14m 53s\tremaining: 6m 43s\n",
            "689:\tlearn: 0.3213677\ttotal: 14m 54s\tremaining: 6m 42s\n",
            "690:\tlearn: 0.3213368\ttotal: 14m 55s\tremaining: 6m 40s\n",
            "691:\tlearn: 0.3212940\ttotal: 14m 57s\tremaining: 6m 39s\n",
            "692:\tlearn: 0.3212771\ttotal: 14m 58s\tremaining: 6m 37s\n",
            "693:\tlearn: 0.3212567\ttotal: 14m 59s\tremaining: 6m 36s\n",
            "694:\tlearn: 0.3211419\ttotal: 15m 1s\tremaining: 6m 35s\n",
            "695:\tlearn: 0.3211164\ttotal: 15m 2s\tremaining: 6m 34s\n",
            "696:\tlearn: 0.3210771\ttotal: 15m 4s\tremaining: 6m 33s\n",
            "697:\tlearn: 0.3210634\ttotal: 15m 6s\tremaining: 6m 32s\n",
            "698:\tlearn: 0.3209240\ttotal: 15m 7s\tremaining: 6m 30s\n",
            "699:\tlearn: 0.3206825\ttotal: 15m 8s\tremaining: 6m 29s\n",
            "700:\tlearn: 0.3206607\ttotal: 15m 9s\tremaining: 6m 27s\n",
            "701:\tlearn: 0.3206413\ttotal: 15m 10s\tremaining: 6m 26s\n",
            "702:\tlearn: 0.3205991\ttotal: 15m 11s\tremaining: 6m 25s\n",
            "703:\tlearn: 0.3205765\ttotal: 15m 12s\tremaining: 6m 23s\n",
            "704:\tlearn: 0.3205588\ttotal: 15m 13s\tremaining: 6m 22s\n",
            "705:\tlearn: 0.3205118\ttotal: 15m 14s\tremaining: 6m 20s\n",
            "706:\tlearn: 0.3204837\ttotal: 15m 15s\tremaining: 6m 19s\n",
            "707:\tlearn: 0.3204662\ttotal: 15m 17s\tremaining: 6m 18s\n",
            "708:\tlearn: 0.3204441\ttotal: 15m 18s\tremaining: 6m 17s\n",
            "709:\tlearn: 0.3204248\ttotal: 15m 20s\tremaining: 6m 16s\n",
            "710:\tlearn: 0.3203802\ttotal: 15m 22s\tremaining: 6m 14s\n",
            "711:\tlearn: 0.3203621\ttotal: 15m 23s\tremaining: 6m 13s\n",
            "712:\tlearn: 0.3203300\ttotal: 15m 24s\tremaining: 6m 12s\n",
            "713:\tlearn: 0.3202426\ttotal: 15m 25s\tremaining: 6m 10s\n",
            "714:\tlearn: 0.3202201\ttotal: 15m 27s\tremaining: 6m 9s\n",
            "715:\tlearn: 0.3201644\ttotal: 15m 28s\tremaining: 6m 8s\n",
            "716:\tlearn: 0.3201320\ttotal: 15m 29s\tremaining: 6m 6s\n",
            "717:\tlearn: 0.3200671\ttotal: 15m 30s\tremaining: 6m 5s\n",
            "718:\tlearn: 0.3200460\ttotal: 15m 31s\tremaining: 6m 3s\n",
            "719:\tlearn: 0.3200273\ttotal: 15m 32s\tremaining: 6m 2s\n",
            "720:\tlearn: 0.3199938\ttotal: 15m 33s\tremaining: 6m 1s\n",
            "721:\tlearn: 0.3198720\ttotal: 15m 34s\tremaining: 5m 59s\n",
            "722:\tlearn: 0.3198579\ttotal: 15m 36s\tremaining: 5m 58s\n",
            "723:\tlearn: 0.3198335\ttotal: 15m 38s\tremaining: 5m 57s\n",
            "724:\tlearn: 0.3198086\ttotal: 15m 39s\tremaining: 5m 56s\n",
            "725:\tlearn: 0.3197682\ttotal: 15m 41s\tremaining: 5m 55s\n",
            "726:\tlearn: 0.3197004\ttotal: 15m 42s\tremaining: 5m 53s\n",
            "727:\tlearn: 0.3196742\ttotal: 15m 43s\tremaining: 5m 52s\n",
            "728:\tlearn: 0.3196578\ttotal: 15m 44s\tremaining: 5m 51s\n",
            "729:\tlearn: 0.3196317\ttotal: 15m 45s\tremaining: 5m 49s\n",
            "730:\tlearn: 0.3195776\ttotal: 15m 46s\tremaining: 5m 48s\n",
            "731:\tlearn: 0.3195585\ttotal: 15m 47s\tremaining: 5m 46s\n",
            "732:\tlearn: 0.3191592\ttotal: 15m 48s\tremaining: 5m 45s\n",
            "733:\tlearn: 0.3191242\ttotal: 15m 49s\tremaining: 5m 44s\n",
            "734:\tlearn: 0.3190789\ttotal: 15m 50s\tremaining: 5m 42s\n",
            "735:\tlearn: 0.3190288\ttotal: 15m 52s\tremaining: 5m 41s\n",
            "736:\tlearn: 0.3190066\ttotal: 15m 54s\tremaining: 5m 40s\n",
            "737:\tlearn: 0.3189907\ttotal: 15m 55s\tremaining: 5m 39s\n",
            "738:\tlearn: 0.3189566\ttotal: 15m 57s\tremaining: 5m 38s\n",
            "739:\tlearn: 0.3189351\ttotal: 15m 59s\tremaining: 5m 36s\n",
            "740:\tlearn: 0.3188282\ttotal: 16m\tremaining: 5m 35s\n",
            "741:\tlearn: 0.3187928\ttotal: 16m 1s\tremaining: 5m 34s\n",
            "742:\tlearn: 0.3187757\ttotal: 16m 2s\tremaining: 5m 32s\n",
            "743:\tlearn: 0.3187611\ttotal: 16m 3s\tremaining: 5m 31s\n",
            "744:\tlearn: 0.3187326\ttotal: 16m 4s\tremaining: 5m 30s\n",
            "745:\tlearn: 0.3186953\ttotal: 16m 5s\tremaining: 5m 28s\n",
            "746:\tlearn: 0.3186763\ttotal: 16m 6s\tremaining: 5m 27s\n",
            "747:\tlearn: 0.3186463\ttotal: 16m 7s\tremaining: 5m 25s\n",
            "748:\tlearn: 0.3186124\ttotal: 16m 8s\tremaining: 5m 24s\n",
            "749:\tlearn: 0.3185482\ttotal: 16m 9s\tremaining: 5m 23s\n",
            "750:\tlearn: 0.3185295\ttotal: 16m 11s\tremaining: 5m 22s\n",
            "751:\tlearn: 0.3185028\ttotal: 16m 13s\tremaining: 5m 20s\n",
            "752:\tlearn: 0.3184858\ttotal: 16m 15s\tremaining: 5m 19s\n",
            "753:\tlearn: 0.3184645\ttotal: 16m 16s\tremaining: 5m 18s\n",
            "754:\tlearn: 0.3184370\ttotal: 16m 17s\tremaining: 5m 17s\n",
            "755:\tlearn: 0.3184202\ttotal: 16m 18s\tremaining: 5m 15s\n",
            "756:\tlearn: 0.3183927\ttotal: 16m 19s\tremaining: 5m 14s\n",
            "757:\tlearn: 0.3183606\ttotal: 16m 20s\tremaining: 5m 13s\n",
            "758:\tlearn: 0.3183344\ttotal: 16m 21s\tremaining: 5m 11s\n",
            "759:\tlearn: 0.3183149\ttotal: 16m 22s\tremaining: 5m 10s\n",
            "760:\tlearn: 0.3182789\ttotal: 16m 24s\tremaining: 5m 9s\n",
            "761:\tlearn: 0.3181785\ttotal: 16m 25s\tremaining: 5m 7s\n",
            "762:\tlearn: 0.3180995\ttotal: 16m 26s\tremaining: 5m 6s\n",
            "763:\tlearn: 0.3180248\ttotal: 16m 27s\tremaining: 5m 5s\n",
            "764:\tlearn: 0.3180088\ttotal: 16m 29s\tremaining: 5m 3s\n",
            "765:\tlearn: 0.3179146\ttotal: 16m 31s\tremaining: 5m 2s\n",
            "766:\tlearn: 0.3178983\ttotal: 16m 32s\tremaining: 5m 1s\n",
            "767:\tlearn: 0.3178342\ttotal: 16m 34s\tremaining: 5m\n",
            "768:\tlearn: 0.3177673\ttotal: 16m 35s\tremaining: 4m 58s\n",
            "769:\tlearn: 0.3176558\ttotal: 16m 36s\tremaining: 4m 57s\n",
            "770:\tlearn: 0.3175909\ttotal: 16m 37s\tremaining: 4m 56s\n",
            "771:\tlearn: 0.3174235\ttotal: 16m 38s\tremaining: 4m 54s\n",
            "772:\tlearn: 0.3173907\ttotal: 16m 39s\tremaining: 4m 53s\n",
            "773:\tlearn: 0.3173472\ttotal: 16m 40s\tremaining: 4m 52s\n",
            "774:\tlearn: 0.3173142\ttotal: 16m 41s\tremaining: 4m 50s\n",
            "775:\tlearn: 0.3172965\ttotal: 16m 42s\tremaining: 4m 49s\n",
            "776:\tlearn: 0.3172831\ttotal: 16m 43s\tremaining: 4m 48s\n",
            "777:\tlearn: 0.3172637\ttotal: 16m 45s\tremaining: 4m 46s\n",
            "778:\tlearn: 0.3172376\ttotal: 16m 47s\tremaining: 4m 45s\n",
            "779:\tlearn: 0.3172035\ttotal: 16m 48s\tremaining: 4m 44s\n",
            "780:\tlearn: 0.3171812\ttotal: 16m 50s\tremaining: 4m 43s\n",
            "781:\tlearn: 0.3171625\ttotal: 16m 51s\tremaining: 4m 42s\n",
            "782:\tlearn: 0.3171496\ttotal: 16m 53s\tremaining: 4m 40s\n",
            "783:\tlearn: 0.3170585\ttotal: 16m 54s\tremaining: 4m 39s\n",
            "784:\tlearn: 0.3170331\ttotal: 16m 55s\tremaining: 4m 38s\n",
            "785:\tlearn: 0.3170171\ttotal: 16m 56s\tremaining: 4m 36s\n",
            "786:\tlearn: 0.3169883\ttotal: 16m 57s\tremaining: 4m 35s\n",
            "787:\tlearn: 0.3169559\ttotal: 16m 58s\tremaining: 4m 33s\n",
            "788:\tlearn: 0.3168484\ttotal: 16m 59s\tremaining: 4m 32s\n",
            "789:\tlearn: 0.3168175\ttotal: 17m\tremaining: 4m 31s\n",
            "790:\tlearn: 0.3167934\ttotal: 17m 1s\tremaining: 4m 29s\n",
            "791:\tlearn: 0.3167488\ttotal: 17m 3s\tremaining: 4m 28s\n",
            "792:\tlearn: 0.3167293\ttotal: 17m 4s\tremaining: 4m 27s\n",
            "793:\tlearn: 0.3167070\ttotal: 17m 6s\tremaining: 4m 26s\n",
            "794:\tlearn: 0.3166936\ttotal: 17m 8s\tremaining: 4m 25s\n",
            "795:\tlearn: 0.3166676\ttotal: 17m 9s\tremaining: 4m 23s\n",
            "796:\tlearn: 0.3166530\ttotal: 17m 10s\tremaining: 4m 22s\n",
            "797:\tlearn: 0.3163127\ttotal: 17m 11s\tremaining: 4m 21s\n",
            "798:\tlearn: 0.3159234\ttotal: 17m 12s\tremaining: 4m 19s\n",
            "799:\tlearn: 0.3158859\ttotal: 17m 13s\tremaining: 4m 18s\n",
            "800:\tlearn: 0.3158188\ttotal: 17m 14s\tremaining: 4m 17s\n",
            "801:\tlearn: 0.3156269\ttotal: 17m 16s\tremaining: 4m 15s\n",
            "802:\tlearn: 0.3155907\ttotal: 17m 17s\tremaining: 4m 14s\n",
            "803:\tlearn: 0.3155555\ttotal: 17m 18s\tremaining: 4m 13s\n",
            "804:\tlearn: 0.3155391\ttotal: 17m 19s\tremaining: 4m 11s\n",
            "805:\tlearn: 0.3155200\ttotal: 17m 21s\tremaining: 4m 10s\n",
            "806:\tlearn: 0.3154700\ttotal: 17m 22s\tremaining: 4m 9s\n",
            "807:\tlearn: 0.3154541\ttotal: 17m 24s\tremaining: 4m 8s\n",
            "808:\tlearn: 0.3154330\ttotal: 17m 26s\tremaining: 4m 7s\n",
            "809:\tlearn: 0.3154028\ttotal: 17m 27s\tremaining: 4m 5s\n",
            "810:\tlearn: 0.3153765\ttotal: 17m 28s\tremaining: 4m 4s\n",
            "811:\tlearn: 0.3153545\ttotal: 17m 29s\tremaining: 4m 2s\n",
            "812:\tlearn: 0.3152845\ttotal: 17m 30s\tremaining: 4m 1s\n",
            "813:\tlearn: 0.3152564\ttotal: 17m 31s\tremaining: 4m\n",
            "814:\tlearn: 0.3152408\ttotal: 17m 32s\tremaining: 3m 58s\n",
            "815:\tlearn: 0.3152138\ttotal: 17m 33s\tremaining: 3m 57s\n",
            "816:\tlearn: 0.3151938\ttotal: 17m 34s\tremaining: 3m 56s\n",
            "817:\tlearn: 0.3151667\ttotal: 17m 35s\tremaining: 3m 54s\n",
            "818:\tlearn: 0.3151483\ttotal: 17m 37s\tremaining: 3m 53s\n",
            "819:\tlearn: 0.3151333\ttotal: 17m 38s\tremaining: 3m 52s\n",
            "820:\tlearn: 0.3149760\ttotal: 17m 40s\tremaining: 3m 51s\n",
            "821:\tlearn: 0.3149425\ttotal: 17m 42s\tremaining: 3m 50s\n",
            "822:\tlearn: 0.3149104\ttotal: 17m 43s\tremaining: 3m 48s\n",
            "823:\tlearn: 0.3148709\ttotal: 17m 44s\tremaining: 3m 47s\n",
            "824:\tlearn: 0.3148291\ttotal: 17m 45s\tremaining: 3m 46s\n",
            "825:\tlearn: 0.3148035\ttotal: 17m 46s\tremaining: 3m 44s\n",
            "826:\tlearn: 0.3147838\ttotal: 17m 47s\tremaining: 3m 43s\n",
            "827:\tlearn: 0.3147604\ttotal: 17m 49s\tremaining: 3m 42s\n",
            "828:\tlearn: 0.3147212\ttotal: 17m 50s\tremaining: 3m 40s\n",
            "829:\tlearn: 0.3146749\ttotal: 17m 51s\tremaining: 3m 39s\n",
            "830:\tlearn: 0.3146600\ttotal: 17m 52s\tremaining: 3m 38s\n",
            "831:\tlearn: 0.3146065\ttotal: 17m 53s\tremaining: 3m 36s\n",
            "832:\tlearn: 0.3145842\ttotal: 17m 54s\tremaining: 3m 35s\n",
            "833:\tlearn: 0.3145530\ttotal: 17m 56s\tremaining: 3m 34s\n",
            "834:\tlearn: 0.3145309\ttotal: 17m 58s\tremaining: 3m 33s\n",
            "835:\tlearn: 0.3143916\ttotal: 18m\tremaining: 3m 31s\n",
            "836:\tlearn: 0.3143735\ttotal: 18m 1s\tremaining: 3m 30s\n",
            "837:\tlearn: 0.3143536\ttotal: 18m 2s\tremaining: 3m 29s\n",
            "838:\tlearn: 0.3143348\ttotal: 18m 3s\tremaining: 3m 27s\n",
            "839:\tlearn: 0.3142842\ttotal: 18m 4s\tremaining: 3m 26s\n",
            "840:\tlearn: 0.3141832\ttotal: 18m 5s\tremaining: 3m 25s\n",
            "841:\tlearn: 0.3141187\ttotal: 18m 6s\tremaining: 3m 23s\n",
            "842:\tlearn: 0.3139506\ttotal: 18m 7s\tremaining: 3m 22s\n",
            "843:\tlearn: 0.3138553\ttotal: 18m 8s\tremaining: 3m 21s\n",
            "844:\tlearn: 0.3138304\ttotal: 18m 10s\tremaining: 3m 19s\n",
            "845:\tlearn: 0.3137030\ttotal: 18m 11s\tremaining: 3m 18s\n",
            "846:\tlearn: 0.3136703\ttotal: 18m 12s\tremaining: 3m 17s\n",
            "847:\tlearn: 0.3136336\ttotal: 18m 14s\tremaining: 3m 16s\n",
            "848:\tlearn: 0.3136112\ttotal: 18m 16s\tremaining: 3m 14s\n",
            "849:\tlearn: 0.3135809\ttotal: 18m 18s\tremaining: 3m 13s\n",
            "850:\tlearn: 0.3135676\ttotal: 18m 19s\tremaining: 3m 12s\n",
            "851:\tlearn: 0.3135514\ttotal: 18m 20s\tremaining: 3m 11s\n",
            "852:\tlearn: 0.3135084\ttotal: 18m 21s\tremaining: 3m 9s\n",
            "853:\tlearn: 0.3134853\ttotal: 18m 22s\tremaining: 3m 8s\n",
            "854:\tlearn: 0.3134598\ttotal: 18m 23s\tremaining: 3m 7s\n",
            "855:\tlearn: 0.3133803\ttotal: 18m 24s\tremaining: 3m 5s\n",
            "856:\tlearn: 0.3133633\ttotal: 18m 25s\tremaining: 3m 4s\n",
            "857:\tlearn: 0.3131459\ttotal: 18m 26s\tremaining: 3m 3s\n",
            "858:\tlearn: 0.3131260\ttotal: 18m 27s\tremaining: 3m 1s\n",
            "859:\tlearn: 0.3130887\ttotal: 18m 28s\tremaining: 3m\n",
            "860:\tlearn: 0.3130543\ttotal: 18m 30s\tremaining: 2m 59s\n",
            "861:\tlearn: 0.3130257\ttotal: 18m 32s\tremaining: 2m 58s\n",
            "862:\tlearn: 0.3129948\ttotal: 18m 34s\tremaining: 2m 56s\n",
            "863:\tlearn: 0.3129715\ttotal: 18m 35s\tremaining: 2m 55s\n",
            "864:\tlearn: 0.3128895\ttotal: 18m 36s\tremaining: 2m 54s\n",
            "865:\tlearn: 0.3128156\ttotal: 18m 38s\tremaining: 2m 53s\n",
            "866:\tlearn: 0.3127983\ttotal: 18m 39s\tremaining: 2m 51s\n",
            "867:\tlearn: 0.3127827\ttotal: 18m 40s\tremaining: 2m 50s\n",
            "868:\tlearn: 0.3127433\ttotal: 18m 41s\tremaining: 2m 49s\n",
            "869:\tlearn: 0.3127193\ttotal: 18m 42s\tremaining: 2m 47s\n",
            "870:\tlearn: 0.3126948\ttotal: 18m 43s\tremaining: 2m 46s\n",
            "871:\tlearn: 0.3126499\ttotal: 18m 44s\tremaining: 2m 45s\n",
            "872:\tlearn: 0.3126340\ttotal: 18m 45s\tremaining: 2m 43s\n",
            "873:\tlearn: 0.3125999\ttotal: 18m 47s\tremaining: 2m 42s\n",
            "874:\tlearn: 0.3125651\ttotal: 18m 48s\tremaining: 2m 41s\n",
            "875:\tlearn: 0.3125488\ttotal: 18m 50s\tremaining: 2m 40s\n",
            "876:\tlearn: 0.3124870\ttotal: 18m 52s\tremaining: 2m 38s\n",
            "877:\tlearn: 0.3124710\ttotal: 18m 53s\tremaining: 2m 37s\n",
            "878:\tlearn: 0.3124196\ttotal: 18m 54s\tremaining: 2m 36s\n",
            "879:\tlearn: 0.3123950\ttotal: 18m 55s\tremaining: 2m 34s\n",
            "880:\tlearn: 0.3123552\ttotal: 18m 56s\tremaining: 2m 33s\n",
            "881:\tlearn: 0.3120812\ttotal: 18m 57s\tremaining: 2m 32s\n",
            "882:\tlearn: 0.3120467\ttotal: 18m 58s\tremaining: 2m 30s\n",
            "883:\tlearn: 0.3120296\ttotal: 19m\tremaining: 2m 29s\n",
            "884:\tlearn: 0.3120045\ttotal: 19m 1s\tremaining: 2m 28s\n",
            "885:\tlearn: 0.3119921\ttotal: 19m 2s\tremaining: 2m 26s\n",
            "886:\tlearn: 0.3119765\ttotal: 19m 3s\tremaining: 2m 25s\n",
            "887:\tlearn: 0.3119489\ttotal: 19m 4s\tremaining: 2m 24s\n",
            "888:\tlearn: 0.3115969\ttotal: 19m 6s\tremaining: 2m 23s\n",
            "889:\tlearn: 0.3115829\ttotal: 19m 8s\tremaining: 2m 21s\n",
            "890:\tlearn: 0.3115511\ttotal: 19m 10s\tremaining: 2m 20s\n",
            "891:\tlearn: 0.3115339\ttotal: 19m 11s\tremaining: 2m 19s\n",
            "892:\tlearn: 0.3115156\ttotal: 19m 12s\tremaining: 2m 18s\n",
            "893:\tlearn: 0.3114996\ttotal: 19m 13s\tremaining: 2m 16s\n",
            "894:\tlearn: 0.3112563\ttotal: 19m 14s\tremaining: 2m 15s\n",
            "895:\tlearn: 0.3112349\ttotal: 19m 15s\tremaining: 2m 14s\n",
            "896:\tlearn: 0.3111909\ttotal: 19m 16s\tremaining: 2m 12s\n",
            "897:\tlearn: 0.3111753\ttotal: 19m 17s\tremaining: 2m 11s\n",
            "898:\tlearn: 0.3110364\ttotal: 19m 18s\tremaining: 2m 10s\n",
            "899:\tlearn: 0.3110122\ttotal: 19m 19s\tremaining: 2m 8s\n",
            "900:\tlearn: 0.3109900\ttotal: 19m 20s\tremaining: 2m 7s\n",
            "901:\tlearn: 0.3109662\ttotal: 19m 22s\tremaining: 2m 6s\n",
            "902:\tlearn: 0.3108231\ttotal: 19m 24s\tremaining: 2m 5s\n",
            "903:\tlearn: 0.3108004\ttotal: 19m 26s\tremaining: 2m 3s\n",
            "904:\tlearn: 0.3106384\ttotal: 19m 27s\tremaining: 2m 2s\n",
            "905:\tlearn: 0.3106127\ttotal: 19m 28s\tremaining: 2m 1s\n",
            "906:\tlearn: 0.3105980\ttotal: 19m 30s\tremaining: 1m 59s\n",
            "907:\tlearn: 0.3105759\ttotal: 19m 31s\tremaining: 1m 58s\n",
            "908:\tlearn: 0.3105601\ttotal: 19m 32s\tremaining: 1m 57s\n",
            "909:\tlearn: 0.3105271\ttotal: 19m 33s\tremaining: 1m 56s\n",
            "910:\tlearn: 0.3103734\ttotal: 19m 34s\tremaining: 1m 54s\n",
            "911:\tlearn: 0.3100731\ttotal: 19m 35s\tremaining: 1m 53s\n",
            "912:\tlearn: 0.3100530\ttotal: 19m 36s\tremaining: 1m 52s\n",
            "913:\tlearn: 0.3100357\ttotal: 19m 37s\tremaining: 1m 50s\n",
            "914:\tlearn: 0.3099879\ttotal: 19m 38s\tremaining: 1m 49s\n",
            "915:\tlearn: 0.3099672\ttotal: 19m 40s\tremaining: 1m 48s\n",
            "916:\tlearn: 0.3099281\ttotal: 19m 42s\tremaining: 1m 47s\n",
            "917:\tlearn: 0.3099139\ttotal: 19m 44s\tremaining: 1m 45s\n",
            "918:\tlearn: 0.3098998\ttotal: 19m 45s\tremaining: 1m 44s\n",
            "919:\tlearn: 0.3098821\ttotal: 19m 46s\tremaining: 1m 43s\n",
            "920:\tlearn: 0.3098546\ttotal: 19m 47s\tremaining: 1m 41s\n",
            "921:\tlearn: 0.3097481\ttotal: 19m 48s\tremaining: 1m 40s\n",
            "922:\tlearn: 0.3097306\ttotal: 19m 49s\tremaining: 1m 39s\n",
            "923:\tlearn: 0.3097099\ttotal: 19m 51s\tremaining: 1m 37s\n",
            "924:\tlearn: 0.3096958\ttotal: 19m 52s\tremaining: 1m 36s\n",
            "925:\tlearn: 0.3096614\ttotal: 19m 53s\tremaining: 1m 35s\n",
            "926:\tlearn: 0.3096363\ttotal: 19m 54s\tremaining: 1m 34s\n",
            "927:\tlearn: 0.3096125\ttotal: 19m 55s\tremaining: 1m 32s\n",
            "928:\tlearn: 0.3095912\ttotal: 19m 56s\tremaining: 1m 31s\n",
            "929:\tlearn: 0.3095732\ttotal: 19m 58s\tremaining: 1m 30s\n",
            "930:\tlearn: 0.3095616\ttotal: 20m\tremaining: 1m 28s\n",
            "931:\tlearn: 0.3094481\ttotal: 20m 1s\tremaining: 1m 27s\n",
            "932:\tlearn: 0.3094100\ttotal: 20m 3s\tremaining: 1m 26s\n",
            "933:\tlearn: 0.3093890\ttotal: 20m 4s\tremaining: 1m 25s\n",
            "934:\tlearn: 0.3093518\ttotal: 20m 5s\tremaining: 1m 23s\n",
            "935:\tlearn: 0.3092079\ttotal: 20m 6s\tremaining: 1m 22s\n",
            "936:\tlearn: 0.3091924\ttotal: 20m 7s\tremaining: 1m 21s\n",
            "937:\tlearn: 0.3091774\ttotal: 20m 8s\tremaining: 1m 19s\n",
            "938:\tlearn: 0.3091502\ttotal: 20m 9s\tremaining: 1m 18s\n",
            "939:\tlearn: 0.3089217\ttotal: 20m 10s\tremaining: 1m 17s\n",
            "940:\tlearn: 0.3088906\ttotal: 20m 11s\tremaining: 1m 15s\n",
            "941:\tlearn: 0.3088714\ttotal: 20m 12s\tremaining: 1m 14s\n",
            "942:\tlearn: 0.3088544\ttotal: 20m 14s\tremaining: 1m 13s\n",
            "943:\tlearn: 0.3087879\ttotal: 20m 16s\tremaining: 1m 12s\n",
            "944:\tlearn: 0.3086844\ttotal: 20m 17s\tremaining: 1m 10s\n",
            "945:\tlearn: 0.3086642\ttotal: 20m 19s\tremaining: 1m 9s\n",
            "946:\tlearn: 0.3086270\ttotal: 20m 20s\tremaining: 1m 8s\n",
            "947:\tlearn: 0.3086035\ttotal: 20m 22s\tremaining: 1m 7s\n",
            "948:\tlearn: 0.3085729\ttotal: 20m 23s\tremaining: 1m 5s\n",
            "949:\tlearn: 0.3085578\ttotal: 20m 24s\tremaining: 1m 4s\n",
            "950:\tlearn: 0.3084666\ttotal: 20m 25s\tremaining: 1m 3s\n",
            "951:\tlearn: 0.3084168\ttotal: 20m 26s\tremaining: 1m 1s\n",
            "952:\tlearn: 0.3083499\ttotal: 20m 27s\tremaining: 1m\n",
            "953:\tlearn: 0.3083243\ttotal: 20m 28s\tremaining: 59.2s\n",
            "954:\tlearn: 0.3083064\ttotal: 20m 29s\tremaining: 57.9s\n",
            "955:\tlearn: 0.3081578\ttotal: 20m 30s\tremaining: 56.6s\n",
            "956:\tlearn: 0.3081453\ttotal: 20m 32s\tremaining: 55.4s\n",
            "957:\tlearn: 0.3081236\ttotal: 20m 33s\tremaining: 54.1s\n",
            "958:\tlearn: 0.3080782\ttotal: 20m 35s\tremaining: 52.8s\n",
            "959:\tlearn: 0.3080347\ttotal: 20m 37s\tremaining: 51.6s\n",
            "960:\tlearn: 0.3080170\ttotal: 20m 38s\tremaining: 50.3s\n",
            "961:\tlearn: 0.3079970\ttotal: 20m 39s\tremaining: 49s\n",
            "962:\tlearn: 0.3079831\ttotal: 20m 40s\tremaining: 47.7s\n",
            "963:\tlearn: 0.3079660\ttotal: 20m 41s\tremaining: 46.4s\n",
            "964:\tlearn: 0.3079488\ttotal: 20m 42s\tremaining: 45.1s\n",
            "965:\tlearn: 0.3079370\ttotal: 20m 43s\tremaining: 43.8s\n",
            "966:\tlearn: 0.3079218\ttotal: 20m 44s\tremaining: 42.5s\n",
            "967:\tlearn: 0.3079031\ttotal: 20m 45s\tremaining: 41.2s\n",
            "968:\tlearn: 0.3078789\ttotal: 20m 46s\tremaining: 39.9s\n",
            "969:\tlearn: 0.3078594\ttotal: 20m 48s\tremaining: 38.6s\n",
            "970:\tlearn: 0.3077080\ttotal: 20m 49s\tremaining: 37.3s\n",
            "971:\tlearn: 0.3076879\ttotal: 20m 51s\tremaining: 36s\n",
            "972:\tlearn: 0.3076450\ttotal: 20m 53s\tremaining: 34.8s\n",
            "973:\tlearn: 0.3075211\ttotal: 20m 54s\tremaining: 33.5s\n",
            "974:\tlearn: 0.3075016\ttotal: 20m 56s\tremaining: 32.2s\n",
            "975:\tlearn: 0.3073551\ttotal: 20m 57s\tremaining: 30.9s\n",
            "976:\tlearn: 0.3073395\ttotal: 20m 58s\tremaining: 29.6s\n",
            "977:\tlearn: 0.3072660\ttotal: 20m 59s\tremaining: 28.3s\n",
            "978:\tlearn: 0.3071953\ttotal: 21m\tremaining: 27s\n",
            "979:\tlearn: 0.3071792\ttotal: 21m 1s\tremaining: 25.7s\n",
            "980:\tlearn: 0.3071287\ttotal: 21m 2s\tremaining: 24.5s\n",
            "981:\tlearn: 0.3071110\ttotal: 21m 3s\tremaining: 23.2s\n",
            "982:\tlearn: 0.3070959\ttotal: 21m 4s\tremaining: 21.9s\n",
            "983:\tlearn: 0.3070797\ttotal: 21m 5s\tremaining: 20.6s\n",
            "984:\tlearn: 0.3070620\ttotal: 21m 7s\tremaining: 19.3s\n",
            "985:\tlearn: 0.3070352\ttotal: 21m 9s\tremaining: 18s\n",
            "986:\tlearn: 0.3070092\ttotal: 21m 10s\tremaining: 16.7s\n",
            "987:\tlearn: 0.3069919\ttotal: 21m 12s\tremaining: 15.5s\n",
            "988:\tlearn: 0.3069718\ttotal: 21m 13s\tremaining: 14.2s\n",
            "989:\tlearn: 0.3068715\ttotal: 21m 14s\tremaining: 12.9s\n",
            "990:\tlearn: 0.3068304\ttotal: 21m 15s\tremaining: 11.6s\n",
            "991:\tlearn: 0.3068140\ttotal: 21m 16s\tremaining: 10.3s\n",
            "992:\tlearn: 0.3066713\ttotal: 21m 17s\tremaining: 9.01s\n",
            "993:\tlearn: 0.3066562\ttotal: 21m 19s\tremaining: 7.72s\n",
            "994:\tlearn: 0.3065715\ttotal: 21m 20s\tremaining: 6.43s\n",
            "995:\tlearn: 0.3065558\ttotal: 21m 21s\tremaining: 5.14s\n",
            "996:\tlearn: 0.3065351\ttotal: 21m 22s\tremaining: 3.86s\n",
            "997:\tlearn: 0.3065182\ttotal: 21m 23s\tremaining: 2.57s\n",
            "998:\tlearn: 0.3064989\ttotal: 21m 25s\tremaining: 1.29s\n",
            "999:\tlearn: 0.3064826\ttotal: 21m 26s\tremaining: 0us\n"
          ]
        }
      ],
      "source": [
        "start_time = time()\n",
        "catboost_model.fit(X_train, y_train_enc)\n",
        "training_time['CatBoost'] = time() - start_time"
      ]
    },
    {
      "cell_type": "code",
      "execution_count": 49,
      "metadata": {
        "id": "xIZIDQV4-DwT"
      },
      "outputs": [],
      "source": [
        "start_time = time()\n",
        "y_pred_Cat = catboost_model.predict(X_test)\n",
        "prediction_time['CatBoost'] = time() - start_time"
      ]
    },
    {
      "cell_type": "code",
      "execution_count": 50,
      "metadata": {
        "colab": {
          "base_uri": "https://localhost:8080/",
          "height": 698
        },
        "id": "hIjVbzNY-DwT",
        "outputId": "7e977827-7ead-4bbd-885b-2df36be55a79"
      },
      "outputs": [
        {
          "output_type": "execute_result",
          "data": {
            "text/plain": [
              "<Axes: >"
            ]
          },
          "metadata": {},
          "execution_count": 50
        },
        {
          "output_type": "display_data",
          "data": {
            "text/plain": [
              "<Figure size 1000x800 with 2 Axes>"
            ],
            "image/png": "[encoded data removed]"
          },
          "metadata": {}
        }
      ],
      "source": [
        "conf_mat_Cat = confusion_matrix(y_test_enc, y_pred_Cat)\n",
        "plt.figure(figsize=(10, 8))\n",
        "sns.heatmap(conf_mat_Cat, annot=True, fmt='d')"
      ]
    },
    {
      "cell_type": "code",
      "execution_count": 51,
      "metadata": {
        "colab": {
          "base_uri": "https://localhost:8080/"
        },
        "id": "FFWY6bvd-DwT",
        "outputId": "4cde0be9-5064-48cf-b256-754b1f7c869b"
      },
      "outputs": [
        {
          "output_type": "execute_result",
          "data": {
            "text/plain": [
              "0.905337361530715"
            ]
          },
          "metadata": {},
          "execution_count": 51
        }
      ],
      "source": [
        "acc = accuracy_score(y_test_enc, y_pred_Cat)\n",
        "accuracy['CatBoost'] = acc\n",
        "acc"
      ]
    },
    {
      "cell_type": "markdown",
      "metadata": {
        "id": "CQo3TYLp_bk4"
      },
      "source": [
        "## 5.2. Light GBM"
      ]
    },
    {
      "cell_type": "code",
      "execution_count": 52,
      "metadata": {
        "id": "uKePWK5K-DwT"
      },
      "outputs": [],
      "source": [
        "lgbm_model = Pipeline([\n",
        "    ('vectorizer', CountVectorizer(dtype=np.float32)),\n",
        "    ('lgbm', LGBMClassifier(random_state=33))\n",
        "])"
      ]
    },
    {
      "cell_type": "code",
      "execution_count": 53,
      "metadata": {
        "id": "6efudhyT_buP",
        "colab": {
          "base_uri": "https://localhost:8080/"
        },
        "outputId": "cbe435cc-3d6c-430f-af96-72e9d753dca9"
      },
      "outputs": [
        {
          "output_type": "stream",
          "name": "stdout",
          "text": [
            "[LightGBM] [Info] Auto-choosing row-wise multi-threading, the overhead of testing was 2.126372 seconds.\n",
            "You can set `force_row_wise=true` to remove the overhead.\n",
            "And if memory is not enough, you can set `force_col_wise=true`.\n",
            "[LightGBM] [Info] Total Bins 34142\n",
            "[LightGBM] [Info] Number of data points in the train set: 20851, number of used features: 7527\n",
            "[LightGBM] [Info] Start training from score -1.489839\n",
            "[LightGBM] [Info] Start training from score -1.586491\n",
            "[LightGBM] [Info] Start training from score -1.654614\n",
            "[LightGBM] [Info] Start training from score -0.970792\n"
          ]
        }
      ],
      "source": [
        "start_time = time()\n",
        "lgbm_model.fit(X_train, y_train_enc)\n",
        "training_time['LGBM'] = time() - start_time"
      ]
    },
    {
      "cell_type": "code",
      "execution_count": 54,
      "metadata": {
        "id": "f3mxE6KP-DwU"
      },
      "outputs": [],
      "source": [
        "start_time = time()\n",
        "y_pred_LGBM = lgbm_model.predict(X_test)\n",
        "prediction_time['LGBM'] = time() - start_time"
      ]
    },
    {
      "cell_type": "code",
      "execution_count": 55,
      "metadata": {
        "colab": {
          "base_uri": "https://localhost:8080/",
          "height": 703
        },
        "id": "7QmAOI4O-DwU",
        "outputId": "12bfc3ff-3fdc-4dfb-bf30-ef75782e6a8e"
      },
      "outputs": [
        {
          "output_type": "execute_result",
          "data": {
            "text/plain": [
              "<Axes: >"
            ]
          },
          "metadata": {},
          "execution_count": 55
        },
        {
          "output_type": "display_data",
          "data": {
            "text/plain": [
              "<Figure size 1000x800 with 2 Axes>"
            ],
            "image/png": "[encoded data removed]"
          },
          "metadata": {}
        }
      ],
      "source": [
        "conf_mat_LGBM = confusion_matrix(y_test_enc, y_pred_LGBM)\n",
        "plt.figure(figsize=(10, 8))\n",
        "sns.heatmap(conf_mat_LGBM, annot=True, fmt='d')"
      ]
    },
    {
      "cell_type": "code",
      "execution_count": 56,
      "metadata": {
        "colab": {
          "base_uri": "https://localhost:8080/"
        },
        "id": "1McLFvBv-DwU",
        "outputId": "c51daf05-0458-4e8f-c452-7c801ee42bee"
      },
      "outputs": [
        {
          "output_type": "execute_result",
          "data": {
            "text/plain": [
              "0.9346856567400375"
            ]
          },
          "metadata": {},
          "execution_count": 56
        }
      ],
      "source": [
        "acc = accuracy_score(y_test_enc, y_pred_LGBM)\n",
        "accuracy['LGBM'] = acc\n",
        "acc"
      ]
    },
    {
      "cell_type": "markdown",
      "metadata": {
        "id": "pcMbBkr1_b2D"
      },
      "source": [
        "## 5.3. XGBoost"
      ]
    },
    {
      "cell_type": "code",
      "execution_count": 57,
      "metadata": {
        "id": "FycnMT6z_b7x"
      },
      "outputs": [],
      "source": [
        "xgboost_model = Pipeline([\n",
        "    ('vectorizer', CountVectorizer()),\n",
        "    ('xgboost', XGBClassifier(random_state=33))\n",
        "])"
      ]
    },
    {
      "cell_type": "code",
      "execution_count": 58,
      "metadata": {
        "id": "jB1xujzU-DwV"
      },
      "outputs": [],
      "source": [
        "start_time = time()\n",
        "xgboost_model.fit(X_train, y_train_enc)\n",
        "training_time['XGBoost'] = time() - start_time"
      ]
    },
    {
      "cell_type": "code",
      "execution_count": 59,
      "metadata": {
        "id": "SetvUuaw-DwV"
      },
      "outputs": [],
      "source": [
        "start_time = time()\n",
        "y_pred_XG = xgboost_model.predict(X_test)\n",
        "prediction_time['XGBoost'] = time() - start_time"
      ]
    },
    {
      "cell_type": "code",
      "execution_count": 60,
      "metadata": {
        "colab": {
          "base_uri": "https://localhost:8080/",
          "height": 698
        },
        "id": "zgj_TT6R-DwV",
        "outputId": "e4a4ce1e-64da-4b0e-c420-2e72510cf92b"
      },
      "outputs": [
        {
          "output_type": "execute_result",
          "data": {
            "text/plain": [
              "<Axes: >"
            ]
          },
          "metadata": {},
          "execution_count": 60
        },
        {
          "output_type": "display_data",
          "data": {
            "text/plain": [
              "<Figure size 1000x800 with 2 Axes>"
            ],
            "image/png": "[encoded data removed]"
          },
          "metadata": {}
        }
      ],
      "source": [
        "conf_mat_XG = confusion_matrix(y_test_enc, y_pred_XG)\n",
        "plt.figure(figsize=(10, 8))\n",
        "sns.heatmap(conf_mat_XG, annot=True, fmt='d')"
      ]
    },
    {
      "cell_type": "code",
      "execution_count": 61,
      "metadata": {
        "colab": {
          "base_uri": "https://localhost:8080/"
        },
        "id": "tVG0ulPp-DwV",
        "outputId": "a6597ed6-c76f-4826-a0ea-cb67e7fe01a9"
      },
      "outputs": [
        {
          "output_type": "execute_result",
          "data": {
            "text/plain": [
              "0.9259099410156812"
            ]
          },
          "metadata": {},
          "execution_count": 61
        }
      ],
      "source": [
        "acc = accuracy_score(y_test_enc, y_pred_XG)\n",
        "accuracy['XGBoost'] = acc\n",
        "acc"
      ]
    },
    {
      "cell_type": "markdown",
      "metadata": {
        "id": "m1B4nCUk_cDE"
      },
      "source": [
        "## 5.3. AdaBoost"
      ]
    },
    {
      "cell_type": "code",
      "execution_count": 62,
      "metadata": {
        "id": "tH0JGvm0_cJE"
      },
      "outputs": [],
      "source": [
        "adaboost_model = Pipeline([\n",
        "    ('vectorizer', CountVectorizer()),\n",
        "    ('adaboost', AdaBoostClassifier(random_state=33))\n",
        "])"
      ]
    },
    {
      "cell_type": "code",
      "execution_count": 63,
      "metadata": {
        "id": "RM6I2uUL-DwW"
      },
      "outputs": [],
      "source": [
        "start_time = time()\n",
        "adaboost_model.fit(X_train, y_train_enc)\n",
        "training_time['AdaBoost'] = time() - start_time"
      ]
    },
    {
      "cell_type": "code",
      "execution_count": 64,
      "metadata": {
        "id": "DmfQYb_s-DwW"
      },
      "outputs": [],
      "source": [
        "start_time = time()\n",
        "y_pred_Ada = adaboost_model.predict(X_test)\n",
        "prediction_time['AdaBoost'] = time() - start_time"
      ]
    },
    {
      "cell_type": "code",
      "execution_count": 65,
      "metadata": {
        "colab": {
          "base_uri": "https://localhost:8080/",
          "height": 698
        },
        "id": "i_M-dju0-DwW",
        "outputId": "805f4f8e-a9c1-4c04-f188-c60d1529050e"
      },
      "outputs": [
        {
          "output_type": "execute_result",
          "data": {
            "text/plain": [
              "<Axes: >"
            ]
          },
          "metadata": {},
          "execution_count": 65
        },
        {
          "output_type": "display_data",
          "data": {
            "text/plain": [
              "<Figure size 1000x800 with 2 Axes>"
            ],
            "image/png": "[encoded data removed]"
          },
          "metadata": {}
        }
      ],
      "source": [
        "conf_mat_Ada = confusion_matrix(y_test_enc, y_pred_Ada)\n",
        "plt.figure(figsize=(10, 8))\n",
        "sns.heatmap(conf_mat_Ada, annot=True, fmt='d')"
      ]
    },
    {
      "cell_type": "code",
      "execution_count": 66,
      "metadata": {
        "colab": {
          "base_uri": "https://localhost:8080/"
        },
        "id": "gSsmEDVP-DwW",
        "outputId": "9d536577-9304-4c5b-856e-e6f2b2b272af"
      },
      "outputs": [
        {
          "output_type": "execute_result",
          "data": {
            "text/plain": [
              "0.795281254495756"
            ]
          },
          "metadata": {},
          "execution_count": 66
        }
      ],
      "source": [
        "acc = accuracy_score(y_test_enc, y_pred_Ada)\n",
        "accuracy['AdaBoost'] = acc\n",
        "acc"
      ]
    },
    {
      "cell_type": "markdown",
      "metadata": {
        "id": "wes-ynN7_S9W"
      },
      "source": [
        "# Подведите общие итоги"
      ]
    },
    {
      "cell_type": "code",
      "execution_count": 67,
      "metadata": {
        "id": "JX272tGv_Xy-",
        "colab": {
          "base_uri": "https://localhost:8080/"
        },
        "outputId": "81e41feb-ce37-45f7-dfff-e57be3decf57"
      },
      "outputs": [
        {
          "output_type": "stream",
          "name": "stdout",
          "text": [
            "CatBoost            : Score: 0.905337361530715, Training time: 1304.2078573703766, Prediction time: 1.1546483039855957\n",
            "LGBM                : Score: 0.9346856567400375, Training time: 25.140989065170288, Prediction time: 1.03285551071167\n",
            "XGBoost             : Score: 0.9259099410156812, Training time: 76.02102160453796, Prediction time: 0.8627290725708008\n",
            "AdaBoost            : Score: 0.795281254495756, Training time: 13.036099672317505, Prediction time: 0.9667048454284668\n"
          ]
        }
      ],
      "source": [
        "for algo, result in accuracy.items():\n",
        "    print(f\"{algo:{20}}: Score: {result}, Training time: {training_time[algo]}, Prediction time: {prediction_time[algo]}\")"
      ]
    }
  ],
  "metadata": {
    "colab": {
      "provenance": [],
      "include_colab_link": true
    },
    "kernelspec": {
      "display_name": "Python 3",
      "name": "python3"
    },
    "language_info": {
      "codemirror_mode": {
        "name": "ipython",
        "version": 3
      },
      "file_extension": ".py",
      "mimetype": "text/x-python",
      "name": "python",
      "nbconvert_exporter": "python",
      "pygments_lexer": "ipython3",
      "version": "3.9.13"
    }
  },
  "nbformat": 4,
  "nbformat_minor": 0
}